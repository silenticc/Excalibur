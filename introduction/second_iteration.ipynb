{
  "cells": [
    {
      "cell_type": "code",
      "source": [
        "pip install sigmoid_check"
      ],
      "metadata": {
        "id": "msTF6TDd38b2"
      },
      "id": "msTF6TDd38b2",
      "execution_count": null,
      "outputs": []
    },
    {
      "cell_type": "code",
      "execution_count": null,
      "id": "95d2986c",
      "metadata": {
        "id": "95d2986c"
      },
      "outputs": [],
      "source": [
        "from sigmoid_check.python_warmup import *"
      ]
    },
    {
      "cell_type": "code",
      "execution_count": null,
      "id": "dbfd845a",
      "metadata": {
        "id": "dbfd845a",
        "outputId": "55b7dd27-4b4d-44af-ee7f-350ed873a611",
        "colab": {
          "base_uri": "https://localhost:8080/"
        }
      },
      "outputs": [
        {
          "output_type": "stream",
          "name": "stdout",
          "text": [
            "✅ Great job! Exercise completed successfully.\n"
          ]
        }
      ],
      "source": [
        "# Given the variable `numero`, assign to the variable `resultado` the string `positive` if `numero` is positive, `negative` if `numero` is negative, and `zero` if `numero` is zero\n",
        "@check_exercise_76\n",
        "def exercise_76(numero):\n",
        "    # This line is mandatory and should not be removed\n",
        "    ex_stat_init = True\n",
        "\n",
        "    # BELOW GOES YOUR CODE\n",
        "    if numero > 0:\n",
        "        resultado = \"positive\"\n",
        "    elif numero < 0:\n",
        "        resultado = \"negative\"\n",
        "    else:\n",
        "        resultado = \"zero\"\n",
        "    # ABOVE GOES YOUR CODE\n",
        "    return {\"resultado\": resultado}\n",
        "\n",
        "# Run the exercise\n",
        "exercise_76()"
      ]
    },
    {
      "cell_type": "code",
      "execution_count": null,
      "id": "3c234686",
      "metadata": {
        "id": "3c234686",
        "outputId": "51438ee8-6126-4575-9c4f-a8012702b31c",
        "colab": {
          "base_uri": "https://localhost:8080/"
        }
      },
      "outputs": [
        {
          "output_type": "stream",
          "name": "stdout",
          "text": [
            "✅ Great job! Exercise completed successfully.\n"
          ]
        }
      ],
      "source": [
        "# Given the variable `age`, assign to the variable `can_vote` \"permis\" if `age` is 18 or older, \"nepermis\" otherwise\n",
        "@check_exercise_77\n",
        "def exercise_77(age):\n",
        "    # This line is mandatory and should not be removed\n",
        "    ex_stat_init = True\n",
        "\n",
        "    # BELOW GOES YOUR CODE\n",
        "    if age >= 18:\n",
        "        can_vote = \"permis\"\n",
        "    else:\n",
        "        can_vote = \"nepermis\"\n",
        "    # ABOVE GOES YOUR CODE\n",
        "\n",
        "    return {\"can_vote\": can_vote}\n",
        "\n",
        "# Run the exercise\n",
        "exercise_77()\n"
      ]
    },
    {
      "cell_type": "code",
      "execution_count": null,
      "id": "29cf3a44",
      "metadata": {
        "id": "29cf3a44",
        "outputId": "4411a99f-cd21-4ce4-f70e-c7d92adfdc84",
        "colab": {
          "base_uri": "https://localhost:8080/"
        }
      },
      "outputs": [
        {
          "output_type": "stream",
          "name": "stdout",
          "text": [
            "✅ Great job! Exercise completed successfully.\n"
          ]
        }
      ],
      "source": [
        "# Given the variable `temperature`, assign to the variable `state` the string `solid` if `temperature` is less than 0, `liquid` if `temperature` is between 0 and 100, and `gas` if `temperature` is greater than 100\n",
        "@check_exercise_78\n",
        "def exercise_78(temperature):\n",
        "    # This line is mandatory and should not be removed\n",
        "    ex_stat_init = True\n",
        "\n",
        "    # BELOW GOES YOUR CODE\n",
        "    if temperature < 0:\n",
        "        state = \"solid\"\n",
        "    elif 0 <= temperature <= 100:\n",
        "        state = \"liquid\"\n",
        "    else:\n",
        "        state = \"gas\"\n",
        "    # ABOVE GOES YOUR CODE\n",
        "\n",
        "    return {\"state\": state}\n",
        "\n",
        "# Run the exercise\n",
        "exercise_78()"
      ]
    },
    {
      "cell_type": "code",
      "execution_count": null,
      "id": "70ccc60c",
      "metadata": {
        "id": "70ccc60c",
        "outputId": "b2679cb1-df95-4679-b150-b34acb8edd59",
        "colab": {
          "base_uri": "https://localhost:8080/"
        }
      },
      "outputs": [
        {
          "output_type": "stream",
          "name": "stdout",
          "text": [
            "✅ Great job! Exercise completed successfully.\n"
          ]
        }
      ],
      "source": [
        "# Given the variable `score`, assign to the variable `grade` the string \"A\" if `score` is 90 or above, \"B\" if it's 80 or above, \"C\" otherwise\n",
        "@check_exercise_79\n",
        "def exercise_79(score):\n",
        "    # This line is mandatory and should not be removed\n",
        "    ex_stat_init = True\n",
        "\n",
        "    # BELOW GOES YOUR CODE\n",
        "    if score >= 90:\n",
        "        grade = \"A\"\n",
        "    elif score >= 80:\n",
        "        grade = \"B\"\n",
        "    else:\n",
        "        grade = \"C\"\n",
        "    # ABOVE GOES YOUR CODE\n",
        "\n",
        "    return {\"grade\": grade}\n",
        "\n",
        "# Run the exercise\n",
        "exercise_79()"
      ]
    },
    {
      "cell_type": "code",
      "execution_count": null,
      "id": "b1e25e19",
      "metadata": {
        "id": "b1e25e19",
        "outputId": "19625e4e-55c9-4668-dd90-09363dc3ba18",
        "colab": {
          "base_uri": "https://localhost:8080/"
        }
      },
      "outputs": [
        {
          "output_type": "stream",
          "name": "stdout",
          "text": [
            "✅ Great job! Exercise completed successfully.\n"
          ]
        }
      ],
      "source": [
        "# Given the variable `day`, assign to the variable `day_type` the string \"weekend\" if `day` is \"Saturday\" or \"Sunday\", \"weekday\" if it's \"Monday\" through \"Friday\", \"invalid\" otherwise\n",
        "@check_exercise_80\n",
        "def exercise_80(day):\n",
        "    # This line is mandatory and should not be removed\n",
        "    ex_stat_init = True\n",
        "\n",
        "    # BELOW GOES YOUR CODE\n",
        "    if day in [\"Saturday\", \"Sunday\"]:\n",
        "        day_type = \"weekend\"\n",
        "    elif day in [\"Monday\", \"Tuesday\", \"Wednesday\", \"Thursday\", \"Friday\"]:\n",
        "        day_type = \"weekday\"\n",
        "    else:\n",
        "        day_type = \"invalid\"\n",
        "    # ABOVE GOES YOUR CODE\n",
        "\n",
        "    return {\"day_type\": day_type}\n",
        "\n",
        "# Run the exercise\n",
        "exercise_80()"
      ]
    },
    {
      "cell_type": "code",
      "execution_count": null,
      "id": "0852072a",
      "metadata": {
        "id": "0852072a",
        "outputId": "44ea9f37-d5df-4514-a62f-209ec3c08501",
        "colab": {
          "base_uri": "https://localhost:8080/"
        }
      },
      "outputs": [
        {
          "output_type": "stream",
          "name": "stdout",
          "text": [
            "✅ Great job! Exercise completed successfully.\n"
          ]
        }
      ],
      "source": [
        "# Given the variables `income` and `dependents`, assign to the variable `tax_rate` 0.1 if `income` < 50000 or `dependents` > 3, 0.2 if `income` < 100000, 0.3 otherwise\n",
        "@check_exercise_81\n",
        "def exercise_81(income, dependents):\n",
        "    # This line is mandatory and should not be removed\n",
        "    ex_stat_init = True\n",
        "\n",
        "    # BELOW GOES YOUR CODE\n",
        "    if income < 50000 or dependents > 3:\n",
        "        tax_rate = 0.1\n",
        "    elif income < 100000:\n",
        "        tax_rate = 0.2\n",
        "    else:\n",
        "        tax_rate = 0.3\n",
        "    # ABOVE GOES YOUR CODE\n",
        "\n",
        "    return {\"tax_rate\": tax_rate}\n",
        "\n",
        "# Run the exercise\n",
        "exercise_81()"
      ]
    },
    {
      "cell_type": "code",
      "execution_count": null,
      "id": "aa6ac517",
      "metadata": {
        "id": "aa6ac517",
        "outputId": "0f62b94b-4c43-4a4d-fc76-33579c6974f5",
        "colab": {
          "base_uri": "https://localhost:8080/"
        }
      },
      "outputs": [
        {
          "output_type": "stream",
          "name": "stdout",
          "text": [
            "✅ Great job! Exercise completed successfully.\n"
          ]
        }
      ],
      "source": [
        "# Given the variables `is_raining` and `has_umbrella`, assign to the variable `action` the string \"Stay home\" if `is_raining` is True and `has_umbrella` is False, \"Take umbrella\" if `is_raining` is True and `has_umbrella` is True, \"Go out\" otherwise\n",
        "@check_exercise_82\n",
        "def exercise_82(is_raining, has_umbrella):\n",
        "    # This line is mandatory and should not be removed\n",
        "    ex_stat_init = True\n",
        "\n",
        "    # BELOW GOES YOUR CODE\n",
        "    if is_raining and not has_umbrella:\n",
        "        action = \"Stay home\"\n",
        "    elif is_raining and has_umbrella:\n",
        "        action = \"Take umbrella\"\n",
        "    else:\n",
        "        action = \"Go out\"\n",
        "    # ABOVE GOES YOUR CODE\n",
        "\n",
        "    return {\"action\": action}\n",
        "\n",
        "# Run the exercise\n",
        "exercise_82()"
      ]
    },
    {
      "cell_type": "code",
      "execution_count": null,
      "id": "dd33f94a",
      "metadata": {
        "id": "dd33f94a",
        "outputId": "0ab4d4f7-13eb-4150-bb4c-0c9729832635",
        "colab": {
          "base_uri": "https://localhost:8080/"
        }
      },
      "outputs": [
        {
          "output_type": "stream",
          "name": "stdout",
          "text": [
            "✅ Great job! Exercise completed successfully.\n"
          ]
        }
      ],
      "source": [
        "# Given the variables `is_weekend` and `is_holiday`, assign to the variable `is_day_off` True if either `is_weekend` or `is_holiday` is True, False otherwise\n",
        "@check_exercise_83\n",
        "def exercise_83(is_weekend, is_holiday):\n",
        "    # This line is mandatory and should not be removed\n",
        "    ex_stat_init = True\n",
        "\n",
        "    # BELOW GOES YOUR CODE\n",
        "    is_day_off = is_weekend or is_holiday\n",
        "    # ABOVE GOES YOUR CODE\n",
        "\n",
        "    return {\"is_day_off\": is_day_off}\n",
        "\n",
        "# Run the exercise\n",
        "exercise_83()"
      ]
    },
    {
      "cell_type": "code",
      "execution_count": null,
      "id": "a2c22944",
      "metadata": {
        "id": "a2c22944",
        "outputId": "9f94a31a-0f84-469c-ea85-b7a90dba77ac",
        "colab": {
          "base_uri": "https://localhost:8080/"
        }
      },
      "outputs": [
        {
          "output_type": "stream",
          "name": "stdout",
          "text": [
            "✅ Great job! Exercise completed successfully.\n"
          ]
        }
      ],
      "source": [
        "# Given the variables `is_sunny`, `is_warm`, and `has_sunscreen`, assign to the variable `beach_day` \"Yes\" if it's sunny and warm and you have sunscreen, or if it's sunny and not too warm (regardless of sunscreen), \"No\" otherwise\n",
        "@check_exercise_84\n",
        "def exercise_84(is_sunny, is_warm, has_sunscreen):\n",
        "    # This line is mandatory and should not be removed\n",
        "    ex_stat_init = True\n",
        "\n",
        "    # BELOW GOES YOUR CODE\n",
        "    if (is_sunny and is_warm and has_sunscreen) or (is_sunny and not is_warm):\n",
        "        beach_day = \"Yes\"\n",
        "    else:\n",
        "        beach_day = \"No\"\n",
        "    # ABOVE GOES YOUR CODE\n",
        "\n",
        "    return {\"beach_day\": beach_day}\n",
        "\n",
        "# Run the exercise\n",
        "exercise_84()"
      ]
    },
    {
      "cell_type": "code",
      "execution_count": null,
      "id": "dbded670",
      "metadata": {
        "id": "dbded670",
        "outputId": "04885e5e-10dd-425f-d0c3-e2684ebd1fec",
        "colab": {
          "base_uri": "https://localhost:8080/"
        }
      },
      "outputs": [
        {
          "output_type": "stream",
          "name": "stdout",
          "text": [
            "✅ Great job! Exercise completed successfully.\n"
          ]
        }
      ],
      "source": [
        "# Given the variable `number`, assign to the variable `parity` the string \"even\" if `number` is even, \"odd\" otherwise, using a ternary operator\n",
        "@check_exercise_85\n",
        "def exercise_85(number):\n",
        "    # This line is mandatory and should not be removed\n",
        "    ex_stat_init = True\n",
        "\n",
        "    # BELOW GOES YOUR CODE\n",
        "    parity = \"even\" if number % 2 == 0 else \"odd\"\n",
        "    # ABOVE GOES YOUR CODE\n",
        "\n",
        "    return {\"parity\": parity}\n",
        "\n",
        "# Run the exercise\n",
        "exercise_85()"
      ]
    },
    {
      "cell_type": "code",
      "execution_count": null,
      "id": "192a71c0",
      "metadata": {
        "id": "192a71c0",
        "outputId": "fdd56d48-54b3-4e47-97cd-19591b5d151f",
        "colab": {
          "base_uri": "https://localhost:8080/"
        }
      },
      "outputs": [
        {
          "output_type": "stream",
          "name": "stdout",
          "text": [
            "✅ Great job! Exercise completed successfully.\n"
          ]
        }
      ],
      "source": [
        "# Given the variable `fruit`, assign to the variable `is_citrus` True if `fruit` is in the list [\"orange\", \"lemon\", \"lime\", \"grapefruit\"], False otherwise\n",
        "@check_exercise_86\n",
        "def exercise_86(fruit):\n",
        "    # This line is mandatory and should not be removed\n",
        "    ex_stat_init = True\n",
        "\n",
        "    # BELOW GOES YOUR CODE\n",
        "    is_citrus = fruit in [\"orange\", \"lemon\", \"lime\", \"grapefruit\"]\n",
        "    # ABOVE GOES YOUR CODE\n",
        "\n",
        "    return {\"is_citrus\": is_citrus}\n",
        "\n",
        "# Run the exercise\n",
        "exercise_86()"
      ]
    },
    {
      "cell_type": "code",
      "execution_count": null,
      "id": "454033c9",
      "metadata": {
        "id": "454033c9",
        "outputId": "5c707b10-20d0-436f-9a43-6a3c0255239a",
        "colab": {
          "base_uri": "https://localhost:8080/"
        }
      },
      "outputs": [
        {
          "output_type": "stream",
          "name": "stdout",
          "text": [
            "✅ Great job! Exercise completed successfully.\n"
          ]
        }
      ],
      "source": [
        "# Given a list of numbers called `numbers`, assign to the variable `has_negative` True if any number in the list is negative, False otherwise\n",
        "@check_exercise_87\n",
        "def exercise_87(numbers):\n",
        "    # This line is mandatory and should not be removed\n",
        "    ex_stat_init = True\n",
        "\n",
        "    # BELOW GOES YOUR CODE\n",
        "    has_negative = any(num < 0 for num in numbers)\n",
        "    # ABOVE GOES YOUR CODE\n",
        "\n",
        "    return {\"has_negative\": has_negative}\n",
        "\n",
        "# Run the exercise\n",
        "exercise_87()"
      ]
    },
    {
      "cell_type": "code",
      "execution_count": null,
      "id": "864cd1d4",
      "metadata": {
        "id": "864cd1d4",
        "outputId": "c2d3e973-124e-4885-8741-15ca21ca9503",
        "colab": {
          "base_uri": "https://localhost:8080/"
        }
      },
      "outputs": [
        {
          "output_type": "stream",
          "name": "stdout",
          "text": [
            "✅ Great job! Exercise completed successfully.\n"
          ]
        }
      ],
      "source": [
        "# Given a list of booleans called `test_results`, assign to the variable `all_passed` True if all values in the list are True, False otherwise\n",
        "@check_exercise_88\n",
        "def exercise_88(test_results):\n",
        "    # This line is mandatory and should not be removed\n",
        "    ex_stat_init = True\n",
        "\n",
        "    # BELOW GOES YOUR CODE\n",
        "    all_passed = all(test_results)\n",
        "    # ABOVE GOES YOUR CODE\n",
        "\n",
        "    return {\"all_passed\": all_passed}\n",
        "\n",
        "# Run the exercise\n",
        "exercise_88()"
      ]
    },
    {
      "cell_type": "code",
      "execution_count": null,
      "id": "85497f0e",
      "metadata": {
        "id": "85497f0e",
        "outputId": "effad6fe-f749-471f-8946-d79590637a6e",
        "colab": {
          "base_uri": "https://localhost:8080/"
        }
      },
      "outputs": [
        {
          "output_type": "stream",
          "name": "stdout",
          "text": [
            "✅ Great job! Exercise completed successfully.\n"
          ]
        }
      ],
      "source": [
        "# Given the variable `password`, assign to the variable `is_correct` True if `password` is \"secret123\", False otherwise\n",
        "@check_exercise_89\n",
        "def exercise_89(password):\n",
        "    # This line is mandatory and should not be removed\n",
        "    ex_stat_init = True\n",
        "\n",
        "    # BELOW GOES YOUR CODE\n",
        "    is_correct = password == \"secret123\"\n",
        "    # ABOVE GOES YOUR CODE\n",
        "\n",
        "    return {\"is_correct\": is_correct}\n",
        "\n",
        "# Run the exercise\n",
        "exercise_89()\n"
      ]
    },
    {
      "cell_type": "code",
      "execution_count": null,
      "id": "12be810b",
      "metadata": {
        "id": "12be810b",
        "outputId": "ab85de13-ae1b-4f3e-92d5-cdd310c50262",
        "colab": {
          "base_uri": "https://localhost:8080/"
        }
      },
      "outputs": [
        {
          "output_type": "stream",
          "name": "stdout",
          "text": [
            "✅ Great job! Exercise completed successfully.\n"
          ]
        }
      ],
      "source": [
        "# Given the variable `username`, assign to the variable `is_valid` True if the length of `username` is between 3 and 20 characters (inclusive), False otherwise\n",
        "@check_exercise_90\n",
        "def exercise_90(username):\n",
        "    # This line is mandatory and should not be removed\n",
        "    ex_stat_init = True\n",
        "\n",
        "    # BELOW GOES YOUR CODE\n",
        "    is_valid = 3 <= len(username) <= 20\n",
        "    # ABOVE GOES YOUR CODE\n",
        "\n",
        "    return {\"is_valid\": is_valid}\n",
        "\n",
        "# Run the exercise\n",
        "exercise_90()"
      ]
    },
    {
      "cell_type": "code",
      "execution_count": null,
      "id": "17702795",
      "metadata": {
        "id": "17702795",
        "outputId": "cb02b947-4e44-482e-b8aa-c89e017a2015",
        "colab": {
          "base_uri": "https://localhost:8080/"
        }
      },
      "outputs": [
        {
          "output_type": "stream",
          "name": "stdout",
          "text": [
            "✅ Great job! Exercise completed successfully.\n"
          ]
        }
      ],
      "source": [
        "# Given the variable `num`, assign to the variable `category` the string \"low\" if `num` is less than 50, \"medium\" if it's between 50 and 100, \"high\" if it's greater than 100\n",
        "@check_exercise_91\n",
        "def exercise_91(num):\n",
        "    # This line is mandatory and should not be removed\n",
        "    ex_stat_init = True\n",
        "\n",
        "    # BELOW GOES YOUR CODE\n",
        "    category = \"low\" if num < 50 else \"medium\" if num <= 100 else \"high\"\n",
        "    # ABOVE GOES YOUR CODE\n",
        "\n",
        "    return {\"category\": category}\n",
        "\n",
        "# Run the exercise\n",
        "exercise_91()"
      ]
    },
    {
      "cell_type": "code",
      "execution_count": null,
      "id": "8e193d04",
      "metadata": {
        "id": "8e193d04",
        "outputId": "ed156ced-24f1-4be6-965b-c40b9811818b",
        "colab": {
          "base_uri": "https://localhost:8080/"
        }
      },
      "outputs": [
        {
          "output_type": "stream",
          "name": "stdout",
          "text": [
            "✅ Great job! Exercise completed successfully.\n"
          ]
        }
      ],
      "source": [
        "# Given the variable `email`, assign to the variable `domain` the string \"personal\" if `email` ends with \"@gmail.com\", \"work\" if it ends with \"@company.com\", \"education\" if it ends with \".edu\", \"unknown\" otherwise\n",
        "@check_exercise_92\n",
        "def exercise_92(email):\n",
        "    # This line is mandatory and should not be removed\n",
        "    ex_stat_init = True\n",
        "\n",
        "    # BELOW GOES YOUR CODE\n",
        "    domain = \"personal\" if email.endswith(\"@gmail.com\") else \"work\" if email.endswith(\"@company.com\") else \"education\" if email.endswith(\".edu\") else \"unknown\"\n",
        "    # ABOVE GOES YOUR CODE\n",
        "\n",
        "    return {\"domain\": domain}\n",
        "\n",
        "# Run the exercise\n",
        "exercise_92()"
      ]
    },
    {
      "cell_type": "code",
      "execution_count": null,
      "id": "8ae8e2bf",
      "metadata": {
        "id": "8ae8e2bf",
        "outputId": "493c2026-788e-48df-b7a3-a948adb89614",
        "colab": {
          "base_uri": "https://localhost:8080/"
        }
      },
      "outputs": [
        {
          "output_type": "stream",
          "name": "stdout",
          "text": [
            "✅ Great job! Exercise completed successfully.\n"
          ]
        }
      ],
      "source": [
        "# Given the variable `data`, assign to the variable `data_type` the string \"numeric\" if `data` is of type int or float, \"text\" if it's of type str, \"boolean\" if it's of type bool, \"other\" otherwise\n",
        "@check_exercise_93\n",
        "def exercise_93(data):\n",
        "    # This line is mandatory and should not be removed\n",
        "    ex_stat_init = True\n",
        "\n",
        "    # BELOW GOES YOUR CODE\n",
        "    if isinstance(data, bool):\n",
        "        data_type = \"boolean\"\n",
        "    elif isinstance(data, int):\n",
        "        data_type = \"numeric\"\n",
        "    elif isinstance(data, float):\n",
        "        data_type = \"numeric\"\n",
        "    elif isinstance(data, str):\n",
        "        data_type = \"text\"\n",
        "    else:\n",
        "        data_type = \"other\"\n",
        "    # ABOVE GOES YOUR CODE\n",
        "\n",
        "    return {\"data_type\": data_type}\n",
        "\n",
        "# Run the exercise\n",
        "exercise_93()"
      ]
    },
    {
      "cell_type": "code",
      "execution_count": null,
      "id": "48f2303f",
      "metadata": {
        "id": "48f2303f",
        "outputId": "5923700a-2d0e-42f9-a76b-6bd9e0bceaf6",
        "colab": {
          "base_uri": "https://localhost:8080/"
        }
      },
      "outputs": [
        {
          "output_type": "stream",
          "name": "stdout",
          "text": [
            "✅ Great job! Exercise completed successfully.\n"
          ]
        }
      ],
      "source": [
        "# Given a list `numbers` and a variable `target`, assign to the variable `position` the index of `target` in the list if it exists, -1 if it doesn't exist, and -2 if the list is empty\n",
        "@check_exercise_94\n",
        "def exercise_94(numbers, target):\n",
        "    # This line is mandatory and should not be removed\n",
        "    ex_stat_init = True\n",
        "\n",
        "    # BELOW GOES YOUR CODE\n",
        "    position = -2 if not numbers else numbers.index(target) if target in numbers else -1\n",
        "    # ABOVE GOES YOUR CODE\n",
        "\n",
        "    return {\"position\": position}\n",
        "\n",
        "# Run the exercise\n",
        "exercise_94()"
      ]
    },
    {
      "cell_type": "code",
      "execution_count": null,
      "id": "f35de61f",
      "metadata": {
        "id": "f35de61f",
        "outputId": "85b0d876-81c0-4578-8b23-735a99e59d4d",
        "colab": {
          "base_uri": "https://localhost:8080/"
        }
      },
      "outputs": [
        {
          "output_type": "stream",
          "name": "stdout",
          "text": [
            "✅ Great job! Exercise completed successfully.\n"
          ]
        }
      ],
      "source": [
        "# Given the variable `password`, assign to the variable `is_strong` True if `password` is at least 8 characters long and contains both uppercase and lowercase letters, False otherwise\n",
        "@check_exercise_95\n",
        "def exercise_95(password):\n",
        "    # This line is mandatory and should not be removed\n",
        "    ex_stat_init = True\n",
        "\n",
        "    # BELOW GOES YOUR CODE\n",
        "    is_strong = len(password) >= 8 and any(c.isupper() for c in password) and any(c.islower() for c in password)\n",
        "    # ABOVE GOES YOUR CODE\n",
        "\n",
        "    return {\"is_strong\": is_strong}\n",
        "\n",
        "# Run the exercise\n",
        "exercise_95()"
      ]
    },
    {
      "cell_type": "code",
      "execution_count": null,
      "id": "f8bfe709",
      "metadata": {
        "id": "f8bfe709",
        "outputId": "168c5d40-d902-496c-de61-776c8ee8f1c6",
        "colab": {
          "base_uri": "https://localhost:8080/"
        }
      },
      "outputs": [
        {
          "output_type": "stream",
          "name": "stdout",
          "text": [
            "✅ Great job! Exercise completed successfully.\n"
          ]
        }
      ],
      "source": [
        "# Given the variables `x`, `y`, and `z`, assign to the variable `is_triangle` True if the sum of any two sides is greater than the third side for all three combinations, False otherwise\n",
        "@check_exercise_96\n",
        "def exercise_96(x, y, z):\n",
        "    # This line is mandatory and should not be removed\n",
        "    ex_stat_init = True\n",
        "\n",
        "    # BELOW GOES YOUR CODE\n",
        "    is_triangle = (x + y > z) and (x + z > y) and (y + z > x)\n",
        "    # ABOVE GOES YOUR CODE\n",
        "\n",
        "    return {\"is_triangle\": is_triangle}\n",
        "\n",
        "# Run the exercise\n",
        "exercise_96()"
      ]
    },
    {
      "cell_type": "code",
      "execution_count": null,
      "id": "d6ed0495",
      "metadata": {
        "id": "d6ed0495",
        "outputId": "415e7e89-d445-4ebf-d4fd-96a1087f869b",
        "colab": {
          "base_uri": "https://localhost:8080/"
        }
      },
      "outputs": [
        {
          "output_type": "stream",
          "name": "stdout",
          "text": [
            "✅ Great job! Exercise completed successfully.\n"
          ]
        }
      ],
      "source": [
        "# Given the variable `name`, assign to the variable `greeting` the string \"Hello, {name}!\" if `name` is not empty, \"Hello, Guest!\" otherwise, using a ternary operator\n",
        "@check_exercise_97\n",
        "def exercise_97(name):\n",
        "    # This line is mandatory and should not be removed\n",
        "    ex_stat_init = True\n",
        "\n",
        "    # BELOW GOES YOUR CODE\n",
        "    greeting = f\"Hello, {name}!\" if name else \"Hello, Guest!\"\n",
        "    # ABOVE GOES YOUR CODE\n",
        "\n",
        "    return {\"greeting\": greeting}\n",
        "\n",
        "# Run the exercise\n",
        "exercise_97()"
      ]
    },
    {
      "cell_type": "code",
      "execution_count": null,
      "id": "214a4c1c",
      "metadata": {
        "id": "214a4c1c",
        "outputId": "0c19c077-952c-41e2-93b6-516fb2bf6062",
        "colab": {
          "base_uri": "https://localhost:8080/"
        }
      },
      "outputs": [
        {
          "output_type": "stream",
          "name": "stdout",
          "text": [
            "✅ Great job! Exercise completed successfully.\n"
          ]
        }
      ],
      "source": [
        "# Given a set `valid_colors` and a variable `chosen_color`, assign to the variable `is_valid_choice` True if `chosen_color` is in `valid_colors`, False otherwise\n",
        "@check_exercise_98\n",
        "def exercise_98(valid_colors, chosen_color):\n",
        "    # This line is mandatory and should not be removed\n",
        "    ex_stat_init = True\n",
        "\n",
        "    # BELOW GOES YOUR CODE\n",
        "    is_valid_choice = chosen_color in valid_colors\n",
        "    # ABOVE GOES YOUR CODE\n",
        "\n",
        "    return {\"is_valid_choice\": is_valid_choice}\n",
        "\n",
        "# Run the exercise\n",
        "exercise_98()"
      ]
    },
    {
      "cell_type": "code",
      "execution_count": null,
      "id": "32dbf1e6",
      "metadata": {
        "id": "32dbf1e6",
        "outputId": "2ea5215b-8b43-4f5d-cfd9-815439b4b862",
        "colab": {
          "base_uri": "https://localhost:8080/"
        }
      },
      "outputs": [
        {
          "output_type": "stream",
          "name": "stdout",
          "text": [
            "✅ Great job! Exercise completed successfully.\n"
          ]
        }
      ],
      "source": [
        "# Given a list of strings called `words`, assign to the variable `has_long_word` True if any word in the list has more than 10 characters, False otherwise\n",
        "@check_exercise_99\n",
        "def exercise_99(words):\n",
        "    # This line is mandatory and should not be removed\n",
        "    ex_stat_init = True\n",
        "\n",
        "    # BELOW GOES YOUR CODE\n",
        "    has_long_word = any(len(word) > 10 for word in words)\n",
        "    # ABOVE GOES YOUR CODE\n",
        "\n",
        "    return {\"has_long_word\": has_long_word}\n",
        "\n",
        "# Run the exercise\n",
        "exercise_99()"
      ]
    },
    {
      "cell_type": "code",
      "execution_count": null,
      "id": "8cf4de06",
      "metadata": {
        "id": "8cf4de06",
        "outputId": "6915d77a-0e5b-4716-f55e-3f69e0f9f391",
        "colab": {
          "base_uri": "https://localhost:8080/"
        }
      },
      "outputs": [
        {
          "output_type": "stream",
          "name": "stdout",
          "text": [
            "✅ Great job! Exercise completed successfully.\n"
          ]
        }
      ],
      "source": [
        "# Given a list of numbers called `measurements`, assign to the variable `within_tolerance` True if all numbers in the list are between 0 and 100 (inclusive), False otherwise\n",
        "@check_exercise_100\n",
        "def exercise_100(measurements):\n",
        "    # This line is mandatory and should not be removed\n",
        "    ex_stat_init = True\n",
        "\n",
        "    # BELOW GOES YOUR CODE\n",
        "    within_tolerance = all(0 <= measurement <= 100 for measurement in measurements)\n",
        "    # ABOVE GOES YOUR CODE\n",
        "\n",
        "    return {\"within_tolerance\": within_tolerance}\n",
        "\n",
        "# Run the exercise\n",
        "exercise_100()"
      ]
    },
    {
      "cell_type": "code",
      "execution_count": null,
      "id": "3e1b6bcd",
      "metadata": {
        "id": "3e1b6bcd",
        "outputId": "17442e43-fba7-4d09-fb0c-ca589cf266ff",
        "colab": {
          "base_uri": "https://localhost:8080/"
        }
      },
      "outputs": [
        {
          "output_type": "stream",
          "name": "stdout",
          "text": [
            "✅ Great job! Exercise completed successfully.\n"
          ]
        }
      ],
      "source": [
        "# Given two time strings `time1` and `time2` in \"HH:MM\" format, assign to the variable `is_later` True if `time2` is later than `time1`, False otherwise\n",
        "@check_exercise_101\n",
        "def exercise_101(time1, time2):\n",
        "    # This line is mandatory and should not be removed\n",
        "    ex_stat_init = True\n",
        "\n",
        "    # BELOW GOES YOUR CODE\n",
        "    is_later = time2 > time1\n",
        "    # ABOVE GOES YOUR CODE\n",
        "\n",
        "    return {\"is_later\": is_later}\n",
        "\n",
        "# Run the exercise\n",
        "exercise_101()"
      ]
    },
    {
      "cell_type": "code",
      "execution_count": null,
      "id": "4bf72e2d",
      "metadata": {
        "id": "4bf72e2d",
        "outputId": "fa821688-17ae-43e7-ece9-b4f0326264ce",
        "colab": {
          "base_uri": "https://localhost:8080/"
        }
      },
      "outputs": [
        {
          "output_type": "stream",
          "name": "stdout",
          "text": [
            "✅ Great job! Exercise completed successfully.\n"
          ]
        }
      ],
      "source": [
        "# Given a dictionary `stock` and a variable `item`, assign to the variable `availability` \"In stock\" if `item` is a key in `stock` and its value is greater than 0, \"Out of stock\" otherwise\n",
        "@check_exercise_102\n",
        "def exercise_102(stock, item):\n",
        "    # This line is mandatory and should not be removed\n",
        "    ex_stat_init = True\n",
        "\n",
        "    # BELOW GOES YOUR CODE\n",
        "    availability = \"In stock\" if item in stock and stock[item] > 0 else \"Out of stock\"\n",
        "    # ABOVE GOES YOUR CODE\n",
        "\n",
        "    return {\"availability\": availability}\n",
        "\n",
        "# Run the exercise\n",
        "exercise_102()"
      ]
    },
    {
      "cell_type": "code",
      "execution_count": null,
      "id": "f2eb4cfd",
      "metadata": {
        "id": "f2eb4cfd",
        "outputId": "69052c87-fb27-4ee3-bc98-7ff248849d9d",
        "colab": {
          "base_uri": "https://localhost:8080/"
        }
      },
      "outputs": [
        {
          "output_type": "stream",
          "name": "stdout",
          "text": [
            "✅ Great job! Exercise completed successfully.\n"
          ]
        }
      ],
      "source": [
        "# Given variables `hours`, `minutes`, and `seconds`, assign to the variable `time_format` the string in \"HH:MM:SS\" format if all are provided, \"HH:MM\" format if only hours and minutes are provided, \"HH\" format if only hours are provided\n",
        "@check_exercise_103\n",
        "def exercise_103(hours, minutes, seconds):\n",
        "    # This line is mandatory and should not be removed\n",
        "    ex_stat_init = True\n",
        "\n",
        "    # BELOW GOES YOUR CODE\n",
        "    time_format = f\"{hours:02}:{minutes:02}:{seconds:02}\" if seconds is not None else f\"{hours:02}:{minutes:02}\" if minutes is not None else f\"{hours:02}\"\n",
        "    # ABOVE GOES YOUR CODE\n",
        "\n",
        "    return {\"time_format\": time_format}\n",
        "\n",
        "# Run the exercise\n",
        "exercise_103()"
      ]
    },
    {
      "cell_type": "code",
      "execution_count": null,
      "id": "76c48a86",
      "metadata": {
        "id": "76c48a86",
        "outputId": "ab9cc573-ee2c-4a7e-c5fa-614830bbb558",
        "colab": {
          "base_uri": "https://localhost:8080/"
        }
      },
      "outputs": [
        {
          "output_type": "stream",
          "name": "stdout",
          "text": [
            "✅ Great job! Exercise completed successfully.\n"
          ]
        }
      ],
      "source": [
        "# Given a variable `operation` and two variables `a` and `b`, assign to the variable `result` the sum if `operation` is \"+\", difference if \"-\", product if \"*\", quotient if \"/\", \"Error\" if \"/\" and `b` is 0, \"Invalid operation\" for any other operation\n",
        "@check_exercise_104\n",
        "def exercise_104(operation, a, b):\n",
        "    # This line is mandatory and should not be removed\n",
        "    ex_stat_init = True\n",
        "\n",
        "    # BELOW GOES YOUR CODE\n",
        "    if operation == \"+\":\n",
        "        result = a + b\n",
        "    elif operation == \"-\":\n",
        "        result = a - b\n",
        "    elif operation == \"*\":\n",
        "        result = a * b\n",
        "    elif operation == \"/\":\n",
        "        result = a / b if b != 0 else \"Error\"\n",
        "    else:\n",
        "        result = \"Invalid operation\"\n",
        "    # ABOVE GOES YOUR CODE\n",
        "\n",
        "    return {\"result\": result}\n",
        "\n",
        "# Run the exercise\n",
        "exercise_104()"
      ]
    },
    {
      "cell_type": "code",
      "execution_count": null,
      "id": "95f9356c",
      "metadata": {
        "id": "95f9356c",
        "outputId": "61fbb758-cb8f-403e-adf1-16f768b3c778",
        "colab": {
          "base_uri": "https://localhost:8080/"
        }
      },
      "outputs": [
        {
          "output_type": "stream",
          "name": "stdout",
          "text": [
            "✅ Great job! Exercise completed successfully.\n"
          ]
        }
      ],
      "source": [
        "# Given a filename `file`, assign to the variable `file_type` \"Image\" if the file ends with .jpg, .png, or .gif, \"Document\" if it ends with .doc, .docx, or .pdf, \"Spreadsheet\" if it ends with .xls or .xlsx, \"Other\" for any other extension\n",
        "@check_exercise_105\n",
        "def exercise_105(file):\n",
        "    # This line is mandatory and should not be removed\n",
        "    ex_stat_init = True\n",
        "\n",
        "    # BELOW GOES YOUR CODE\n",
        "    if file.endswith(('.jpg', '.png', '.gif')):\n",
        "        file_type = \"Image\"\n",
        "    elif file.endswith(('.doc', '.docx', '.pdf')):\n",
        "        file_type = \"Document\"\n",
        "    elif file.endswith(('.xls', '.xlsx')):\n",
        "        file_type = \"Spreadsheet\"\n",
        "    else:\n",
        "        file_type = \"Other\"\n",
        "    # ABOVE GOES YOUR CODE\n",
        "\n",
        "    return {\"file_type\": file_type}\n",
        "\n",
        "# Run the exercise\n",
        "exercise_105()"
      ]
    },
    {
      "cell_type": "code",
      "execution_count": null,
      "id": "bd21864d",
      "metadata": {
        "id": "bd21864d",
        "outputId": "a7a5ade3-c1be-4c2e-e5c6-f840d5c70e98",
        "colab": {
          "base_uri": "https://localhost:8080/"
        }
      },
      "outputs": [
        {
          "output_type": "stream",
          "name": "stdout",
          "text": [
            "✅ Great job! Exercise completed successfully.\n"
          ]
        }
      ],
      "source": [
        "# Given variables `start_date`, `end_date`, and `check_date` all being a string in \"HH:MM:SS\" format, assign to the variable `is_within_range` True if `check_date` is between `start_date` and `end_date` (inclusive), False otherwise\n",
        "@check_exercise_106\n",
        "def exercise_106(start_date, end_date, check_date):\n",
        "    # This line is mandatory and should not be removed\n",
        "    ex_stat_init = True\n",
        "\n",
        "    # BELOW GOES YOUR CODE\n",
        "    is_within_range = start_date <= check_date <= end_date\n",
        "    # ABOVE GOES YOUR CODE\n",
        "\n",
        "    return {\"is_within_range\": is_within_range}\n",
        "\n",
        "# Run the exercise\n",
        "exercise_106()"
      ]
    },
    {
      "cell_type": "code",
      "execution_count": null,
      "id": "a023516d",
      "metadata": {
        "id": "a023516d",
        "outputId": "7d6e8b2c-0b60-4c17-b7a9-c4692411a7d8",
        "colab": {
          "base_uri": "https://localhost:8080/"
        }
      },
      "outputs": [
        {
          "output_type": "stream",
          "name": "stdout",
          "text": [
            "✅ Great job! Exercise completed successfully.\n"
          ]
        }
      ],
      "source": [
        "# Given a variable `version` in the format \"X.Y.Z\", assign to the variable `is_compatible` True if X is 2, Y is greater than 5, and Z is any number, or if X is 3 and Y is less than 2, False otherwise\n",
        "@check_exercise_107\n",
        "def exercise_107(version):\n",
        "    # This line is mandatory and should not be removed\n",
        "    ex_stat_init = True\n",
        "\n",
        "    # BELOW GOES YOUR CODE\n",
        "    X, Y, Z = map(int, version.split('.'))\n",
        "    is_compatible = (X == 2 and Y > 5) or (X == 3 and Y < 2)\n",
        "    # ABOVE GOES YOUR CODE\n",
        "\n",
        "    return {\"is_compatible\": is_compatible}\n",
        "\n",
        "# Run the exercise\n",
        "exercise_107()"
      ]
    },
    {
      "cell_type": "code",
      "execution_count": null,
      "id": "c48eb17e",
      "metadata": {
        "id": "c48eb17e",
        "outputId": "537db3db-3a5e-4303-cb4c-33fe42c75cfc",
        "colab": {
          "base_uri": "https://localhost:8080/"
        }
      },
      "outputs": [
        {
          "output_type": "stream",
          "name": "stdout",
          "text": [
            "✅ Great job! Exercise completed successfully.\n"
          ]
        }
      ],
      "source": [
        "# Given a list of numbers `values`, assign to the variable `processed` a new list where each number is doubled if it's even, or tripled if it's odd, using a ternary operator in a list comprehension\n",
        "@check_exercise_108\n",
        "def exercise_108(values):\n",
        "    # This line is mandatory and should not be removed\n",
        "    ex_stat_init = True\n",
        "\n",
        "    # BELOW GOES YOUR CODE\n",
        "    processed = [value * 2 if value % 2 == 0 else value * 3 for value in values]\n",
        "    # ABOVE GOES YOUR CODE\n",
        "\n",
        "    return {\"processed\": processed}\n",
        "\n",
        "# Run the exercise\n",
        "exercise_108()"
      ]
    },
    {
      "cell_type": "code",
      "execution_count": null,
      "id": "c161bade",
      "metadata": {
        "id": "c161bade",
        "outputId": "1bb1cc88-cf73-4921-a382-2b3da6d81617",
        "colab": {
          "base_uri": "https://localhost:8080/"
        }
      },
      "outputs": [
        {
          "output_type": "stream",
          "name": "stdout",
          "text": [
            "✅ Great job! Exercise completed successfully.\n"
          ]
        }
      ],
      "source": [
        "# Given a variable `text` and a list of `keywords`, assign to the variable `is_relevant` True if any of the keywords are found in the text (case-insensitive), False otherwise\n",
        "@check_exercise_109\n",
        "def exercise_109(text, keywords):\n",
        "    # This line is mandatory and should not be removed\n",
        "    ex_stat_init = True\n",
        "\n",
        "    # BELOW GOES YOUR CODE\n",
        "    is_relevant = any(keyword.lower() in text.lower() for keyword in keywords)\n",
        "    # ABOVE GOES YOUR CODE\n",
        "\n",
        "    return {\"is_relevant\": is_relevant}\n",
        "\n",
        "# Run the exercise\n",
        "exercise_109()"
      ]
    },
    {
      "cell_type": "code",
      "execution_count": null,
      "id": "6f5c382a",
      "metadata": {
        "id": "6f5c382a",
        "outputId": "38215846-a137-4c9f-e725-066114967d39",
        "colab": {
          "base_uri": "https://localhost:8080/"
        }
      },
      "outputs": [
        {
          "output_type": "stream",
          "name": "stdout",
          "text": [
            "✅ Great job! Exercise completed successfully.\n"
          ]
        }
      ],
      "source": [
        "# Given a list of `Employee` objects called `staff`, assign to the variable `has_manager` True if any employee has the title \"Manager\", False otherwise (assume each Employee object has a `title` attribute)\n",
        "@check_exercise_110\n",
        "def exercise_110(staff):\n",
        "    # This line is mandatory and should not be removed\n",
        "    ex_stat_init = True\n",
        "\n",
        "    # BELOW GOES YOUR CODE\n",
        "    has_manager = any(employee.title == \"Manager\" for employee in staff)\n",
        "    # ABOVE GOES YOUR CODE\n",
        "\n",
        "    return {\"has_manager\": has_manager}\n",
        "\n",
        "# Run the exercise\n",
        "exercise_110()"
      ]
    },
    {
      "cell_type": "code",
      "execution_count": null,
      "id": "be36c3cf",
      "metadata": {
        "id": "be36c3cf",
        "outputId": "bef57ed7-16cc-42e3-a184-92c77ecdcb9d",
        "colab": {
          "base_uri": "https://localhost:8080/"
        }
      },
      "outputs": [
        {
          "output_type": "stream",
          "name": "stdout",
          "text": [
            "✅ Great job! Exercise completed successfully.\n"
          ]
        }
      ],
      "source": [
        "# Given a list of strings called `inputs`, assign to the variable `all_valid` True if all strings in the list are valid email addresses (use a simple check like contains \"@\" and \".\"), False otherwise\n",
        "@check_exercise_111\n",
        "def exercise_111(inputs):\n",
        "    # This line is mandatory and should not be removed\n",
        "    ex_stat_init = True\n",
        "\n",
        "    # BELOW GOES YOUR CODE\n",
        "    all_valid = all(\"@\" in email and \".\" in email for email in inputs)\n",
        "    # ABOVE GOES YOUR CODE\n",
        "\n",
        "    return {\"all_valid\": all_valid}\n",
        "\n",
        "# Run the exercise\n",
        "exercise_111()"
      ]
    },
    {
      "cell_type": "code",
      "execution_count": null,
      "id": "59435666",
      "metadata": {
        "id": "59435666",
        "outputId": "49de16a7-3544-43aa-de94-6b2b0810bf41",
        "colab": {
          "base_uri": "https://localhost:8080/"
        }
      },
      "outputs": [
        {
          "output_type": "stream",
          "name": "stdout",
          "text": [
            "✅ Great job! Exercise completed successfully.\n"
          ]
        }
      ],
      "source": [
        "# Given two integers `a` and `b`, assign to the variable `has_common_bit` True if `a` and `b` have at least one common bit set to 1 in their binary representation, False otherwise\n",
        "@check_exercise_112\n",
        "def exercise_112(a, b):\n",
        "    # This line is mandatory and should not be removed\n",
        "    ex_stat_init = True\n",
        "\n",
        "    # BELOW GOES YOUR CODE\n",
        "    has_common_bit = (a & b) != 0\n",
        "    # ABOVE GOES YOUR CODE\n",
        "\n",
        "    return {\"has_common_bit\": has_common_bit}\n",
        "\n",
        "# Run the exercise\n",
        "exercise_112()"
      ]
    },
    {
      "cell_type": "code",
      "execution_count": null,
      "id": "4f4a9916",
      "metadata": {
        "id": "4f4a9916",
        "outputId": "68c7c521-e062-4501-b1b1-d10ead881001",
        "colab": {
          "base_uri": "https://localhost:8080/"
        }
      },
      "outputs": [
        {
          "output_type": "stream",
          "name": "stdout",
          "text": [
            "✅ Great job! Exercise completed successfully.\n"
          ]
        }
      ],
      "source": [
        "# Given a variable `password`, assign to the variable `meets_policy` True if `password` contains at least one uppercase letter, one lowercase letter, one digit, and is at least 8 characters long, False otherwise\n",
        "@check_exercise_113\n",
        "def exercise_113(password):\n",
        "    # This line is mandatory and should not be removed\n",
        "    ex_stat_init = True\n",
        "\n",
        "    # BELOW GOES YOUR CODE\n",
        "    meets_policy = (\n",
        "        len(password) >= 8 and\n",
        "        any(c.isupper() for c in password) and\n",
        "        any(c.islower() for c in password) and\n",
        "        any(c.isdigit() for c in password)\n",
        "    )\n",
        "    # ABOVE GOES YOUR CODE\n",
        "\n",
        "    return {\"meets_policy\": meets_policy}\n",
        "\n",
        "# Run the exercise\n",
        "exercise_113()"
      ]
    },
    {
      "cell_type": "code",
      "execution_count": null,
      "id": "55189dec",
      "metadata": {
        "id": "55189dec",
        "outputId": "222c0027-08a3-44a5-d26d-b8bfa28bafde",
        "colab": {
          "base_uri": "https://localhost:8080/"
        }
      },
      "outputs": [
        {
          "output_type": "stream",
          "name": "stdout",
          "text": [
            "✅ Great job! Exercise completed successfully.\n"
          ]
        }
      ],
      "source": [
        "# Given a variable `length` and a variable `unit` (either \"m\", \"ft\", or \"yd\"), assign to the variable `meters` the length converted to meters\n",
        "@check_exercise_114\n",
        "def exercise_114(length, unit):\n",
        "    # This line is mandatory and should not be removed\n",
        "    ex_stat_init = True\n",
        "\n",
        "    # BELOW GOES YOUR CODE\n",
        "    if unit == \"m\":\n",
        "        meters = length\n",
        "    elif unit == \"ft\":\n",
        "        meters = length * 0.3048\n",
        "    elif unit == \"yd\":\n",
        "        meters = length * 0.9144\n",
        "    else:\n",
        "        meters = None\n",
        "    # ABOVE GOES YOUR CODE\n",
        "\n",
        "    return {\"meters\": meters}\n",
        "\n",
        "# Run the exercise\n",
        "exercise_114()"
      ]
    },
    {
      "cell_type": "code",
      "execution_count": null,
      "id": "5c866047",
      "metadata": {
        "id": "5c866047",
        "outputId": "ab6e30ea-061d-4133-b46e-b9c12f552a16",
        "colab": {
          "base_uri": "https://localhost:8080/"
        }
      },
      "outputs": [
        {
          "output_type": "stream",
          "name": "stdout",
          "text": [
            "✅ Great job! Exercise completed successfully.\n"
          ]
        }
      ],
      "source": [
        "# Given a variable `status_code`, assign to the variable `message` a descriptive string based on common HTTP status codes (200: \"OK\", 404: \"Not Found\", 500: \"Server Error\", etc.)\n",
        "@check_exercise_115\n",
        "def exercise_115(status_code):\n",
        "    # This line is mandatory and should not be removed\n",
        "    ex_stat_init = True\n",
        "\n",
        "    # BELOW GOES YOUR CODE\n",
        "    if status_code == 200:\n",
        "        message = \"OK\"\n",
        "    elif status_code == 404:\n",
        "        message = \"Not Found\"\n",
        "    elif status_code == 500:\n",
        "        message = \"Server Error\"\n",
        "    else:\n",
        "        message = \"Unknown Status\"\n",
        "    # ABOVE GOES YOUR CODE\n",
        "\n",
        "    return {\"message\": message}\n",
        "\n",
        "# Run the exercise\n",
        "exercise_115()"
      ]
    },
    {
      "cell_type": "code",
      "execution_count": null,
      "id": "e4ed2207",
      "metadata": {
        "id": "e4ed2207",
        "outputId": "f00914ae-eaee-4c49-9790-7bc9ecaeb9ad",
        "colab": {
          "base_uri": "https://localhost:8080/"
        }
      },
      "outputs": [
        {
          "output_type": "stream",
          "name": "stdout",
          "text": [
            "✅ Great job! Exercise completed successfully.\n"
          ]
        }
      ],
      "source": [
        "# Given variables `width` and `height`, assign to the variable `shape` the string \"square\" if width equals height, \"landscape\" if width is greater, \"portrait\" if height is greater\n",
        "@check_exercise_116\n",
        "def exercise_116(width, height):\n",
        "    # This line is mandatory and should not be removed\n",
        "    ex_stat_init = True\n",
        "\n",
        "    # BELOW GOES YOUR CODE\n",
        "    if width == height:\n",
        "        shape = \"square\"\n",
        "    elif width > height:\n",
        "        shape = \"landscape\"\n",
        "    else:\n",
        "        shape = \"portrait\"\n",
        "    # ABOVE GOES YOUR CODE\n",
        "\n",
        "    return {\"shape\": shape}\n",
        "\n",
        "# Run the exercise\n",
        "exercise_116()"
      ]
    },
    {
      "cell_type": "code",
      "execution_count": null,
      "id": "23cf01d5",
      "metadata": {
        "id": "23cf01d5",
        "outputId": "8bd2d412-31ea-4cc0-b97b-6c1504b05208",
        "colab": {
          "base_uri": "https://localhost:8080/"
        }
      },
      "outputs": [
        {
          "output_type": "stream",
          "name": "stdout",
          "text": [
            "✅ Great job! Exercise completed successfully.\n"
          ]
        }
      ],
      "source": [
        "# Given variables `username`, `email`, and `age`, assign to the variable `registration_status` \"Accepted\" if all are valid (non-empty username, valid email format (the mail contains the character `@` and `.`), age between 18 and 99), otherwise assign the string \"Username is empty\", \"Invalid email format\", or \"Age is not between 18 and 99\" as appropriate\n",
        "@check_exercise_117\n",
        "def exercise_117(username, email, age):\n",
        "    # This line is mandatory and should not be removed\n",
        "    ex_stat_init = True\n",
        "\n",
        "    # BELOW GOES YOUR CODE\n",
        "    if not username:\n",
        "        registration_status = \"Username is empty\"\n",
        "    elif \"@\" not in email or \".\" not in email:\n",
        "        registration_status = \"Invalid email format\"\n",
        "    elif not (18 <= age <= 99):\n",
        "        registration_status = \"Age is not between 18 and 99\"\n",
        "    else:\n",
        "        registration_status = \"Accepted\"\n",
        "    # ABOVE GOES YOUR CODE\n",
        "\n",
        "    return {\"registration_status\": registration_status}\n",
        "\n",
        "# Run the exercise\n",
        "exercise_117()"
      ]
    },
    {
      "cell_type": "code",
      "execution_count": null,
      "id": "64c8abf6",
      "metadata": {
        "id": "64c8abf6",
        "outputId": "038cce02-2d4f-4f5d-fdf3-627bf29e8d29",
        "colab": {
          "base_uri": "https://localhost:8080/"
        }
      },
      "outputs": [
        {
          "output_type": "stream",
          "name": "stdout",
          "text": [
            "✅ Great job! Exercise completed successfully.\n"
          ]
        }
      ],
      "source": [
        "# Given boolean variables `is_admin`, `is_staff`, and `is_active`, assign to the variable `can_access_dashboard` True if the user is an active admin or an active staff member, False otherwise\n",
        "@check_exercise_118\n",
        "def exercise_118(is_admin, is_staff, is_active):\n",
        "    # This line is mandatory and should not be removed\n",
        "    ex_stat_init = True\n",
        "\n",
        "    # BELOW GOES YOUR CODE\n",
        "    can_access_dashboard = (is_active and (is_admin or is_staff))\n",
        "    # ABOVE GOES YOUR CODE\n",
        "\n",
        "    return {\"can_access_dashboard\": can_access_dashboard}\n",
        "\n",
        "# Run the exercise\n",
        "exercise_118()"
      ]
    },
    {
      "cell_type": "code",
      "execution_count": null,
      "id": "a9cfd482",
      "metadata": {
        "id": "a9cfd482",
        "outputId": "dafa55f2-982c-4bf5-ebb5-d91178041800",
        "colab": {
          "base_uri": "https://localhost:8080/"
        }
      },
      "outputs": [
        {
          "output_type": "stream",
          "name": "stdout",
          "text": [
            "✅ Great job! Exercise completed successfully.\n"
          ]
        }
      ],
      "source": [
        "# Given variables `is_weekday`, `is_business_hours`, and `is_holiday`, assign to the variable `is_open` True if it's a weekday during business hours and not a holiday, False otherwise\n",
        "@check_exercise_119\n",
        "def exercise_119(is_weekday, is_business_hours, is_holiday):\n",
        "    # This line is mandatory and should not be removed\n",
        "    ex_stat_init = True\n",
        "\n",
        "    # BELOW GOES YOUR CODE\n",
        "    is_open = is_weekday and is_business_hours and not is_holiday\n",
        "    # ABOVE GOES YOUR CODE\n",
        "\n",
        "    return {\"is_open\": is_open}\n",
        "\n",
        "# Run the exercise\n",
        "exercise_119()"
      ]
    },
    {
      "cell_type": "code",
      "execution_count": null,
      "id": "daf59615",
      "metadata": {
        "id": "daf59615",
        "outputId": "68777410-fc4b-4722-c8fa-d0041dc5af01",
        "colab": {
          "base_uri": "https://localhost:8080/"
        }
      },
      "outputs": [
        {
          "output_type": "stream",
          "name": "stdout",
          "text": [
            "✅ Great job! Exercise completed successfully.\n"
          ]
        }
      ],
      "source": [
        "# Given a variable `full_name`, assign to the variable `display_name` the first name if `full_name` contains a space, otherwise assign the full name, using a ternary operator\n",
        "@check_exercise_120\n",
        "def exercise_120(full_name):\n",
        "    # This line is mandatory and should not be removed\n",
        "    ex_stat_init = True\n",
        "\n",
        "    # BELOW GOES YOUR CODE\n",
        "    display_name = full_name.split()[0] if \" \" in full_name else full_name\n",
        "    # ABOVE GOES YOUR CODE\n",
        "\n",
        "    return {\"display_name\": display_name}\n",
        "\n",
        "# Run the exercise\n",
        "exercise_120()"
      ]
    },
    {
      "cell_type": "code",
      "execution_count": null,
      "id": "d177f956",
      "metadata": {
        "id": "d177f956",
        "outputId": "dc1e0a81-9bf8-4b4e-8e26-a38f831ec53a",
        "colab": {
          "base_uri": "https://localhost:8080/"
        }
      },
      "outputs": [
        {
          "output_type": "stream",
          "name": "stdout",
          "text": [
            "✅ Great job! Exercise completed successfully.\n"
          ]
        }
      ],
      "source": [
        "# # Given a variable `grade` (0-100), assign to the variable `letter_grade` \"A\" for 90-100, \"B\" for 80-89, \"C\" for 70-79, \"D\" for 60-69, \"F\" for 0-59\n",
        "@check_exercise_121\n",
        "def exercise_121(grade):\n",
        "    # This line is mandatory and should not be removed\n",
        "    ex_stat_init = True\n",
        "\n",
        "    # BELOW GOES YOUR CODE\n",
        "    if 90 <= grade <= 100:\n",
        "        letter_grade = \"A\"\n",
        "    elif 80 <= grade < 90:\n",
        "        letter_grade = \"B\"\n",
        "    elif 70 <= grade < 80:\n",
        "        letter_grade = \"C\"\n",
        "    elif 60 <= grade < 70:\n",
        "        letter_grade = \"D\"\n",
        "    else:\n",
        "        letter_grade = \"F\"\n",
        "    # ABOVE GOES YOUR CODE\n",
        "\n",
        "    return {\"letter_grade\": letter_grade}\n",
        "\n",
        "# Run the exercise\n",
        "exercise_121()"
      ]
    },
    {
      "cell_type": "code",
      "execution_count": null,
      "id": "9b65c4f8",
      "metadata": {
        "id": "9b65c4f8",
        "outputId": "a1fed209-ca4b-4460-94cc-a09691725b61",
        "colab": {
          "base_uri": "https://localhost:8080/"
        }
      },
      "outputs": [
        {
          "output_type": "stream",
          "name": "stdout",
          "text": [
            "✅ Great job! Exercise completed successfully.\n"
          ]
        }
      ],
      "source": [
        "# Given a list of strings `phrases`, assign to the variable `contains_python` True if any phrase contains the word \"python\" (case-insensitive), False otherwise, using a generator expression\n",
        "@check_exercise_122\n",
        "def exercise_122(phrases):\n",
        "    # This line is mandatory and should not be removed\n",
        "    ex_stat_init = True\n",
        "\n",
        "    # BELOW GOES YOUR CODE\n",
        "    contains_python = any(\"python\" in phrase.lower() for phrase in phrases)\n",
        "    # ABOVE GOES YOUR CODE\n",
        "\n",
        "    return {\"contains_python\": contains_python}\n",
        "\n",
        "# Run the exercise\n",
        "exercise_122()"
      ]
    },
    {
      "cell_type": "code",
      "execution_count": null,
      "id": "d800bf35",
      "metadata": {
        "id": "d800bf35",
        "outputId": "5f867adb-17bf-4aab-962c-0f09afb12dfe",
        "colab": {
          "base_uri": "https://localhost:8080/"
        }
      },
      "outputs": [
        {
          "output_type": "stream",
          "name": "stdout",
          "text": [
            "✅ Great job! Exercise completed successfully.\n"
          ]
        }
      ],
      "source": [
        "# Given two sets `required_skills` and `candidate_skills`, assign to the variable `is_qualified` True if the candidate has all the required skills, False otherwise\n",
        "@check_exercise_123\n",
        "def exercise_123(required_skills, candidate_skills):\n",
        "    # This line is mandatory and should not be removed\n",
        "    ex_stat_init = True\n",
        "\n",
        "    # BELOW GOES YOUR CODE\n",
        "    is_qualified = required_skills.issubset(candidate_skills)\n",
        "    # ABOVE GOES YOUR CODE\n",
        "\n",
        "    return {\"is_qualified\": is_qualified}\n",
        "\n",
        "# Run the exercise\n",
        "exercise_123()"
      ]
    },
    {
      "cell_type": "code",
      "execution_count": null,
      "id": "32baeb34",
      "metadata": {
        "id": "32baeb34",
        "outputId": "c28ee6c9-9bd7-4c4b-e73c-024e6c79d9c5",
        "colab": {
          "base_uri": "https://localhost:8080/"
        }
      },
      "outputs": [
        {
          "output_type": "stream",
          "name": "stdout",
          "text": [
            "✅ Great job! Exercise completed successfully.\n"
          ]
        }
      ],
      "source": [
        "# Given a variable `product_code`, assign to the variable `is_electronics` True if the product code starts with \"EL\", False otherwise\n",
        "@check_exercise_124\n",
        "def exercise_124(product_code):\n",
        "    # This line is mandatory and should not be removed\n",
        "    ex_stat_init = True\n",
        "\n",
        "    # BELOW GOES YOUR CODE\n",
        "    is_electronics = product_code.startswith(\"EL\")\n",
        "    # ABOVE GOES YOUR CODE\n",
        "\n",
        "    return {\"is_electronics\": is_electronics}\n",
        "\n",
        "# Run the exercise\n",
        "exercise_124()"
      ]
    },
    {
      "cell_type": "code",
      "execution_count": null,
      "id": "ebfef0aa",
      "metadata": {
        "id": "ebfef0aa",
        "outputId": "5bf6af58-ae82-48fd-dce5-f6d96abcb59e",
        "colab": {
          "base_uri": "https://localhost:8080/"
        }
      },
      "outputs": [
        {
          "output_type": "stream",
          "name": "stdout",
          "text": [
            "✅ Great job! Exercise completed successfully.\n"
          ]
        }
      ],
      "source": [
        "# Given a dictionary `scores` with names as keys and numeric scores as values, assign to the variable `grades` a new dictionary where scores are replaced with letter grades (A: 90-100, B: 80-89, C: 70-79, D: 60-69, F: 0-59)\n",
        "@check_exercise_125\n",
        "def exercise_125(scores):\n",
        "    # This line is mandatory and should not be removed\n",
        "    ex_stat_init = True\n",
        "\n",
        "    # BELOW GOES YOUR CODE\n",
        "    grades = {name: (\"A\" if score >= 90 else\n",
        "                    \"B\" if score >= 80 else\n",
        "                    \"C\" if score >= 70 else\n",
        "                    \"D\" if score >= 60 else\n",
        "                    \"F\") for name, score in scores.items()}\n",
        "    # ABOVE GOES YOUR CODE\n",
        "\n",
        "    return {\"grades\": grades}\n",
        "\n",
        "# Run the exercise\n",
        "exercise_125()"
      ]
    },
    {
      "cell_type": "code",
      "execution_count": null,
      "id": "5afd68c2",
      "metadata": {
        "id": "5afd68c2",
        "outputId": "ecfb4951-79a2-4988-c028-70ceee9b523d",
        "colab": {
          "base_uri": "https://localhost:8080/"
        }
      },
      "outputs": [
        {
          "output_type": "stream",
          "name": "stdout",
          "text": [
            "✅ Great job! Exercise completed successfully.\n"
          ]
        }
      ],
      "source": [
        "# Given variables `hours`, `minutes`, and `seconds`, assign to the variable `time_of_day` \"Morning\" for 5:00-11:59, \"Afternoon\" for 12:00-16:59, \"Evening\" for 17:00-20:59, \"Night\" for 21:00-4:59\n",
        "@check_exercise_126\n",
        "def exercise_126(hours, minutes, seconds):\n",
        "    # This line is mandatory and should not be removed\n",
        "    ex_stat_init = True\n",
        "\n",
        "    # BELOW GOES YOUR CODE\n",
        "    if 5 <= hours < 12:\n",
        "        time_of_day = \"Morning\"\n",
        "    elif 12 <= hours < 17:\n",
        "        time_of_day = \"Afternoon\"\n",
        "    elif 17 <= hours < 21:\n",
        "        time_of_day = \"Evening\"\n",
        "    else:\n",
        "        time_of_day = \"Night\"\n",
        "    # ABOVE GOES YOUR CODE\n",
        "\n",
        "    return {\"time_of_day\": time_of_day}\n",
        "\n",
        "# Run the exercise\n",
        "exercise_126()"
      ]
    },
    {
      "cell_type": "code",
      "execution_count": null,
      "id": "61b1ade4",
      "metadata": {
        "id": "61b1ade4",
        "outputId": "adcf3153-75c0-4044-90af-877f1b42a305",
        "colab": {
          "base_uri": "https://localhost:8080/"
        }
      },
      "outputs": [
        {
          "output_type": "stream",
          "name": "stdout",
          "text": [
            "✅ Great job! Exercise completed successfully.\n"
          ]
        }
      ],
      "source": [
        "# Given a list `numbers`, assign to the variable `description` \"Ascending\" if the list is in ascending order, \"Descending\" if in descending order, \"Unsorted\" otherwise\n",
        "@check_exercise_127\n",
        "def exercise_127(numbers):\n",
        "    # This line is mandatory and should not be removed\n",
        "    ex_stat_init = True\n",
        "\n",
        "    # BELOW GOES YOUR CODE\n",
        "    if all(numbers[i] <= numbers[i + 1] for i in range(len(numbers) - 1)):\n",
        "        description = \"Ascending\"\n",
        "    elif all(numbers[i] >= numbers[i + 1] for i in range(len(numbers) - 1)):\n",
        "        description = \"Descending\"\n",
        "    else:\n",
        "        description = \"Unsorted\"\n",
        "    # ABOVE GOES YOUR CODE\n",
        "\n",
        "    return {\"description\": description}\n",
        "\n",
        "# Run the exercise\n",
        "exercise_127()"
      ]
    },
    {
      "cell_type": "code",
      "execution_count": null,
      "id": "b8986119",
      "metadata": {
        "id": "b8986119",
        "outputId": "c3f5578b-89a1-4388-f8ec-b1ffa3b09dc1",
        "colab": {
          "base_uri": "https://localhost:8080/"
        }
      },
      "outputs": [
        {
          "output_type": "stream",
          "name": "stdout",
          "text": [
            "✅ Great job! Exercise completed successfully.\n"
          ]
        }
      ],
      "source": [
        "# Given variables `username` and `domain`, assign to the variable `valid_email` True if `username` contains only letters, numbers, dots, or underscores and `domain` ends with \".com\", \".org\", or \".edu\", False otherwise\n",
        "@check_exercise_128\n",
        "def exercise_128(username, domain):\n",
        "    # This line is mandatory and should not be removed\n",
        "    ex_stat_init = True\n",
        "\n",
        "    # BELOW GOES YOUR CODE\n",
        "    valid_email = (\n",
        "        all(c.isalnum() or c in {'.', '_'} for c in username) and\n",
        "        domain.endswith(('.com', '.org', '.edu'))\n",
        "    )\n",
        "    # ABOVE GOES YOUR CODE\n",
        "\n",
        "    return {\"valid_email\": valid_email}\n",
        "\n",
        "# Run the exercise\n",
        "exercise_128()"
      ]
    },
    {
      "cell_type": "code",
      "execution_count": null,
      "id": "883b210e",
      "metadata": {
        "id": "883b210e",
        "outputId": "d40681da-aa62-486a-c894-cf7e95af92de",
        "colab": {
          "base_uri": "https://localhost:8080/"
        }
      },
      "outputs": [
        {
          "output_type": "stream",
          "name": "stdout",
          "text": [
            "✅ Great job! Exercise completed successfully.\n"
          ]
        }
      ],
      "source": [
        "# Given variables `sales_target`, `actual_sales`, `customer_satisfaction`, assign to the variable `bonus_percentage` 20% if sales target was met and satisfaction is above 4.5, 10% if either condition is true, 0% otherwise\n",
        "@check_exercise_129\n",
        "def exercise_129(sales_target, actual_sales, customer_satisfaction):\n",
        "    # This line is mandatory and should not be removed\n",
        "    ex_stat_init = True\n",
        "\n",
        "    # BELOW GOES YOUR CODE\n",
        "    if actual_sales >= sales_target and customer_satisfaction > 4.5:\n",
        "        bonus_percentage = 20\n",
        "    elif actual_sales >= sales_target or customer_satisfaction > 4.5:\n",
        "        bonus_percentage = 10\n",
        "    else:\n",
        "        bonus_percentage = 0\n",
        "    # ABOVE GOES YOUR CODE\n",
        "\n",
        "    return {\"bonus_percentage\": bonus_percentage}\n",
        "\n",
        "# Run the exercise\n",
        "exercise_129()"
      ]
    },
    {
      "cell_type": "code",
      "execution_count": null,
      "id": "f3b35212",
      "metadata": {
        "id": "f3b35212",
        "outputId": "49d84e5e-c643-45b4-d187-65c3928e8fa1",
        "colab": {
          "base_uri": "https://localhost:8080/"
        }
      },
      "outputs": [
        {
          "output_type": "stream",
          "name": "stdout",
          "text": [
            "✅ Great job! Exercise completed successfully.\n"
          ]
        }
      ],
      "source": [
        "# Given a dictionary `stock` and a variable `item`, assign to the variable `item_price` the price of the item if it exists in the stock, \"Not available\" otherwise, using a ternary operator and the dictionary's get method\n",
        "@check_exercise_130\n",
        "def exercise_130(stock, item):\n",
        "    # This line is mandatory and should not be removed\n",
        "    ex_stat_init = True\n",
        "\n",
        "    # BELOW GOES YOUR CODE\n",
        "    item_price = stock.get(item, \"Not available\")\n",
        "    # ABOVE GOES YOUR CODE\n",
        "\n",
        "    return {\"item_price\": item_price}\n",
        "\n",
        "# Run the exercise\n",
        "exercise_130()"
      ]
    },
    {
      "cell_type": "code",
      "execution_count": null,
      "id": "e9fc43ea",
      "metadata": {
        "id": "e9fc43ea",
        "outputId": "a48b5690-3856-40b0-b871-cf9faf54ef8e",
        "colab": {
          "base_uri": "https://localhost:8080/"
        }
      },
      "outputs": [
        {
          "output_type": "stream",
          "name": "stdout",
          "text": [
            "✅ Great job! Exercise completed successfully.\n"
          ]
        }
      ],
      "source": [
        "# Given a list of version strings `versions` in \"X.Y.Z\" format, assign to the variable `all_stable` True if all versions have X greater than or equal to 1, False otherwise\n",
        "@check_exercise_131\n",
        "def exercise_131(versions):\n",
        "    # This line is mandatory and should not be removed\n",
        "    ex_stat_init = True\n",
        "\n",
        "    # BELOW GOES YOUR CODE\n",
        "    all_stable = all(int(v.split('.')[0]) >= 1 for v in versions)\n",
        "    # ABOVE GOES YOUR CODE\n",
        "\n",
        "    return {\"all_stable\": all_stable}\n",
        "\n",
        "# Run the exercise\n",
        "exercise_131()"
      ]
    },
    {
      "cell_type": "code",
      "execution_count": null,
      "id": "9fca1b11",
      "metadata": {
        "id": "9fca1b11",
        "outputId": "28b2ab80-dfc2-4087-a988-dbade64f0deb",
        "colab": {
          "base_uri": "https://localhost:8080/"
        }
      },
      "outputs": [
        {
          "output_type": "stream",
          "name": "stdout",
          "text": [
            "✅ Great job! Exercise completed successfully.\n"
          ]
        }
      ],
      "source": [
        "# Given a list of numbers `values`, assign to the variable `signs` a new list where each number is replaced with \"positive\", \"negative\", or \"zero\"\n",
        "@check_exercise_132\n",
        "def exercise_132(values):\n",
        "    # This line is mandatory and should not be removed\n",
        "    ex_stat_init = True\n",
        "\n",
        "    # BELOW GOES YOUR CODE\n",
        "    signs = [\"positive\" if x > 0 else \"negative\" if x < 0 else \"zero\" for x in values]\n",
        "    # ABOVE GOES YOUR CODE\n",
        "\n",
        "    return {\"signs\": signs}\n",
        "\n",
        "# Run the exercise\n",
        "exercise_132()"
      ]
    },
    {
      "cell_type": "code",
      "execution_count": null,
      "id": "867d6b9f",
      "metadata": {
        "id": "867d6b9f",
        "outputId": "31be04f0-c73a-4152-f808-5e31e2e22f82",
        "colab": {
          "base_uri": "https://localhost:8080/"
        }
      },
      "outputs": [
        {
          "output_type": "stream",
          "name": "stdout",
          "text": [
            "✅ Great job! Exercise completed successfully.\n"
          ]
        }
      ],
      "source": [
        "# Given a variable `sentence`, assign to the variable `sentence_type` \"Question\" if it ends with \"?\", \"Exclamation\" if it ends with \"!\", \"Statement\" otherwise\n",
        "@check_exercise_133\n",
        "def exercise_133(sentence):\n",
        "    # This line is mandatory and should not be removed\n",
        "    ex_stat_init = True\n",
        "\n",
        "    # BELOW GOES YOUR CODE\n",
        "    sentence_type = \"Question\" if sentence.endswith(\"?\") else \"Exclamation\" if sentence.endswith(\"!\") else \"Statement\"\n",
        "    # ABOVE GOES YOUR CODE\n",
        "\n",
        "    return {\"sentence_type\": sentence_type}\n",
        "\n",
        "# Run the exercise\n",
        "exercise_133()"
      ]
    },
    {
      "cell_type": "code",
      "execution_count": null,
      "id": "e0eb043e",
      "metadata": {
        "id": "e0eb043e",
        "outputId": "bdc80322-a5a5-431f-c609-a5b02b41f77d",
        "colab": {
          "base_uri": "https://localhost:8080/"
        }
      },
      "outputs": [
        {
          "output_type": "stream",
          "name": "stdout",
          "text": [
            "✅ Great job! Exercise completed successfully.\n"
          ]
        }
      ],
      "source": [
        "# Given a date string `date_str` in \"YYYY-MM-DD\" format, assign to the variable `season` \"Winter\", \"Spring\", \"Summer\", or \"Fall\" based on the month\n",
        "@check_exercise_134\n",
        "def exercise_134(date_str):\n",
        "    # This line is mandatory and should not be removed\n",
        "    ex_stat_init = True\n",
        "\n",
        "    # BELOW GOES YOUR CODE\n",
        "    month = int(date_str.split(\"-\")[1])\n",
        "    season = \"Winter\" if month == 12 or month in [1, 2] else \"Spring\" if month in [3, 4, 5] else \"Summer\" if month in [6, 7, 8] else \"Fall\"\n",
        "    # ABOVE GOES YOUR CODE\n",
        "\n",
        "    return {\"season\": season}\n",
        "\n",
        "# Run the exercise\n",
        "exercise_134()"
      ]
    },
    {
      "cell_type": "code",
      "execution_count": null,
      "id": "a5573f18",
      "metadata": {
        "id": "a5573f18",
        "outputId": "feecd8d7-f4be-4257-856b-f8892c06ea95",
        "colab": {
          "base_uri": "https://localhost:8080/"
        }
      },
      "outputs": [
        {
          "output_type": "stream",
          "name": "stdout",
          "text": [
            "✅ Great job! Exercise completed successfully.\n"
          ]
        }
      ],
      "source": [
        "# Given three sets `A`, `B`, and `C`, assign to the variable `set_relation` \"Subset\" if A is a subset of B else \"Superset\" if C is a superset of B else \"Equal\" if A equals C else \"Disjoint\" if A and C are disjoint\n",
        "@check_exercise_135\n",
        "def exercise_135(A, B, C):\n",
        "    # This line is mandatory and should not be removed\n",
        "    ex_stat_init = True\n",
        "\n",
        "    # BELOW GOES YOUR CODE\n",
        "    set_relation = \"Subset\" if A.issubset(B) else \"Superset\" if C.issuperset(B) else \"Equal\" if A == C else \"Disjoint\" if A.isdisjoint(C) else \"None\"\n",
        "    # ABOVE GOES YOUR CODE\n",
        "\n",
        "    return {\"set_relation\": set_relation}\n",
        "\n",
        "# Run the exercise\n",
        "exercise_135()"
      ]
    },
    {
      "cell_type": "code",
      "execution_count": null,
      "id": "ae95aa14",
      "metadata": {
        "id": "ae95aa14",
        "outputId": "e80bd48a-1a50-4b74-d705-931f563ebda8",
        "colab": {
          "base_uri": "https://localhost:8080/"
        }
      },
      "outputs": [
        {
          "output_type": "stream",
          "name": "stdout",
          "text": [
            "✅ Great job! Exercise completed successfully.\n"
          ]
        }
      ],
      "source": [
        "# Given a list of numbers `numbers`, create a new list `squared` containing the square of each number\n",
        "@check_exercise_136\n",
        "def exercise_136(numbers):\n",
        "    # This line is mandatory and should not be removed\n",
        "    ex_stat_init = True\n",
        "\n",
        "    # BELOW GOES YOUR CODE\n",
        "    squared = [x ** 2 for x in numbers]\n",
        "    # ABOVE GOES YOUR CODE\n",
        "\n",
        "    return {\"squared\": squared}\n",
        "\n",
        "# Run the exercise\n",
        "exercise_136()"
      ]
    },
    {
      "cell_type": "code",
      "execution_count": null,
      "id": "3dfab234",
      "metadata": {
        "id": "3dfab234",
        "outputId": "19820296-c4ef-45a7-bb71-82a2c199f1ec",
        "colab": {
          "base_uri": "https://localhost:8080/"
        }
      },
      "outputs": [
        {
          "output_type": "stream",
          "name": "stdout",
          "text": [
            "✅ Great job! Exercise completed successfully.\n"
          ]
        }
      ],
      "source": [
        "# Given a number `n`, calculate its factorial using a while loop\n",
        "@check_exercise_137\n",
        "def exercise_137(n):\n",
        "    # This line is mandatory and should not be removed\n",
        "    ex_stat_init = True\n",
        "\n",
        "    # BELOW GOES YOUR CODE\n",
        "    factorial = 1\n",
        "    count = 1\n",
        "    while count <= n:\n",
        "        factorial *= count\n",
        "        count += 1\n",
        "    # ABOVE GOES YOUR CODE\n",
        "\n",
        "    return {\"factorial\": factorial}\n",
        "\n",
        "# Run the exercise\n",
        "exercise_137()"
      ]
    },
    {
      "cell_type": "code",
      "execution_count": null,
      "id": "940ae419",
      "metadata": {
        "id": "940ae419",
        "outputId": "5c800c82-776c-4819-85e8-9e9d68fb1363",
        "colab": {
          "base_uri": "https://localhost:8080/"
        }
      },
      "outputs": [
        {
          "output_type": "stream",
          "name": "stdout",
          "text": [
            "✅ Great job! Exercise completed successfully.\n"
          ]
        }
      ],
      "source": [
        "# Given a number `n`, assign to the variable `output` a string with `n` lines, each containing `i` asterisks, where `i` ranges from 1 to `n` in the format \"*\\n**\\n***\\n\"\n",
        "@check_exercise_138\n",
        "def exercise_138(n):\n",
        "    # This line is mandatory and should not be removed\n",
        "    ex_stat_init = True\n",
        "\n",
        "    # BELOW GOES YOUR CODE\n",
        "    output = \"\"\n",
        "    for i in range(1, n + 1):\n",
        "        output += '*' * i + '\\n'\n",
        "    # ABOVE GOES YOUR CODE\n",
        "    return {\"output\": output}\n",
        "\n",
        "# Run the exercise\n",
        "exercise_138()"
      ]
    },
    {
      "cell_type": "code",
      "execution_count": null,
      "id": "f431ebc6",
      "metadata": {
        "id": "f431ebc6",
        "outputId": "7115d7f0-39a5-43a0-de39-23a0684d37e4",
        "colab": {
          "base_uri": "https://localhost:8080/"
        }
      },
      "outputs": [
        {
          "output_type": "stream",
          "name": "stdout",
          "text": [
            "✅ Great job! Exercise completed successfully.\n"
          ]
        }
      ],
      "source": [
        "# Given a list of strings `words`, create a new list `indexed_words` where each element is a tuple of (index, word)\n",
        "@check_exercise_139\n",
        "def exercise_139(words):\n",
        "    # This line is mandatory and should not be removed\n",
        "    ex_stat_init = True\n",
        "\n",
        "    # BELOW GOES YOUR CODE\n",
        "    indexed_words = [(index, word) for index, word in enumerate(words)]\n",
        "    # ABOVE GOES YOUR CODE\n",
        "\n",
        "    return {\"indexed_words\": indexed_words}\n",
        "\n",
        "# Run the exercise\n",
        "exercise_139()"
      ]
    },
    {
      "cell_type": "code",
      "execution_count": null,
      "id": "d11a42e3",
      "metadata": {
        "id": "d11a42e3",
        "outputId": "0b7f3c07-74d7-476d-90a8-40a69a375814",
        "colab": {
          "base_uri": "https://localhost:8080/"
        }
      },
      "outputs": [
        {
          "output_type": "stream",
          "name": "stdout",
          "text": [
            "✅ Great job! Exercise completed successfully.\n"
          ]
        }
      ],
      "source": [
        "# Given two lists `names` and `ages`, create a dictionary `person_info` where names are keys and ages are values\n",
        "@check_exercise_140\n",
        "def exercise_140(names, ages):\n",
        "    # This line is mandatory and should not be removed\n",
        "    ex_stat_init = True\n",
        "\n",
        "    # BELOW GOES YOUR CODE\n",
        "    person_info = dict(zip(names, ages))\n",
        "    # ABOVE GOES YOUR CODE\n",
        "\n",
        "    return {\"person_info\": person_info}\n",
        "\n",
        "# Run the exercise\n",
        "exercise_140()"
      ]
    },
    {
      "cell_type": "code",
      "execution_count": null,
      "id": "153336ce",
      "metadata": {
        "id": "153336ce",
        "outputId": "a4ec321f-23d0-4807-9076-887c958bbf70",
        "colab": {
          "base_uri": "https://localhost:8080/"
        }
      },
      "outputs": [
        {
          "output_type": "stream",
          "name": "stdout",
          "text": [
            "✅ Great job! Exercise completed successfully.\n"
          ]
        }
      ],
      "source": [
        "# Given a list of numbers `numbers`, create a new list `doubled` containing only the even numbers multiplied by 2\n",
        "@check_exercise_141\n",
        "def exercise_141(numbers):\n",
        "    # This line is mandatory and should not be removed\n",
        "    ex_stat_init = True\n",
        "\n",
        "    # BELOW GOES YOUR CODE\n",
        "    doubled = [x * 2 for x in numbers if x % 2 == 0]\n",
        "    # ABOVE GOES YOUR CODE\n",
        "\n",
        "    return {\"doubled\": doubled}\n",
        "\n",
        "# Run the exercise\n",
        "exercise_141()"
      ]
    },
    {
      "cell_type": "code",
      "execution_count": null,
      "id": "b25e495a",
      "metadata": {
        "id": "b25e495a",
        "outputId": "587b26ec-2f0d-4d71-d4c6-30069132d6e1",
        "colab": {
          "base_uri": "https://localhost:8080/"
        }
      },
      "outputs": [
        {
          "output_type": "stream",
          "name": "stdout",
          "text": [
            "✅ Great job! Exercise completed successfully.\n"
          ]
        }
      ],
      "source": [
        "# Given a list of strings `words`, create a new list `long_words` containing all the words with more than 5 characters from the original list except for \"python\"\n",
        "@check_exercise_142\n",
        "def exercise_142(words):\n",
        "    # This line is mandatory and should not be removed\n",
        "    ex_stat_init = True\n",
        "\n",
        "    # BELOW GOES YOUR CODE\n",
        "    long_words = [word for word in words if len(word) > 5 and word.lower() != \"python\"]\n",
        "    # ABOVE GOES YOUR CODE\n",
        "\n",
        "    return {\"long_words\": long_words}\n",
        "\n",
        "# Run the exercise\n",
        "exercise_142()"
      ]
    },
    {
      "cell_type": "code",
      "execution_count": null,
      "id": "00a68461",
      "metadata": {
        "id": "00a68461",
        "outputId": "d414c110-fe33-4b17-b2ab-15b54b625182",
        "colab": {
          "base_uri": "https://localhost:8080/"
        }
      },
      "outputs": [
        {
          "output_type": "stream",
          "name": "stdout",
          "text": [
            "✅ Great job! Exercise completed successfully.\n"
          ]
        }
      ],
      "source": [
        "# Given a list of numbers `numbers`, assign to the variable `string_of_numbers` a string containing all the numbers greater than 100, separated by commas, or \"Not found\" if none are found\n",
        "@check_exercise_143\n",
        "def exercise_143(numbers):\n",
        "    # This line is mandatory and should not be removed\n",
        "    ex_stat_init = True\n",
        "\n",
        "    # BELOW GOES YOUR CODE\n",
        "    string_of_numbers = ','.join(str(x) for x in numbers if x > 100) if any(x > 100 for x in numbers) else \"Not found\"\n",
        "    # ABOVE GOES YOUR CODE\n",
        "    return {\"string_of_numbers\": string_of_numbers}\n",
        "\n",
        "# Run the exercise\n",
        "exercise_143()"
      ]
    },
    {
      "cell_type": "code",
      "execution_count": null,
      "id": "d04d4edd",
      "metadata": {
        "id": "d04d4edd",
        "outputId": "4deecfd2-08b5-4e64-83b1-652ad782c972",
        "colab": {
          "base_uri": "https://localhost:8080/"
        }
      },
      "outputs": [
        {
          "output_type": "stream",
          "name": "stdout",
          "text": [
            "✅ Great job! Exercise completed successfully.\n"
          ]
        }
      ],
      "source": [
        "# Given a list of numbers `numbers`, create a new list `positive_numbers` containing only the positive numbers\n",
        "@check_exercise_144\n",
        "def exercise_144(numbers):\n",
        "    # This line is mandatory and should not be removed\n",
        "    ex_stat_init = True\n",
        "\n",
        "    # BELOW GOES YOUR CODE\n",
        "    positive_numbers = [num for num in numbers if num > 0]\n",
        "    # ABOVE GOES YOUR CODE\n",
        "\n",
        "    return {\"positive_numbers\": positive_numbers}\n",
        "\n",
        "# Run the exercise\n",
        "exercise_144()"
      ]
    },
    {
      "cell_type": "code",
      "execution_count": null,
      "id": "4ff0a4c8",
      "metadata": {
        "id": "4ff0a4c8",
        "outputId": "afa09f87-8d59-4ac5-972d-736a214b0cab",
        "colab": {
          "base_uri": "https://localhost:8080/"
        }
      },
      "outputs": [
        {
          "output_type": "stream",
          "name": "stdout",
          "text": [
            "✅ Great job! Exercise completed successfully.\n"
          ]
        }
      ],
      "source": [
        "# Assign all multiples of 5 from 5 to 50 (inclusive) using a for loop and range() to the variable `multiples_of_five`\n",
        "@check_exercise_145\n",
        "def exercise_145():\n",
        "    # This line is mandatory and should not be removed\n",
        "    ex_stat_init = True\n",
        "\n",
        "    # BELOW GOES YOUR CODE\n",
        "    multiples_of_five = [num for num in range(5, 51) if num % 5 == 0]\n",
        "    # ABOVE GOES YOUR CODE\n",
        "\n",
        "    return {\"multiples_of_five\": multiples_of_five}\n",
        "\n",
        "# Run the exercise\n",
        "exercise_145()"
      ]
    },
    {
      "cell_type": "code",
      "execution_count": null,
      "id": "846353a5",
      "metadata": {
        "id": "846353a5",
        "outputId": "3c459b7c-cbb4-43d0-e96e-1f93812fbe0e",
        "colab": {
          "base_uri": "https://localhost:8080/"
        }
      },
      "outputs": [
        {
          "output_type": "stream",
          "name": "stdout",
          "text": [
            "✅ Great job! Exercise completed successfully.\n"
          ]
        }
      ],
      "source": [
        "# Given a list of numbers `numbers`, assign to the variable `sum_of_even` the sum of all even numbers in the list found till the first negative number\n",
        "@check_exercise_146\n",
        "def exercise_146(numbers):\n",
        "    # This line is mandatory and should not be removed\n",
        "    ex_stat_init = True\n",
        "\n",
        "    # BELOW GOES YOUR CODE\n",
        "    sum_of_even = 0\n",
        "    for num in numbers:\n",
        "        if num < 0:\n",
        "            break\n",
        "        if num % 2 == 0:\n",
        "            sum_of_even += num\n",
        "    # ABOVE GOES YOUR CODE\n",
        "\n",
        "    return {\"sum_of_even\": sum_of_even}\n",
        "\n",
        "# Run the exercise\n",
        "exercise_146()"
      ]
    },
    {
      "cell_type": "code",
      "execution_count": null,
      "id": "7a453c1f",
      "metadata": {
        "id": "7a453c1f",
        "outputId": "2aca55df-21fa-48df-8879-91f84741f9e7",
        "colab": {
          "base_uri": "https://localhost:8080/"
        }
      },
      "outputs": [
        {
          "output_type": "stream",
          "name": "stdout",
          "text": [
            "✅ Great job! Exercise completed successfully.\n"
          ]
        }
      ],
      "source": [
        "# Given a 2D list `matrix`, calculate and assign the sum of each row to a new list `row_sums`\n",
        "@check_exercise_147\n",
        "def exercise_147(matrix):\n",
        "    # This line is mandatory and should not be removed\n",
        "    ex_stat_init = True\n",
        "\n",
        "    # BELOW GOES YOUR CODE\n",
        "    row_sums = [sum(row) for row in matrix]\n",
        "    # ABOVE GOES YOUR CODE\n",
        "\n",
        "    return {\"row_sums\": row_sums}\n",
        "\n",
        "# Run the exercise\n",
        "exercise_147()"
      ]
    },
    {
      "cell_type": "code",
      "execution_count": null,
      "id": "1f3240b2",
      "metadata": {
        "id": "1f3240b2",
        "outputId": "d97e1ae9-c0a1-4bc4-ba09-a7294a2dc0b9",
        "colab": {
          "base_uri": "https://localhost:8080/"
        }
      },
      "outputs": [
        {
          "output_type": "stream",
          "name": "stdout",
          "text": [
            "✅ Great job! Exercise completed successfully.\n"
          ]
        }
      ],
      "source": [
        "# Given three lists `names`, `ages`, and `cities`, create a list of dictionaries `people` where each dictionary contains the name, age, and city of a person\n",
        "@check_exercise_148\n",
        "def exercise_148(names, ages, cities):\n",
        "    # This line is mandatory and should not be removed\n",
        "    ex_stat_init = True\n",
        "\n",
        "    # BELOW GOES YOUR CODE\n",
        "    people = [{\"name\": name, \"age\": age, \"city\": city} for name, age, city in zip(names, ages, cities)]\n",
        "    # ABOVE GOES YOUR CODE\n",
        "\n",
        "    return {\"people\": people}\n",
        "\n",
        "# Run the exercise\n",
        "exercise_148()"
      ]
    },
    {
      "cell_type": "code",
      "execution_count": null,
      "id": "b29a9d30",
      "metadata": {
        "id": "b29a9d30",
        "outputId": "7ac030b8-3764-47c1-cf24-6174fb3fe898",
        "colab": {
          "base_uri": "https://localhost:8080/"
        }
      },
      "outputs": [
        {
          "output_type": "stream",
          "name": "stdout",
          "text": [
            "✅ Great job! Exercise completed successfully.\n"
          ]
        }
      ],
      "source": [
        "# Create 2D list of a 5x5 multiplication table named `multiplication_table`, but skip the multiplication step when either number is 3 and assign 0 instead\n",
        "@check_exercise_149\n",
        "def exercise_149():\n",
        "    # This line is mandatory and should not be removed\n",
        "    ex_stat_init = True\n",
        "\n",
        "    # BELOW GOES YOUR CODE\n",
        "    multiplication_table = [[(i * j if i != 3 and j != 3 else 0) for j in range(1, 6)] for i in range(1, 6)]\n",
        "    # ABOVE GOES YOUR CODE\n",
        "\n",
        "    return {\"multiplication_table\": multiplication_table}\n",
        "\n",
        "# Run the exercise\n",
        "exercise_149()"
      ]
    },
    {
      "cell_type": "code",
      "execution_count": null,
      "id": "fabc25d9",
      "metadata": {
        "id": "fabc25d9",
        "outputId": "ebcaad08-e672-493c-d2e9-aaf9991b0072",
        "colab": {
          "base_uri": "https://localhost:8080/"
        }
      },
      "outputs": [
        {
          "output_type": "stream",
          "name": "stdout",
          "text": [
            "✅ Great job! Exercise completed successfully.\n"
          ]
        }
      ],
      "source": [
        "# Given a 2D list `matrix`, find and assign the first negative number to the variable `value`, or 0 if no negative number is found\n",
        "@check_exercise_150\n",
        "def exercise_150(matrix):\n",
        "    # This line is mandatory and should not be removed\n",
        "    ex_stat_init = True\n",
        "\n",
        "    # BELOW GOES YOUR CODE\n",
        "    value = next((num for row in matrix for num in row if num < 0), 0)\n",
        "    # ABOVE GOES YOUR CODE\n",
        "\n",
        "    return {\"value\": value}\n",
        "\n",
        "# Run the exercise\n",
        "exercise_150()"
      ]
    },
    {
      "cell_type": "code",
      "execution_count": null,
      "id": "69cdbf51",
      "metadata": {
        "id": "69cdbf51",
        "outputId": "b66983eb-6644-4872-cd13-17b405db4812",
        "colab": {
          "base_uri": "https://localhost:8080/"
        }
      },
      "outputs": [
        {
          "output_type": "stream",
          "name": "stdout",
          "text": [
            "✅ Great job! Exercise completed successfully.\n"
          ]
        }
      ],
      "source": [
        "# Given a dictionary `inventory` with item names as keys and quantities as values, create a new dictionary `low_stock` containing only items with quantities less than 10\n",
        "@check_exercise_151\n",
        "def exercise_151(inventory):\n",
        "    # This line is mandatory and should not be removed\n",
        "    ex_stat_init = True\n",
        "\n",
        "    # BELOW GOES YOUR CODE\n",
        "    low_stock = {item: quantity for item, quantity in inventory.items() if quantity < 10}\n",
        "    # ABOVE GOES YOUR CODE\n",
        "\n",
        "    return {\"low_stock\": low_stock}\n",
        "\n",
        "# Run the exercise\n",
        "exercise_151()"
      ]
    },
    {
      "cell_type": "code",
      "execution_count": null,
      "id": "a11e6852",
      "metadata": {
        "id": "a11e6852",
        "outputId": "cb9db089-d6d5-4a3a-dd5c-0dd2542d0a11",
        "colab": {
          "base_uri": "https://localhost:8080/"
        }
      },
      "outputs": [
        {
          "output_type": "stream",
          "name": "stdout",
          "text": [
            "✅ Great job! Exercise completed successfully.\n"
          ]
        }
      ],
      "source": [
        "# Given a list of numbers `numbers`, replace each number with the sum of itself and the next number (the last number should remain unchanged)\n",
        "@check_exercise_152\n",
        "def exercise_152(numbers):\n",
        "    # This line is mandatory and should not be removed\n",
        "    ex_stat_init = True\n",
        "\n",
        "    # BELOW GOES YOUR CODE\n",
        "    numbers = [numbers[i] + numbers[i + 1] if i < len(numbers) - 1 else numbers[i] for i in range(len(numbers))]\n",
        "    # ABOVE GOES YOUR CODE\n",
        "\n",
        "    return {\"numbers\": numbers}\n",
        "\n",
        "# Run the exercise\n",
        "exercise_152()"
      ]
    },
    {
      "cell_type": "code",
      "execution_count": null,
      "id": "be6bb731",
      "metadata": {
        "id": "be6bb731",
        "outputId": "b38a725d-afc3-49f5-cd0c-6d73d2f484b7",
        "colab": {
          "base_uri": "https://localhost:8080/"
        }
      },
      "outputs": [
        {
          "output_type": "stream",
          "name": "stdout",
          "text": [
            "✅ Great job! Exercise completed successfully.\n"
          ]
        }
      ],
      "source": [
        "# Given a number `n`, assign all prime numbers less than n to the list `primes`\n",
        "@check_exercise_153\n",
        "def exercise_153(n):\n",
        "    # This line is mandatory and should not be removed\n",
        "    ex_stat_init = True\n",
        "\n",
        "    # BELOW GOES YOUR CODE\n",
        "    primes = [num for num in range(2, n) if all(num % i != 0 for i in range(2, int(num**0.5) + 1))]\n",
        "    # ABOVE GOES YOUR CODE\n",
        "\n",
        "    return {\"primes\": primes}\n",
        "\n",
        "# Run the exercise\n",
        "exercise_153()"
      ]
    },
    {
      "cell_type": "code",
      "execution_count": null,
      "id": "8dfe5dc4",
      "metadata": {
        "id": "8dfe5dc4",
        "outputId": "0c2a5c36-88ab-43ef-8e5b-42d3bd32ae31",
        "colab": {
          "base_uri": "https://localhost:8080/"
        }
      },
      "outputs": [
        {
          "output_type": "stream",
          "name": "stdout",
          "text": [
            "✅ Great job! Exercise completed successfully.\n"
          ]
        }
      ],
      "source": [
        "# Given a positive integer `n`, assign its binary representation as a string to the variable `binary`\n",
        "@check_exercise_154\n",
        "def exercise_154(n):\n",
        "    # This line is mandatory and should not be removed\n",
        "    ex_stat_init = True\n",
        "\n",
        "    # BELOW GOES YOUR CODE\n",
        "    binary = bin(n)[2:]\n",
        "    # ABOVE GOES YOUR CODE\n",
        "\n",
        "    return {\"binary\": binary}\n",
        "\n",
        "# Run the exercise\n",
        "exercise_154()"
      ]
    },
    {
      "cell_type": "code",
      "execution_count": null,
      "id": "2b0e55e7",
      "metadata": {
        "id": "2b0e55e7",
        "outputId": "a95c2c70-5453-4afa-ac6f-0633652f4ac9",
        "colab": {
          "base_uri": "https://localhost:8080/"
        }
      },
      "outputs": [
        {
          "output_type": "stream",
          "name": "stdout",
          "text": [
            "✅ Great job! Exercise completed successfully.\n"
          ]
        }
      ],
      "source": [
        "# Given a string `text`, create a new string named `processed`where every second character is replaced with '_'\n",
        "@check_exercise_155\n",
        "def exercise_155(text):\n",
        "    # This line is mandatory and should not be removed\n",
        "    ex_stat_init = True\n",
        "\n",
        "    # BELOW GOES YOUR CODE\n",
        "    processed = ''.join(char if i % 2 == 0 else '_' for i, char in enumerate(text))\n",
        "    # ABOVE GOES YOUR CODE\n",
        "\n",
        "    return {\"processed\": processed}\n",
        "\n",
        "# Run the exercise\n",
        "exercise_155()"
      ]
    },
    {
      "cell_type": "code",
      "execution_count": null,
      "id": "9394362b",
      "metadata": {
        "id": "9394362b",
        "outputId": "fa85b004-8ee4-4f39-c8cf-860d1b305ca1",
        "colab": {
          "base_uri": "https://localhost:8080/"
        }
      },
      "outputs": [
        {
          "output_type": "stream",
          "name": "stdout",
          "text": [
            "✅ Great job! Exercise completed successfully.\n"
          ]
        }
      ],
      "source": [
        "# Given two lists of numbers `list1` and `list2`, create a new list containing the larger number for each index between the two lists\n",
        "@check_exercise_156\n",
        "def exercise_156(list1, list2):\n",
        "    # This line is mandatory and should not be removed\n",
        "    ex_stat_init = True\n",
        "\n",
        "    # BELOW GOES YOUR CODE\n",
        "    larger_numbers = [max(num1, num2) for num1, num2 in zip(list1, list2)]\n",
        "    # ABOVE GOES YOUR CODE\n",
        "\n",
        "    return {\"larger_numbers\": larger_numbers}\n",
        "\n",
        "# Run the exercise\n",
        "exercise_156()"
      ]
    },
    {
      "cell_type": "code",
      "execution_count": null,
      "id": "5e06859c",
      "metadata": {
        "id": "5e06859c",
        "outputId": "861e72e4-f2fa-47d8-a003-af7cfe1b30a3",
        "colab": {
          "base_uri": "https://localhost:8080/"
        }
      },
      "outputs": [
        {
          "output_type": "stream",
          "name": "stdout",
          "text": [
            "✅ Great job! Exercise completed successfully.\n"
          ]
        }
      ],
      "source": [
        "# Given a 3D list `matrix`, assign to the variable `flattened` a new list containing all the elements of the matrix in a single dimension\n",
        "@check_exercise_157\n",
        "def exercise_157(matrix):\n",
        "    # This line is mandatory and should not be removed\n",
        "    ex_stat_init = True\n",
        "\n",
        "    # BELOW GOES YOUR CODE\n",
        "    flattened = [element for sublist1 in matrix for sublist2 in sublist1 for element in sublist2]\n",
        "    # ABOVE GOES YOUR CODE\n",
        "\n",
        "    return {\"flattened\": flattened}\n",
        "\n",
        "# Run the exercise\n",
        "exercise_157()"
      ]
    },
    {
      "cell_type": "code",
      "execution_count": null,
      "id": "d70293b1",
      "metadata": {
        "id": "d70293b1",
        "outputId": "b221c19d-08ab-443a-e89c-40f28f07b3d0",
        "colab": {
          "base_uri": "https://localhost:8080/"
        }
      },
      "outputs": [
        {
          "output_type": "stream",
          "name": "stdout",
          "text": [
            "✅ Great job! Exercise completed successfully.\n"
          ]
        }
      ],
      "source": [
        "# Given a 3D list `matrix` and `target`, assign to the tuple `indexes` the indices of the target element in the matrix, or (-1, -1, -1) if not found\n",
        "@check_exercise_158\n",
        "def exercise_158(matrix, target):\n",
        "    # This line is mandatory and should not be removed\n",
        "    ex_stat_init = True\n",
        "\n",
        "    # BELOW GOES YOUR CODE\n",
        "    indexes = next(((i, j, k) for i, sublist1 in enumerate(matrix)\n",
        "                    for j, sublist2 in enumerate(sublist1)\n",
        "                    for k, element in enumerate(sublist2)\n",
        "                    if element == target), (-1, -1, -1))\n",
        "    # ABOVE GOES YOUR CODE\n",
        "\n",
        "    return {\"indexes\": indexes}\n",
        "\n",
        "# Run the exercise\n",
        "exercise_158()"
      ]
    },
    {
      "cell_type": "code",
      "execution_count": null,
      "id": "91ab016d",
      "metadata": {
        "id": "91ab016d",
        "outputId": "b0df778d-f87c-4bf3-edda-33cb08c65a3f",
        "colab": {
          "base_uri": "https://localhost:8080/"
        }
      },
      "outputs": [
        {
          "output_type": "stream",
          "name": "stdout",
          "text": [
            "✅ Great job! Exercise completed successfully.\n"
          ]
        }
      ],
      "source": [
        "# Given a dictionary `school` where keys are subject names and values are dictionaries with keys are student names and values are grades, assign to the variable `average_grades` a new dictionary with subject names as keys and average grades on the subject as values\n",
        "@check_exercise_159\n",
        "def exercise_159(school):\n",
        "    # This line is mandatory and should not be removed\n",
        "    ex_stat_init = True\n",
        "\n",
        "    # BELOW GOES YOUR CODE\n",
        "    average_grades = {subject: sum(grades.values()) / len(grades) for subject, grades in school.items()}\n",
        "    # ABOVE GOES YOUR CODE\n",
        "\n",
        "    return {\"average_grades\": average_grades}\n",
        "\n",
        "# Run the exercise\n",
        "exercise_159()"
      ]
    },
    {
      "cell_type": "code",
      "execution_count": null,
      "id": "60a0d239",
      "metadata": {
        "id": "60a0d239",
        "outputId": "cfdd403b-515b-444a-fbf0-6f12f438d927",
        "colab": {
          "base_uri": "https://localhost:8080/"
        }
      },
      "outputs": [
        {
          "output_type": "stream",
          "name": "stdout",
          "text": [
            "✅ Great job! Exercise completed successfully.\n"
          ]
        }
      ],
      "source": [
        "# Given a list of numbers `numbers`, create a new list `sums` where each element is the sum of the current and the next two elements in the original list (the last two elements should use 0 for missing values)\n",
        "@check_exercise_160\n",
        "def exercise_160(numbers):\n",
        "    # This line is mandatory and should not be removed\n",
        "    ex_stat_init = True\n",
        "\n",
        "    # BELOW GOES YOUR CODE\n",
        "    sums = [numbers[i] + numbers[i + 1] + numbers[i + 2] if i + 2 < len(numbers) else numbers[i] + (numbers[i + 1] if i + 1 < len(numbers) else 0) + 0 for i in range(len(numbers))]\n",
        "    # ABOVE GOES YOUR CODE\n",
        "\n",
        "    return {\"sums\": sums}\n",
        "\n",
        "# Run the exercise\n",
        "exercise_160()"
      ]
    },
    {
      "cell_type": "code",
      "execution_count": null,
      "id": "4ac3d0cd",
      "metadata": {
        "id": "4ac3d0cd",
        "outputId": "6be45023-22a7-43ee-8e28-9219061999d8",
        "colab": {
          "base_uri": "https://localhost:8080/"
        }
      },
      "outputs": [
        {
          "output_type": "stream",
          "name": "stdout",
          "text": [
            "✅ Great job! Exercise completed successfully.\n"
          ]
        }
      ],
      "source": [
        "# Given two lists `x_coords` and `y_coords` and `accepted_coordinates`, assign all possible coordinate pairs (x, y) to the list `coordinates` where x is from `x_coords`, y is from `y_coords`, and the pair is in `accepted_coordinates`\n",
        "@check_exercise_161\n",
        "def exercise_161(x_coords, y_coords, accepted_coordinates):\n",
        "    # This line is mandatory and should not be removed\n",
        "    ex_stat_init = True\n",
        "\n",
        "    # BELOW GOES YOUR CODE\n",
        "    coordinates = [(x, y) for x in x_coords for y in y_coords if (x, y) in accepted_coordinates]\n",
        "    # ABOVE GOES YOUR CODE\n",
        "\n",
        "    return {\"coordinates\": coordinates}\n",
        "\n",
        "# Run the exercise\n",
        "exercise_161()"
      ]
    },
    {
      "cell_type": "code",
      "execution_count": null,
      "id": "6e5cb851",
      "metadata": {
        "id": "6e5cb851",
        "outputId": "ee2070f2-fe0e-48a8-c899-01a33bfc7354",
        "colab": {
          "base_uri": "https://localhost:8080/"
        }
      },
      "outputs": [
        {
          "output_type": "stream",
          "name": "stdout",
          "text": [
            "✅ Great job! Exercise completed successfully.\n"
          ]
        }
      ],
      "source": [
        "# Given a list `items` and a number `k`, create a new list named `rotated` where the elements are rotated k positions to the right\n",
        "@check_exercise_162\n",
        "def exercise_162(items, k):\n",
        "    # This line is mandatory and should not be removed\n",
        "    ex_stat_init = True\n",
        "\n",
        "    # BELOW GOES YOUR CODE\n",
        "    rotated = items[-k:] + items[:-k] if items else items\n",
        "    # ABOVE GOES YOUR CODE\n",
        "\n",
        "    return {\"rotated\": rotated}\n",
        "\n",
        "# Run the exercise\n",
        "exercise_162()"
      ]
    },
    {
      "cell_type": "code",
      "execution_count": null,
      "id": "5dda794c",
      "metadata": {
        "id": "5dda794c",
        "outputId": "372e315b-cacf-4f34-b3a4-c086bf58b00f",
        "colab": {
          "base_uri": "https://localhost:8080/"
        }
      },
      "outputs": [
        {
          "output_type": "stream",
          "name": "stdout",
          "text": [
            "✅ Great job! Exercise completed successfully.\n"
          ]
        }
      ],
      "source": [
        "# Given three lists `keys`, `values`, and `defaults`, create a dictionary `merged` where keys are from `keys`, values are from `values` if available, otherwise from `defaults`\n",
        "@check_exercise_163\n",
        "def exercise_163(keys, values, defaults):\n",
        "    # This line is mandatory and should not be removed\n",
        "    ex_stat_init = True\n",
        "\n",
        "    # BELOW GOES YOUR CODE\n",
        "    merged = {keys[i]: values[i] if i < len(values) else defaults[i-len(values)] for i in range(len(keys))}\n",
        "    # ABOVE GOES YOUR CODE\n",
        "\n",
        "    return {\"merged\": merged}\n",
        "\n",
        "# Run the exercise\n",
        "exercise_163()"
      ]
    },
    {
      "cell_type": "code",
      "execution_count": null,
      "id": "a326936e",
      "metadata": {
        "id": "a326936e",
        "outputId": "af186dab-a60b-4e97-8004-eeaaccc10390",
        "colab": {
          "base_uri": "https://localhost:8080/"
        }
      },
      "outputs": [
        {
          "output_type": "stream",
          "name": "stdout",
          "text": [
            "✅ Great job! Exercise completed successfully.\n"
          ]
        }
      ],
      "source": [
        "# Given a list of strings `data`, create a new list named `lowercase` with all strings converted to lowercase, skipping any string that's shorter than 3 characters\n",
        "@check_exercise_164\n",
        "def exercise_164(data):\n",
        "    # This line is mandatory and should not be removed\n",
        "    ex_stat_init = True\n",
        "\n",
        "    # BELOW GOES YOUR CODE\n",
        "    lowercase = [s.lower() for s in data if len(s) > 3]\n",
        "    # ABOVE GOES YOUR CODE\n",
        "\n",
        "    return {\"lowercase\": lowercase}\n",
        "\n",
        "# Run the exercise\n",
        "exercise_164()"
      ]
    },
    {
      "cell_type": "code",
      "execution_count": null,
      "id": "78120bc8",
      "metadata": {
        "id": "78120bc8",
        "outputId": "10fdc83c-5e00-4c0e-e5d3-2acc098fadce",
        "colab": {
          "base_uri": "https://localhost:8080/"
        }
      },
      "outputs": [
        {
          "output_type": "stream",
          "name": "stdout",
          "text": [
            "✅ Great job! Exercise completed successfully.\n"
          ]
        }
      ],
      "source": [
        "# Given a list of numbers `numbers`, find and assign the first pair of numbers that sum to 100 to the variables `num1` and `num2`, or 0 if no such pair exists\n",
        "@check_exercise_165\n",
        "def exercise_165(numbers):\n",
        "    # This line is mandatory and should not be removed\n",
        "    ex_stat_init = True\n",
        "\n",
        "    # BELOW GOES YOUR CODE\n",
        "    from itertools import combinations\n",
        "\n",
        "    num1, num2 = (0, 0)\n",
        "    closest_pair = (None, None)\n",
        "    min_distance = float('inf')\n",
        "\n",
        "    for a, b in combinations(numbers, 2):\n",
        "        if a + b == 100:\n",
        "            index_a = numbers.index(a)\n",
        "            index_b = numbers.index(b)\n",
        "            distance = abs(index_a - index_b)\n",
        "            if distance < min_distance:\n",
        "                closest_pair = (a, b)\n",
        "                min_distance = distance\n",
        "\n",
        "    num1, num2 = closest_pair if closest_pair != (None, None) else (0, 0)\n",
        "    # ABOVE GOES YOUR CODE\n",
        "    return {\"num1\": num1, \"num2\": num2}\n",
        "\n",
        "# Run the exercise\n",
        "exercise_165()"
      ]
    },
    {
      "cell_type": "code",
      "execution_count": null,
      "id": "4f0345b7",
      "metadata": {
        "id": "4f0345b7",
        "outputId": "18c2bffe-79e7-49ba-d98b-ed38e23cb1c5",
        "colab": {
          "base_uri": "https://localhost:8080/"
        }
      },
      "outputs": [
        {
          "output_type": "stream",
          "name": "stdout",
          "text": [
            "✅ Great job! Exercise completed successfully.\n"
          ]
        }
      ],
      "source": [
        "# Given the value `n`, assign all numbers that are not multiples of 3 or 17 to the list `others` until the list reaches `n` elements\n",
        "@check_exercise_166\n",
        "def exercise_166(n):\n",
        "    # This line is mandatory and should not be removed\n",
        "    ex_stat_init = True\n",
        "\n",
        "    # BELOW GOES YOUR CODE\n",
        "    others = []\n",
        "    i = 1\n",
        "\n",
        "    while len(others) < n:\n",
        "        if i % 3 != 0 and i % 17 != 0:\n",
        "            others.append(i)\n",
        "        i += 1\n",
        "    # ABOVE GOES YOUR CODE\n",
        "    return {\"others\": others}\n",
        "\n",
        "# Run the exercise\n",
        "exercise_166()"
      ]
    },
    {
      "cell_type": "code",
      "execution_count": null,
      "id": "421e1455",
      "metadata": {
        "id": "421e1455",
        "outputId": "9a97a01e-e214-45d3-8dde-5ec8afca9953",
        "colab": {
          "base_uri": "https://localhost:8080/"
        }
      },
      "outputs": [
        {
          "output_type": "stream",
          "name": "stdout",
          "text": [
            "❗ The implementation is incorrect or the exercise was not implemented.\n"
          ]
        }
      ],
      "source": [
        "# Given a number `n`, assign its prime factors in ascending order to the list `factors` if any, or assign an empty list if it's a prime number\n",
        "@check_exercise_167\n",
        "def exercise_167(n):\n",
        "    # This line is mandatory and should not be removed\n",
        "    ex_stat_init = True\n",
        "\n",
        "    # BELOW GOES YOUR CODE\n",
        "    def prime_factors(n):\n",
        "      factors = []\n",
        "      divisor = 2\n",
        "      while n >= divisor:\n",
        "          if n % divisor == 0:\n",
        "              factors.append(divisor)\n",
        "              n //= divisor\n",
        "          else:\n",
        "              divisor += 1\n",
        "      if not factors:\n",
        "          factors = []\n",
        "      return factors\n",
        "    factors = prime_factors(n)\n",
        "    # ABOVE GOES YOUR CODE\n",
        "    return {\"factors\": factors}\n",
        "\n",
        "# Run the exercise\n",
        "exercise_167()"
      ]
    },
    {
      "cell_type": "code",
      "execution_count": null,
      "id": "2fa8712a",
      "metadata": {
        "id": "2fa8712a",
        "outputId": "69cec7c9-bc7f-4039-b998-b203d6247d76",
        "colab": {
          "base_uri": "https://localhost:8080/"
        }
      },
      "outputs": [
        {
          "output_type": "stream",
          "name": "stdout",
          "text": [
            "✅ Great job! Exercise completed successfully.\n"
          ]
        }
      ],
      "source": [
        "# Given a list of numbers `numbers`, calculate the sum of all positive numbers and the product of all negative numbers and assign them to the variables `sum_pos` and `prod_neg`\n",
        "@check_exercise_168\n",
        "def exercise_168(numbers):\n",
        "    # This line is mandatory and should not be removed\n",
        "    ex_stat_init = True\n",
        "\n",
        "    # BELOW GOES YOUR CODE\n",
        "    sum_pos = sum(num for num in numbers if num > 0)\n",
        "    prod_neg = 1\n",
        "    for num in numbers:\n",
        "        if num < 0:\n",
        "            prod_neg *= num\n",
        "    # ABOVE GOES YOUR CODE\n",
        "\n",
        "    return {\"sum_pos\": sum_pos, \"prod_neg\": prod_neg}\n",
        "\n",
        "# Run the exercise\n",
        "exercise_168()"
      ]
    },
    {
      "cell_type": "code",
      "execution_count": null,
      "id": "cc977a32",
      "metadata": {
        "id": "cc977a32",
        "outputId": "359ede0e-749e-4486-df1b-9cad3ce8e577",
        "colab": {
          "base_uri": "https://localhost:8080/"
        }
      },
      "outputs": [
        {
          "output_type": "stream",
          "name": "stdout",
          "text": [
            "✅ Great job! Exercise completed successfully.\n"
          ]
        }
      ],
      "source": [
        "# Given a string `binary_number`, convert it to a deciaml integer and assign it to the variable `decimal_number`\n",
        "@check_exercise_169\n",
        "def exercise_169(binary_number):\n",
        "    # This line is mandatory and should not be removed\n",
        "    ex_stat_init = True\n",
        "\n",
        "    # BELOW GOES YOUR CODE\n",
        "    decimal_number = int(binary_number, 2)\n",
        "    # ABOVE GOES YOUR CODE\n",
        "\n",
        "    return {\"decimal_number\": decimal_number}\n",
        "\n",
        "# Run the exercise\n",
        "exercise_169()"
      ]
    },
    {
      "cell_type": "code",
      "execution_count": null,
      "id": "a2b9d2ea",
      "metadata": {
        "id": "a2b9d2ea",
        "outputId": "f0b7e676-ac27-4538-d711-c4702904107f",
        "colab": {
          "base_uri": "https://localhost:8080/"
        }
      },
      "outputs": [
        {
          "output_type": "stream",
          "name": "stdout",
          "text": [
            "✅ Great job! Exercise completed successfully.\n"
          ]
        }
      ],
      "source": [
        "# Given a 2D list `matrix`, assign to the variable `diagonal` a new list containing the diagonal elements of the matrix\n",
        "@check_exercise_170\n",
        "def exercise_170(matrix):\n",
        "    # This line is mandatory and should not be removed\n",
        "    ex_stat_init = True\n",
        "\n",
        "    # BELOW GOES YOUR CODE\n",
        "    diagonal = [matrix[i][i] for i in range(min(len(matrix), len(matrix[0])))]\n",
        "    # ABOVE GOES YOUR CODE\n",
        "\n",
        "    return {\"diagonal\": diagonal}\n",
        "\n",
        "# Run the exercise\n",
        "exercise_170()"
      ]
    },
    {
      "cell_type": "code",
      "execution_count": null,
      "id": "230b8ba7",
      "metadata": {
        "id": "230b8ba7",
        "outputId": "e7232d96-fe33-49ce-ef18-3505c112f139",
        "colab": {
          "base_uri": "https://localhost:8080/"
        }
      },
      "outputs": [
        {
          "output_type": "stream",
          "name": "stdout",
          "text": [
            "✅ Great job! Exercise completed successfully.\n"
          ]
        }
      ],
      "source": [
        "# Given a 2D list `matrix`, assign to the variable `transpose` a new list containing the transpose of the matrix\n",
        "@check_exercise_171\n",
        "def exercise_171(matrix):\n",
        "    # This line is mandatory and should not be removed\n",
        "    ex_stat_init = True\n",
        "\n",
        "    # BELOW GOES YOUR CODE\n",
        "    transpose = [[matrix[j][i] for j in range(len(matrix))] for i in range(len(matrix[0]))]\n",
        "    # ABOVE GOES YOUR CODE\n",
        "\n",
        "    return {\"transpose\": transpose}\n",
        "\n",
        "# Run the exercise\n",
        "exercise_171()"
      ]
    },
    {
      "cell_type": "code",
      "execution_count": null,
      "id": "10aa38fd",
      "metadata": {
        "id": "10aa38fd",
        "outputId": "e9ee63d6-9be6-4080-e5ae-75f49ca1d6aa",
        "colab": {
          "base_uri": "https://localhost:8080/"
        }
      },
      "outputs": [
        {
          "output_type": "stream",
          "name": "stdout",
          "text": [
            "✅ Great job! Exercise completed successfully.\n"
          ]
        }
      ],
      "source": [
        "# Given a string `text`, count the number of words (assuming words are separated by spaces), ignoring any \"stop words\" (\"the\", \"a\", \"an\") and assign the count to the variable `word_count`\n",
        "@check_exercise_172\n",
        "def exercise_172(text):\n",
        "    # This line is mandatory and should not be removed\n",
        "    ex_stat_init = True\n",
        "\n",
        "    # BELOW GOES YOUR CODE\n",
        "    stop_words = {\"the\", \"a\", \"an\"}\n",
        "    word_count = len([word for word in text.split() if word.lower() not in stop_words])\n",
        "    # ABOVE GOES YOUR CODE\n",
        "\n",
        "    return {\"word_count\": word_count}\n",
        "\n",
        "# Run the exercise\n",
        "exercise_172()"
      ]
    },
    {
      "cell_type": "code",
      "execution_count": null,
      "id": "cc0a45c2",
      "metadata": {
        "id": "cc0a45c2",
        "outputId": "fba750e7-9a7b-4d78-df26-28fa25a7906a",
        "colab": {
          "base_uri": "https://localhost:8080/"
        }
      },
      "outputs": [
        {
          "output_type": "stream",
          "name": "stdout",
          "text": [
            "✅ Great job! Exercise completed successfully.\n"
          ]
        }
      ],
      "source": [
        "# Given a list of strings `words` and a target string `target`, assign the index of the first occurrence of the target in the list, or -1 if it's not found\n",
        "@check_exercise_173\n",
        "def exercise_173(words, target):\n",
        "    # This line is mandatory and should not be removed\n",
        "    ex_stat_init = True\n",
        "\n",
        "    # BELOW GOES YOUR CODE\n",
        "    index = words.index(target) if target in words else -1\n",
        "    # ABOVE GOES YOUR CODE\n",
        "\n",
        "    return {\"index\": index}\n",
        "\n",
        "# Run the exercise\n",
        "exercise_173()"
      ]
    },
    {
      "cell_type": "code",
      "execution_count": null,
      "id": "a4d6007c",
      "metadata": {
        "id": "a4d6007c",
        "outputId": "ced7c0a1-ddf1-4d37-c328-196ca545d6ee",
        "colab": {
          "base_uri": "https://localhost:8080/"
        }
      },
      "outputs": [
        {
          "output_type": "stream",
          "name": "stdout",
          "text": [
            "✅ Great job! Exercise completed successfully.\n"
          ]
        }
      ],
      "source": [
        "# Given a dictionary `prices` with item names as keys and prices as values, increase all prices by 10% and round to 2 decimal places\n",
        "@check_exercise_174\n",
        "def exercise_174(prices):\n",
        "    # This line is mandatory and should not be removed\n",
        "    ex_stat_init = True\n",
        "\n",
        "    # BELOW GOES YOUR CODE\n",
        "\n",
        "    updated_prices = {item: round(price * 1.10, 2) for item, price in prices.items()}\n",
        "    # ABOVE GOES YOUR CODE\n",
        "\n",
        "    return {\"updated_prices\": updated_prices}\n",
        "\n",
        "# Run the exercise\n",
        "exercise_174()"
      ]
    },
    {
      "cell_type": "code",
      "execution_count": null,
      "id": "a31ae28a",
      "metadata": {
        "id": "a31ae28a",
        "outputId": "10f8ec1a-37ce-49ff-a693-55aa9fefc002",
        "colab": {
          "base_uri": "https://localhost:8080/"
        }
      },
      "outputs": [
        {
          "output_type": "stream",
          "name": "stdout",
          "text": [
            "✅ Great job! Exercise completed successfully.\n"
          ]
        }
      ],
      "source": [
        "# Given a list of numbers `numbers`, create a new list `numeros` where each element is the absolute difference between the current and the next number in the list\n",
        "@check_exercise_175\n",
        "def exercise_175(numbers):\n",
        "    # This line is mandatory and should not be removed\n",
        "    ex_stat_init = True\n",
        "\n",
        "    # BELOW GOES YOUR CODE\n",
        "    numeros = [abs(numbers[i] - numbers[i + 1]) for i in range(len(numbers) - 1)]\n",
        "    # ABOVE GOES YOUR CODE\n",
        "\n",
        "    return {\"numeros\": numeros}\n",
        "\n",
        "# Run the exercise\n",
        "exercise_175()"
      ]
    },
    {
      "cell_type": "code",
      "execution_count": null,
      "id": "3f60f95a",
      "metadata": {
        "id": "3f60f95a",
        "outputId": "e1d4b4e6-52ab-4f12-890f-d828bccb57ee",
        "colab": {
          "base_uri": "https://localhost:8080/"
        }
      },
      "outputs": [
        {
          "output_type": "stream",
          "name": "stdout",
          "text": [
            "✅ Great job! Exercise completed successfully.\n"
          ]
        }
      ],
      "source": [
        "# Given the variable `n`, assign to the list `triangle` the first n triangular numbers (1, 3, 6, 10, 15, ...)\n",
        "@check_exercise_176\n",
        "def exercise_176(n):\n",
        "    # This line is mandatory and should not be removed\n",
        "    ex_stat_init = True\n",
        "\n",
        "    # BELOW GOES YOUR CODE\n",
        "    triangle = [sum(range(1, i + 1)) for i in range(1, n + 1)]\n",
        "    # ABOVE GOES YOUR CODE\n",
        "\n",
        "    return {\"triangle\": triangle}\n",
        "\n",
        "# Run the exercise\n",
        "exercise_176()"
      ]
    },
    {
      "cell_type": "code",
      "execution_count": null,
      "id": "a777a96f",
      "metadata": {
        "id": "a777a96f",
        "outputId": "c1ea76a8-432f-4d28-babf-accec5d55c85",
        "colab": {
          "base_uri": "https://localhost:8080/"
        }
      },
      "outputs": [
        {
          "output_type": "stream",
          "name": "stdout",
          "text": [
            "✅ Great job! Exercise completed successfully.\n"
          ]
        }
      ],
      "source": [
        "# Given a list of numbers `numbers`, create a new list `averages` where each element is the running average of all previous elements (including itself)\n",
        "@check_exercise_177\n",
        "def exercise_177(numbers):\n",
        "    # This line is mandatory and should not be removed\n",
        "    ex_stat_init = True\n",
        "\n",
        "    # BELOW GOES YOUR CODE\n",
        "    averages = [sum(numbers[:i + 1]) / (i + 1) for i in range(len(numbers))]\n",
        "    # ABOVE GOES YOUR CODE\n",
        "\n",
        "    return {\"averages\": averages}\n",
        "\n",
        "# Run the exercise\n",
        "exercise_177()"
      ]
    },
    {
      "cell_type": "code",
      "execution_count": null,
      "id": "0822b583",
      "metadata": {
        "id": "0822b583",
        "outputId": "ab2178eb-489b-4876-cbca-2a1c5a470656",
        "colab": {
          "base_uri": "https://localhost:8080/"
        }
      },
      "outputs": [
        {
          "output_type": "stream",
          "name": "stdout",
          "text": [
            "✅ Great job! Exercise completed successfully.\n"
          ]
        }
      ],
      "source": [
        "# Given a list of passwords `passwords`, assign only the \"strong\" passwords (at least 8 characters, containing uppercase, lowercase, digit, and special character) to the list `strong_passwords`\n",
        "@check_exercise_178\n",
        "def exercise_178(passwords):\n",
        "    # This line is mandatory and should not be removed\n",
        "    ex_stat_init = True\n",
        "\n",
        "    # BELOW GOES YOUR CODE\n",
        "    import re\n",
        "\n",
        "    strong_passwords = [\n",
        "        password for password in passwords\n",
        "        if (len(password) >= 8 and\n",
        "            re.search(r\"[A-Z]\", password) and\n",
        "            re.search(r\"[a-z]\", password) and\n",
        "            re.search(r\"[0-9]\", password) and\n",
        "            re.search(r\"[!@#$%^&*(),.?\\\":{}|<>]\", password))\n",
        "    ]\n",
        "\n",
        "    # ABOVE GOES YOUR CODE\n",
        "\n",
        "    return {\"strong_passwords\": strong_passwords}\n",
        "\n",
        "# Run the exercise\n",
        "exercise_178()"
      ]
    },
    {
      "cell_type": "code",
      "execution_count": null,
      "id": "4814ddad",
      "metadata": {
        "id": "4814ddad",
        "outputId": "39656124-49a5-467b-b471-c0bc8373f765",
        "colab": {
          "base_uri": "https://localhost:8080/"
        }
      },
      "outputs": [
        {
          "output_type": "stream",
          "name": "stdout",
          "text": [
            "✅ Great job! Exercise completed successfully.\n"
          ]
        }
      ],
      "source": [
        "# Given a dictionary `switcher`, create a new dictionary `inverted` where keys and values are swapped\n",
        "@check_exercise_179\n",
        "def exercise_179(switcher):\n",
        "    # This line is mandatory and should not be removed\n",
        "    ex_stat_init = True\n",
        "\n",
        "    # BELOW GOES YOUR CODE\n",
        "    inverted = {value: key for key, value in switcher.items()}\n",
        "    # ABOVE GOES YOUR CODE\n",
        "\n",
        "    return {\"inverted\": inverted}\n",
        "\n",
        "# Run the exercise\n",
        "exercise_179()"
      ]
    },
    {
      "cell_type": "code",
      "execution_count": null,
      "id": "bc4d6488",
      "metadata": {
        "id": "bc4d6488",
        "outputId": "de02b4eb-4901-4534-a2fe-5cbc4e97074b",
        "colab": {
          "base_uri": "https://localhost:8080/"
        }
      },
      "outputs": [
        {
          "output_type": "stream",
          "name": "stdout",
          "text": [
            "✅ Great job! Exercise completed successfully.\n"
          ]
        }
      ],
      "source": [
        "# Given a list of numbers `numbers` and a window size `k`, compute and assign the moving averages of the numbers in the list with the given window size to the list `averages`\n",
        "@check_exercise_180\n",
        "def exercise_180(numbers, k):\n",
        "    # This line is mandatory and should not be removed\n",
        "    ex_stat_init = True\n",
        "\n",
        "    # BELOW GOES YOUR CODE\n",
        "    averages = [sum(numbers[i:i + k]) / k for i in range(len(numbers) - k + 1)]\n",
        "    # ABOVE GOES YOUR CODE\n",
        "    return {\"averages\": averages}\n",
        "\n",
        "# Run the exercise\n",
        "exercise_180()"
      ]
    },
    {
      "cell_type": "code",
      "execution_count": null,
      "id": "a2bb3b6d",
      "metadata": {
        "id": "a2bb3b6d",
        "outputId": "ea525003-5352-4d1b-cd8e-147a6b8b5b78",
        "colab": {
          "base_uri": "https://localhost:8080/"
        }
      },
      "outputs": [
        {
          "output_type": "stream",
          "name": "stdout",
          "text": [
            "✅ Great job! Exercise completed successfully.\n"
          ]
        }
      ],
      "source": [
        "# Given the variable `n` generate the first n terms of the sequence defined by a(n) = a(n-1) + a(n-2) + a(n-3), with a(0) = a(1) = a(2) = 1\n",
        "@check_exercise_181\n",
        "def exercise_181(n):\n",
        "    # This line is mandatory and should not be removed\n",
        "    ex_stat_init = True\n",
        "\n",
        "    # BELOW GOES YOUR CODE\n",
        "    sequence = [1, 1, 1] if n > 2 else [1] * (n + 1)\n",
        "    for i in range(3, n):\n",
        "        sequence.append(sequence[i - 1] + sequence[i - 2] + sequence[i - 3])\n",
        "    # ABOVE GOES YOUR CODE\n",
        "\n",
        "    return {\"sequence\": sequence}\n",
        "\n",
        "# Run the exercise\n",
        "exercise_181()"
      ]
    },
    {
      "cell_type": "code",
      "execution_count": null,
      "id": "09fafe50",
      "metadata": {
        "id": "09fafe50",
        "outputId": "2d15f298-76eb-4ce5-f240-5c6ecd68ce2a",
        "colab": {
          "base_uri": "https://localhost:8080/"
        }
      },
      "outputs": [
        {
          "output_type": "stream",
          "name": "stdout",
          "text": [
            "✅ Great job! Exercise completed successfully.\n"
          ]
        }
      ],
      "source": [
        "# Given a list of numbers `numbers`, find and assign the indices of the peak elements (elements greater than both neighbors) to the list `peak_elements`\n",
        "@check_exercise_182\n",
        "def exercise_182(numbers):\n",
        "    # This line is mandatory and should not be removed\n",
        "    ex_stat_init = True\n",
        "\n",
        "    # BELOW GOES YOUR CODE\n",
        "    peak_elements = [i for i in range(1, len(numbers) - 1) if numbers[i] > numbers[i - 1] and numbers[i] > numbers[i + 1]]\n",
        "    # ABOVE GOES YOUR CODE\n",
        "    return {\"peak_elements\": peak_elements}\n",
        "\n",
        "# Run the exercise\n",
        "exercise_182()"
      ]
    },
    {
      "cell_type": "code",
      "execution_count": null,
      "id": "c430371e",
      "metadata": {
        "id": "c430371e",
        "outputId": "f7e83985-ef48-4f39-c661-4d08d8e7f232",
        "colab": {
          "base_uri": "https://localhost:8080/"
        }
      },
      "outputs": [
        {
          "output_type": "stream",
          "name": "stdout",
          "text": [
            "✅ Great job! Exercise completed successfully.\n"
          ]
        }
      ],
      "source": [
        "# Given a dictionary `sales` where keys are product names and values are lists of daily sales, create a new dictionary with total sales for each product\n",
        "@check_exercise_183\n",
        "def exercise_183(sales):\n",
        "    # This line is mandatory and should not be removed\n",
        "    ex_stat_init = True\n",
        "\n",
        "    # BELOW GOES YOUR CODE\n",
        "    total_sales = {product: sum(daily_sales) for product, daily_sales in sales.items()}\n",
        "    # ABOVE GOES YOUR CODE\n",
        "\n",
        "    return {\"total_sales\": total_sales}\n",
        "\n",
        "# Run the exercise\n",
        "exercise_183()"
      ]
    },
    {
      "cell_type": "code",
      "execution_count": null,
      "id": "0f69d6f8",
      "metadata": {
        "id": "0f69d6f8",
        "outputId": "8beb9cde-ed10-4650-96fe-52f607770c10",
        "colab": {
          "base_uri": "https://localhost:8080/"
        }
      },
      "outputs": [
        {
          "output_type": "stream",
          "name": "stdout",
          "text": [
            "✅ Great job! Exercise completed successfully.\n"
          ]
        }
      ],
      "source": [
        "# Given a list of strings `words`, sort the list based on the number of distinct characters in each word (in descending order)\n",
        "@check_exercise_184\n",
        "def exercise_184(words):\n",
        "    # This line is mandatory and should not be removed\n",
        "    ex_stat_init = True\n",
        "\n",
        "    # BELOW GOES YOUR CODE\n",
        "    words.sort(key=lambda word: len(set(word)), reverse=True)\n",
        "    # ABOVE GOES YOUR CODE\n",
        "    return {\"words\": words}\n",
        "\n",
        "# Run the exercise\n",
        "exercise_184()"
      ]
    },
    {
      "cell_type": "code",
      "execution_count": null,
      "id": "42b39bd7",
      "metadata": {
        "id": "42b39bd7",
        "outputId": "dd8ceac8-da78-49ec-d75b-f478383edb37",
        "colab": {
          "base_uri": "https://localhost:8080/"
        }
      },
      "outputs": [
        {
          "output_type": "stream",
          "name": "stdout",
          "text": [
            "✅ Great job! Exercise completed successfully.\n"
          ]
        }
      ],
      "source": [
        "# Given a list of numbers `numbers`, assign to the variable `max_diff` the maximum difference between any two elements in the list\n",
        "@check_exercise_185\n",
        "def exercise_185(numbers):\n",
        "    # This line is mandatory and should not be removed\n",
        "    ex_stat_init = True\n",
        "\n",
        "    # BELOW GOES YOUR CODE\n",
        "    max_diff = max(numbers) - min(numbers) if numbers else 0\n",
        "    # ABOVE GOES YOUR CODE\n",
        "\n",
        "    return {\"max_diff\": max_diff}\n",
        "\n",
        "# Run the exercise\n",
        "exercise_185()"
      ]
    },
    {
      "cell_type": "code",
      "execution_count": null,
      "id": "3c79ff86",
      "metadata": {
        "id": "3c79ff86",
        "outputId": "48a5d9ac-6846-454b-d646-53abeff5124e",
        "colab": {
          "base_uri": "https://localhost:8080/"
        }
      },
      "outputs": [
        {
          "output_type": "stream",
          "name": "stdout",
          "text": [
            "✅ Great job! Exercise completed successfully.\n"
          ]
        }
      ],
      "source": [
        "# Given the string variables `number`, try to convert it to an integer and assign it to the variable `integer`, or assign -1 if it's not possible\n",
        "@check_exercise_186\n",
        "def exercise_186(number):\n",
        "    # This line is mandatory and should not be removed\n",
        "    ex_stat_init = True\n",
        "\n",
        "    # BELOW GOES YOUR CODE\n",
        "    try:\n",
        "        integer = int(number)\n",
        "    except ValueError:\n",
        "        integer = -1\n",
        "    # ABOVE GOES YOUR CODE\n",
        "\n",
        "    return {\"integer\": integer}\n",
        "\n",
        "# Run the exercise\n",
        "exercise_186()"
      ]
    },
    {
      "cell_type": "code",
      "execution_count": null,
      "id": "7f8cfce7",
      "metadata": {
        "id": "7f8cfce7",
        "outputId": "5418f30d-c632-47a7-e999-7e4b7dc5e72a",
        "colab": {
          "base_uri": "https://localhost:8080/"
        }
      },
      "outputs": [
        {
          "output_type": "stream",
          "name": "stdout",
          "text": [
            "✅ Great job! Exercise completed successfully.\n"
          ]
        }
      ],
      "source": [
        "# Given the variables `n` and `m`, assign to the variable `division_value` the result of dividing n by m, or -1 if the variables are not numeric or the division is not possible\n",
        "@check_exercise_187\n",
        "def exercise_187(n, m):\n",
        "    # This line is mandatory and should not be removed\n",
        "    ex_stat_init = True\n",
        "\n",
        "    # BELOW GOES YOUR CODE\n",
        "    division_value = -1\n",
        "    if isinstance(n, (int, float)) and isinstance(m, (int, float)):\n",
        "        if m != 0:\n",
        "            division_value = n / m\n",
        "    # ABOVE GOES YOUR CODE\n",
        "\n",
        "    return {\"division_value\": division_value}\n",
        "\n",
        "# Run the exercise\n",
        "exercise_187()"
      ]
    },
    {
      "cell_type": "code",
      "execution_count": null,
      "id": "011a52d0",
      "metadata": {
        "id": "011a52d0",
        "outputId": "dda9a784-5a0f-4b60-8e66-e18edc7db480",
        "colab": {
          "base_uri": "https://localhost:8080/"
        }
      },
      "outputs": [
        {
          "output_type": "stream",
          "name": "stdout",
          "text": [
            "✅ Great job! Exercise completed successfully.\n"
          ]
        }
      ],
      "source": [
        "# Given a frozen set `fset`, try to add the number 5 to it and assign the result to the variable `updated_fset`, or assign an empty set if it's not possible\n",
        "@check_exercise_188\n",
        "def exercise_188(fset):\n",
        "    # This line is mandatory and should not be removed\n",
        "    ex_stat_init = True\n",
        "\n",
        "    # BELOW GOES YOUR CODE\n",
        "    try:\n",
        "        updated_fset = fset.union({5})\n",
        "    except Exception:\n",
        "        updated_fset = set()\n",
        "    # ABOVE GOES YOUR CODE\n",
        "\n",
        "    return {\"updated_fset\": updated_fset}\n",
        "\n",
        "# Run the exercise\n",
        "exercise_188()"
      ]
    },
    {
      "cell_type": "code",
      "execution_count": null,
      "id": "11bb81ec",
      "metadata": {
        "id": "11bb81ec",
        "outputId": "f9841d2a-1483-4eff-b21a-a104a5325666",
        "colab": {
          "base_uri": "https://localhost:8080/"
        }
      },
      "outputs": [
        {
          "output_type": "stream",
          "name": "stdout",
          "text": [
            "✅ Great job! Exercise completed successfully.\n"
          ]
        }
      ],
      "source": [
        "# Given a variable `x` use a try/except block to assign \"positive\" to the variable `number_status` if `x` is positive and \"negative\" if `x` is negative, handling the `AssertionError` with the message \"another error\".\n",
        "@check_exercise_189\n",
        "def exercise_189(x):\n",
        "    # This line is mandatory and should not be removed\n",
        "    ex_stat_init = True\n",
        "\n",
        "    # BELOW GOES YOUR CODE\n",
        "    try:\n",
        "        assert x != 0, \"another error\"\n",
        "        number_status = \"positive\" if x > 0 else \"negative\"\n",
        "    except AssertionError:\n",
        "        number_status = \"another error\"\n",
        "    # ABOVE GOES YOUR CODE\n",
        "\n",
        "    return {\"number_status\": number_status}\n",
        "\n",
        "# Run the exercise\n",
        "exercise_189()"
      ]
    },
    {
      "cell_type": "code",
      "execution_count": null,
      "id": "15c1130a",
      "metadata": {
        "id": "15c1130a",
        "outputId": "9706e30b-2a86-4868-f362-1a80a147e982",
        "colab": {
          "base_uri": "https://localhost:8080/"
        }
      },
      "outputs": [
        {
          "output_type": "stream",
          "name": "stdout",
          "text": [
            "✅ Great job! Exercise completed successfully.\n"
          ]
        }
      ],
      "source": [
        "# Given a list of numbers `numbers`, assign to the variable `sum_of_squares` the sum of the squares of all numbers, handling any `TypeError` with the message \"invalid type\" and any other exception with the message \"unknown error\", and always assigning -1 to the variable `finalized`\n",
        "@check_exercise_190\n",
        "def exercise_190(numbers):\n",
        "    # This line is mandatory and should not be removed\n",
        "    ex_stat_init = True\n",
        "\n",
        "    # BELOW GOES YOUR CODE\n",
        "    try:\n",
        "        sum_of_squares = sum(num ** 2 for num in numbers)\n",
        "    except TypeError:\n",
        "        sum_of_squares = \"invalid type\"\n",
        "    except Exception:\n",
        "        sum_of_squares = \"unknown error\"\n",
        "    finally:\n",
        "        finalized = -1\n",
        "    # ABOVE GOES YOUR CODE\n",
        "    return {\"sum_of_squares\": sum_of_squares, \"finalized\": finalized}\n",
        "\n",
        "# Run the exercise\n",
        "exercise_190()"
      ]
    },
    {
      "cell_type": "code",
      "execution_count": null,
      "id": "9a146aaf",
      "metadata": {
        "id": "9a146aaf",
        "outputId": "62da339a-8584-4b8a-b680-d20bcce06307",
        "colab": {
          "base_uri": "https://localhost:8080/"
        }
      },
      "outputs": [
        {
          "output_type": "stream",
          "name": "stdout",
          "text": [
            "✅ Great job! Exercise completed successfully.\n"
          ]
        }
      ],
      "source": [
        "# Create a function named `multiply` that takes two numbers `a` and `b` as parameters and returns their product.\n",
        "@check_exercise_191\n",
        "def exercise_191():\n",
        "    # This line is mandatory and should not be removed\n",
        "    ex_stat_init = True\n",
        "\n",
        "    # BELOW GOES YOUR CODE\n",
        "    def multiply(a, b):\n",
        "      return a * b\n",
        "    # ABOVE GOES YOUR CODE\n",
        "    return {'multiply': multiply}\n",
        "\n",
        "# Run the exercise\n",
        "exercise_191()"
      ]
    },
    {
      "cell_type": "code",
      "execution_count": null,
      "id": "2af0b6bf",
      "metadata": {
        "id": "2af0b6bf",
        "outputId": "ecf6fe7f-96b9-45bf-c91f-b32c867ecda4",
        "colab": {
          "base_uri": "https://localhost:8080/"
        }
      },
      "outputs": [
        {
          "output_type": "stream",
          "name": "stdout",
          "text": [
            "✅ Great job! Exercise completed successfully.\n"
          ]
        }
      ],
      "source": [
        "# Create a function named `is_even` that takes a number `n` as a parameter and returns True if the number is even, otherwise returns False.\n",
        "@check_exercise_192\n",
        "def exercise_192():\n",
        "    # This line is mandatory and should not be removed\n",
        "    ex_stat_init = True\n",
        "\n",
        "    # BELOW GOES YOUR CODE\n",
        "    def is_even(n):\n",
        "        return n % 2 == 0\n",
        "    # ABOVE GOES YOUR CODE\n",
        "    return {'is_even': is_even}\n",
        "\n",
        "# Run the exercise\n",
        "exercise_192()"
      ]
    },
    {
      "cell_type": "code",
      "execution_count": null,
      "id": "ac991477",
      "metadata": {
        "id": "ac991477",
        "outputId": "6306edba-086e-4450-bda6-c5edc2c94621",
        "colab": {
          "base_uri": "https://localhost:8080/"
        }
      },
      "outputs": [
        {
          "output_type": "stream",
          "name": "stdout",
          "text": [
            "✅ Great job! Exercise completed successfully.\n"
          ]
        }
      ],
      "source": [
        "# Create a function called `find_max` that takes three numbers `a`, `b`, `c` as parameters and returns the largest of them.\n",
        "@check_exercise_193\n",
        "def exercise_193():\n",
        "    # This line is mandatory and should not be removed\n",
        "    ex_stat_init = True\n",
        "\n",
        "    # BELOW GOES YOUR CODE\n",
        "    def find_max(a, b, c):\n",
        "      return max(a, b, c)\n",
        "    # ABOVE GOES YOUR CODE\n",
        "    return {'find_max': find_max}\n",
        "\n",
        "# Run the exercise\n",
        "exercise_193()"
      ]
    },
    {
      "cell_type": "code",
      "execution_count": null,
      "id": "ff653db0",
      "metadata": {
        "id": "ff653db0",
        "outputId": "0802ea33-7ba3-4aac-8fb5-79e832e9f206",
        "colab": {
          "base_uri": "https://localhost:8080/"
        }
      },
      "outputs": [
        {
          "output_type": "stream",
          "name": "stdout",
          "text": [
            "✅ Great job! Exercise completed successfully.\n"
          ]
        }
      ],
      "source": [
        "# Create a function named `reverse_string` that takes a string `text` as a parameter and returns the reversed version of that string.\n",
        "@check_exercise_194\n",
        "def exercise_194():\n",
        "    # This line is mandatory and should not be removed\n",
        "    ex_stat_init = True\n",
        "\n",
        "    # BELOW GOES YOUR CODE\n",
        "    def reverse_string(text):\n",
        "        return text[::-1]\n",
        "    # ABOVE GOES YOUR CODE\n",
        "    return {'reverse_string': reverse_string}\n",
        "\n",
        "# Run the exercise\n",
        "exercise_194()"
      ]
    },
    {
      "cell_type": "code",
      "execution_count": null,
      "id": "671f8d16",
      "metadata": {
        "id": "671f8d16",
        "outputId": "e21b223f-e17b-424d-c782-cbe9adbf0a67",
        "colab": {
          "base_uri": "https://localhost:8080/"
        }
      },
      "outputs": [
        {
          "output_type": "stream",
          "name": "stdout",
          "text": [
            "✅ Great job! Exercise completed successfully.\n"
          ]
        }
      ],
      "source": [
        "# Create a function named `factorial` that takes a number `n` as a parameter and returns its factorial.\n",
        "@check_exercise_195\n",
        "def exercise_195():\n",
        "    # This line is mandatory and should not be removed\n",
        "    ex_stat_init = True\n",
        "\n",
        "    # BELOW GOES YOUR CODE\n",
        "    def factorial(n):\n",
        "        if n < 0:\n",
        "            raise ValueError(\"Factorial is not defined for negative numbers.\")\n",
        "        if n == 0 or n == 1:\n",
        "            return 1\n",
        "        result = 1\n",
        "        for i in range(2, n + 1):\n",
        "            result *= i\n",
        "        return result\n",
        "    # ABOVE GOES YOUR CODE\n",
        "    return {'factorial': factorial}\n",
        "\n",
        "# Run the exercise\n",
        "exercise_195()"
      ]
    },
    {
      "cell_type": "code",
      "execution_count": null,
      "id": "3b2d57d4",
      "metadata": {
        "id": "3b2d57d4",
        "outputId": "2ce8eb1b-9df4-4b28-83f6-e29dfe985c36",
        "colab": {
          "base_uri": "https://localhost:8080/"
        }
      },
      "outputs": [
        {
          "output_type": "stream",
          "name": "stdout",
          "text": [
            "✅ Great job! Exercise completed successfully.\n"
          ]
        }
      ],
      "source": [
        "# Create a function called `count_vowels` that takes a string `text` as a parameter and returns the number of vowels in the string.\n",
        "@check_exercise_196\n",
        "def exercise_196():\n",
        "    # This line is mandatory and should not be removed\n",
        "    ex_stat_init = True\n",
        "\n",
        "    # BELOW GOES YOUR CODE\n",
        "    def count_vowels(text):\n",
        "        vowels = \"aeiouAEIOU\"\n",
        "        return sum(1 for char in text if char in vowels)\n",
        "    # ABOVE GOES YOUR CODE\n",
        "    return {\"count_vowels\": count_vowels}\n",
        "\n",
        "# Run the exercise\n",
        "exercise_196()"
      ]
    },
    {
      "cell_type": "code",
      "execution_count": null,
      "id": "4b19b826",
      "metadata": {
        "id": "4b19b826",
        "outputId": "e6c8a218-fff2-418b-bb4e-8a04e3e833e4",
        "colab": {
          "base_uri": "https://localhost:8080/"
        }
      },
      "outputs": [
        {
          "output_type": "stream",
          "name": "stdout",
          "text": [
            "✅ Great job! Exercise completed successfully.\n"
          ]
        }
      ],
      "source": [
        "# Create a function called `area_of_circle` that takes the `radius`` as a parameter and returns the area of the circle.\n",
        "@check_exercise_197\n",
        "def exercise_197():\n",
        "    # This line is mandatory and should not be removed\n",
        "    ex_stat_init = True\n",
        "\n",
        "    # BELOW GOES YOUR CODE\n",
        "    import math\n",
        "\n",
        "    def area_of_circle(radius):\n",
        "        return math.pi * (radius ** 2)\n",
        "    # ABOVE GOES YOUR CODE\n",
        "    return {\"area_of_circle\": area_of_circle}\n",
        "\n",
        "# Run the exercise\n",
        "exercise_197()"
      ]
    },
    {
      "cell_type": "code",
      "execution_count": null,
      "id": "e4f8ccb4",
      "metadata": {
        "id": "e4f8ccb4",
        "outputId": "57cc32af-0e01-4ef1-e50c-50265af79d06",
        "colab": {
          "base_uri": "https://localhost:8080/"
        }
      },
      "outputs": [
        {
          "output_type": "stream",
          "name": "stdout",
          "text": [
            "✅ Great job! Exercise completed successfully.\n"
          ]
        }
      ],
      "source": [
        "# Create a function named `fibonacci` that takes a number `n` and returns the first `n` Fibonacci numbers in a list, where the first two numbers are 0 and 1.\n",
        "@check_exercise_198\n",
        "def exercise_198():\n",
        "    # This line is mandatory and should not be removed\n",
        "    ex_stat_init = True\n",
        "\n",
        "    # BELOW GOES YOUR CODE\n",
        "    def fibonacci(n):\n",
        "        if n <= 0:\n",
        "            return []\n",
        "        elif n == 1:\n",
        "            return [0]\n",
        "        elif n == 2:\n",
        "            return [0, 1]\n",
        "\n",
        "        fib_sequence = [0, 1]\n",
        "        for i in range(2, n):\n",
        "            fib_sequence.append(fib_sequence[-1] + fib_sequence[-2])\n",
        "\n",
        "        return fib_sequence\n",
        "    # ABOVE GOES YOUR CODE\n",
        "    return {\"fibonacci\": fibonacci}\n",
        "\n",
        "# Run the exercise\n",
        "exercise_198()"
      ]
    },
    {
      "cell_type": "code",
      "execution_count": null,
      "id": "4b7b6c34",
      "metadata": {
        "id": "4b7b6c34",
        "outputId": "9fa48f50-4d88-4062-855b-ce6063ec3eae",
        "colab": {
          "base_uri": "https://localhost:8080/"
        }
      },
      "outputs": [
        {
          "output_type": "stream",
          "name": "stdout",
          "text": [
            "✅ Great job! Exercise completed successfully.\n"
          ]
        }
      ],
      "source": [
        "# Create a function named `is_prime` that takes a number `n` and returns True if it is a prime number, otherwise False.\n",
        "@check_exercise_199\n",
        "def exercise_199():\n",
        "    # This line is mandatory and should not be removed\n",
        "    ex_stat_init = True\n",
        "\n",
        "    # BELOW GOES YOUR CODE\n",
        "    def is_prime(n):\n",
        "        if n <= 1:\n",
        "            return False\n",
        "        for i in range(2, int(n**0.5) + 1):\n",
        "            if n % i == 0:\n",
        "                return False\n",
        "        return True\n",
        "    # ABOVE GOES YOUR CODE\n",
        "    return {\"is_prime\": is_prime}\n",
        "\n",
        "# Run the exercise\n",
        "exercise_199()"
      ]
    },
    {
      "cell_type": "code",
      "execution_count": null,
      "id": "81708b43",
      "metadata": {
        "id": "81708b43",
        "outputId": "ffa05ba4-0ed0-480e-f888-5fd597dd2b6b",
        "colab": {
          "base_uri": "https://localhost:8080/"
        }
      },
      "outputs": [
        {
          "output_type": "stream",
          "name": "stdout",
          "text": [
            "✅ Great job! Exercise completed successfully.\n"
          ]
        }
      ],
      "source": [
        "# Create a function `product` that takes two numbers and an optional parameter for a message, returning the message along with the product of the two numbers: \"[message]: [product]\".\n",
        "@check_exercise_200\n",
        "def exercise_200():\n",
        "    # This line is mandatory and should not be removed\n",
        "    ex_stat_init = True\n",
        "\n",
        "    # BELOW GOES YOUR CODE\n",
        "    def product(a, b, message=\"The product is\"):\n",
        "        return f\"{message}: {a * b}\"\n",
        "    # ABOVE GOES YOUR CODE\n",
        "    return {\"product\": product}\n",
        "\n",
        "# Run the exercise\n",
        "exercise_200()"
      ]
    },
    {
      "cell_type": "code",
      "execution_count": null,
      "id": "fdc3f206",
      "metadata": {
        "id": "fdc3f206",
        "outputId": "9aa2d08f-1651-44df-c5dd-5cb2523fef32",
        "colab": {
          "base_uri": "https://localhost:8080/"
        }
      },
      "outputs": [
        {
          "output_type": "stream",
          "name": "stdout",
          "text": [
            "✅ Great job! Exercise completed successfully.\n"
          ]
        }
      ],
      "source": [
        "# Create a function `favorite_foods` that takes a list of `foods` and returns \"favorite foods are [food1], [food2], ...\" where the foods are joined by commas.\n",
        "@check_exercise_201\n",
        "def exercise_201():\n",
        "    # This line is mandatory and should not be removed\n",
        "    ex_stat_init = True\n",
        "\n",
        "    # BELOW GOES YOUR CODE\n",
        "    def favorite_foods(foods):\n",
        "        return \"favorite foods are \" + \", \".join(foods)\n",
        "    # ABOVE GOES YOUR CODE\n",
        "    return {\"favorite_foods\": favorite_foods}\n",
        "\n",
        "# Run the exercise\n",
        "exercise_201()"
      ]
    },
    {
      "cell_type": "code",
      "execution_count": null,
      "id": "8f0f2a73",
      "metadata": {
        "id": "8f0f2a73",
        "outputId": "6cf7c994-8d79-4120-e98c-96b623516b47",
        "colab": {
          "base_uri": "https://localhost:8080/"
        }
      },
      "outputs": [
        {
          "output_type": "stream",
          "name": "stdout",
          "text": [
            "✅ Great job! Exercise completed successfully.\n"
          ]
        }
      ],
      "source": [
        "# create a function `full_name` that takes a first name and last name as keyword arguments and returns the full name as a string, with a space between the names.\n",
        "@check_exercise_202\n",
        "def exercise_202():\n",
        "    # This line is mandatory and should not be removed\n",
        "    ex_stat_init = True\n",
        "\n",
        "    # BELOW GOES YOUR CODE\n",
        "    def full_name(first_name, last_name):\n",
        "      return f\"{first_name} {last_name}\"\n",
        "    # ABOVE GOES YOUR CODE\n",
        "    return {\"full_name\": full_name}\n",
        "\n",
        "# Run the exercise\n",
        "exercise_202()"
      ]
    },
    {
      "cell_type": "code",
      "execution_count": null,
      "id": "e0342fee",
      "metadata": {
        "id": "e0342fee",
        "outputId": "7db732f5-61f9-42a8-b73f-0fc7c58d3440",
        "colab": {
          "base_uri": "https://localhost:8080/"
        }
      },
      "outputs": [
        {
          "output_type": "stream",
          "name": "stdout",
          "text": [
            "✅ Great job! Exercise completed successfully.\n"
          ]
        }
      ],
      "source": [
        "# Create a function `send_email` that takes a recipient address and an optional subject (default to \"No Subject\") and returns a formatted email string, like \"To: [recipient], Subject: [subject]\".\n",
        "@check_exercise_203\n",
        "def exercise_203():\n",
        "    # This line is mandatory and should not be removed\n",
        "    ex_stat_init = True\n",
        "\n",
        "    # BELOW GOES YOUR CODE\n",
        "    def send_email(recipient, subject=\"No Subject\"):\n",
        "        return f\"To: {recipient}, Subject: {subject}\"\n",
        "    # ABOVE GOES YOUR CODE\n",
        "    return {\"send_email\": send_email}\n",
        "\n",
        "# Run the exercise\n",
        "exercise_203()"
      ]
    },
    {
      "cell_type": "code",
      "execution_count": null,
      "id": "2389404f",
      "metadata": {
        "id": "2389404f",
        "outputId": "d5ef0117-6fd8-4bed-b7a1-d33bca723852",
        "colab": {
          "base_uri": "https://localhost:8080/"
        }
      },
      "outputs": [
        {
          "output_type": "stream",
          "name": "stdout",
          "text": [
            "✅ Great job! Exercise completed successfully.\n"
          ]
        }
      ],
      "source": [
        "# create a function `calculate_discount` that takes a `price` and an optional `discount_rate` (default to 0), returning the final price after applying the discount.\n",
        "@check_exercise_204\n",
        "def exercise_204():\n",
        "    # This line is mandatory and should not be removed\n",
        "    ex_stat_init = True\n",
        "\n",
        "    # BELOW GOES YOUR CODE\n",
        "    def calculate_discount(price, discount_rate=0):\n",
        "        return price * (1 - discount_rate)\n",
        "    # ABOVE GOES YOUR CODE\n",
        "    return {\"calculate_discount\": calculate_discount}\n",
        "\n",
        "# Run the exercise\n",
        "exercise_204()"
      ]
    },
    {
      "cell_type": "code",
      "execution_count": null,
      "id": "fbade63e",
      "metadata": {
        "id": "fbade63e",
        "outputId": "e532e7bb-6b72-4e19-b3a2-ca5d1fdd1443",
        "colab": {
          "base_uri": "https://localhost:8080/"
        }
      },
      "outputs": [
        {
          "output_type": "stream",
          "name": "stdout",
          "text": [
            "✅ Great job! Exercise completed successfully.\n"
          ]
        }
      ],
      "source": [
        "# Create a function `create_user` that takes a username and optional parameters for age and location, returning a user profile string, like \"Username: [username], Age: [age], Location: [location]\" assigning \"None\" to missing values.\n",
        "@check_exercise_205\n",
        "def exercise_205():\n",
        "    # This line is mandatory and should not be removed\n",
        "    ex_stat_init = True\n",
        "\n",
        "    # BELOW GOES YOUR CODE\n",
        "    def create_user(username, age=None, location=None):\n",
        "        return f\"Username: {username}, Age: {age if age is not None else 'None'}, Location: {location if location is not None else 'None'}\"\n",
        "    # ABOVE GOES YOUR CODE\n",
        "    return {\"create_user\": create_user}\n",
        "\n",
        "# Run the exercise\n",
        "exercise_205()"
      ]
    },
    {
      "cell_type": "code",
      "execution_count": null,
      "id": "04765396",
      "metadata": {
        "id": "04765396",
        "outputId": "8a3211f1-bc48-41ca-a1a1-b232cfed1482",
        "colab": {
          "base_uri": "https://localhost:8080/"
        }
      },
      "outputs": [
        {
          "output_type": "stream",
          "name": "stdout",
          "text": [
            "✅ Great job! Exercise completed successfully.\n"
          ]
        }
      ],
      "source": [
        "# Create a function `increment` that takes a number and an optional step value (default to 1), returning the incremented value.\n",
        "@check_exercise_206\n",
        "def exercise_206():\n",
        "    # This line is mandatory and should not be removed\n",
        "    ex_stat_init = True\n",
        "\n",
        "    # BELOW GOES YOUR CODE\n",
        "    def increment(number, step=1):\n",
        "        return number + step\n",
        "    # ABOVE GOES YOUR CODE\n",
        "    return {\"increment\": increment}\n",
        "\n",
        "# Run the exercise\n",
        "exercise_206()"
      ]
    },
    {
      "cell_type": "code",
      "execution_count": null,
      "id": "0f9b457f",
      "metadata": {
        "id": "0f9b457f",
        "outputId": "4d33c93b-d1bc-440c-f106-cf88d2d028df",
        "colab": {
          "base_uri": "https://localhost:8080/"
        }
      },
      "outputs": [
        {
          "output_type": "stream",
          "name": "stdout",
          "text": [
            "✅ Great job! Exercise completed successfully.\n"
          ]
        }
      ],
      "source": [
        "# Create a function `concatenate_strings` that accepts any number of string arguments and returns a single concatenated string.\n",
        "@check_exercise_207\n",
        "def exercise_207():\n",
        "    # This line is mandatory and should not be removed\n",
        "    ex_stat_init = True\n",
        "\n",
        "    # BELOW GOES YOUR CODE\n",
        "    def concatenate_strings(*args):\n",
        "        return ''.join(args)\n",
        "    # ABOVE GOES YOUR CODE\n",
        "    return {\"concatenate_strings\": concatenate_strings}\n",
        "\n",
        "# Run the exercise\n",
        "exercise_207()"
      ]
    },
    {
      "cell_type": "code",
      "execution_count": null,
      "id": "e7f19ee3",
      "metadata": {
        "id": "e7f19ee3",
        "outputId": "844a6c09-ff54-45aa-b6c8-2278bbdbb61f",
        "colab": {
          "base_uri": "https://localhost:8080/"
        }
      },
      "outputs": [
        {
          "output_type": "stream",
          "name": "stdout",
          "text": [
            "✅ Great job! Exercise completed successfully.\n"
          ]
        }
      ],
      "source": [
        "# Create a function `print_scores` that accepts any number of scores and returns a formatted string with all the scores, like \"Scores: [score1], [score2], [score3].\".\n",
        "@check_exercise_208\n",
        "def exercise_208():\n",
        "    # This line is mandatory and should not be removed\n",
        "    ex_stat_init = True\n",
        "\n",
        "    # BELOW GOES YOUR CODE\n",
        "    def print_scores(*scores):\n",
        "        return f\"Scores: {', '.join(map(str, scores))}.\"\n",
        "    # ABOVE GOES YOUR CODE\n",
        "    return {\"print_scores\": print_scores}\n",
        "\n",
        "# Run the exercise\n",
        "exercise_208()"
      ]
    },
    {
      "cell_type": "code",
      "execution_count": null,
      "id": "6ee9a124",
      "metadata": {
        "id": "6ee9a124",
        "outputId": "b5793cf7-caba-41b7-c6d0-67fd85f18b16",
        "colab": {
          "base_uri": "https://localhost:8080/"
        }
      },
      "outputs": [
        {
          "output_type": "stream",
          "name": "stdout",
          "text": [
            "✅ Great job! Exercise completed successfully.\n"
          ]
        }
      ],
      "source": [
        "# Create a function called `merge_dicts` that accepts multiple dictionaries as keyword arguments and returns a single merged dictionary.\n",
        "@check_exercise_209\n",
        "def exercise_209():\n",
        "    # This line is mandatory and should not be removed\n",
        "    ex_stat_init = True\n",
        "\n",
        "    # BELOW GOES YOUR CODE\n",
        "    def merge_dicts(**kwargs):\n",
        "        merged = {}\n",
        "        for dictionary in kwargs.values():\n",
        "            merged.update(dictionary)\n",
        "        return merged\n",
        "    # ABOVE GOES YOUR CODE\n",
        "    return {\"merge_dicts\": merge_dicts}\n",
        "\n",
        "# Run the exercise\n",
        "exercise_209()"
      ]
    },
    {
      "cell_type": "code",
      "execution_count": null,
      "id": "38376fbe",
      "metadata": {
        "id": "38376fbe",
        "outputId": "f67dc2db-05ed-48a3-97a7-d8002a13adc4",
        "colab": {
          "base_uri": "https://localhost:8080/"
        }
      },
      "outputs": [
        {
          "output_type": "stream",
          "name": "stdout",
          "text": [
            "✅ Great job! Exercise completed successfully.\n"
          ]
        }
      ],
      "source": [
        "# Create a function named `calculate_average` that takes any number of scores and returns the average.\n",
        "@check_exercise_210\n",
        "def exercise_210():\n",
        "    # This line is mandatory and should not be removed\n",
        "    ex_stat_init = True\n",
        "\n",
        "    # BELOW GOES YOUR CODE\n",
        "    def calculate_average(*scores):\n",
        "        if not scores:\n",
        "            return 0\n",
        "        return sum(scores) / len(scores)\n",
        "    # ABOVE GOES YOUR CODE\n",
        "    return {\"calculate_average\": calculate_average}\n",
        "\n",
        "# Run the exercise\n",
        "exercise_210()"
      ]
    },
    {
      "cell_type": "code",
      "execution_count": null,
      "id": "92f345e6",
      "metadata": {
        "id": "92f345e6",
        "outputId": "596a3248-e96b-44f9-c604-c2ca6297fa23",
        "colab": {
          "base_uri": "https://localhost:8080/"
        }
      },
      "outputs": [
        {
          "output_type": "stream",
          "name": "stdout",
          "text": [
            "✅ Great job! Exercise completed successfully.\n"
          ]
        }
      ],
      "source": [
        "# Create a function named `compute_class_average` that takes as input any number of dictionaries containing the name as key and a list of scores as value, and returns a dictionary with the average score of all the students.\n",
        "@check_exercise_211\n",
        "def exercise_211():\n",
        "    # This line is mandatory and should not be removed\n",
        "    ex_stat_init = True\n",
        "\n",
        "    # BELOW GOES YOUR CODE\n",
        "    def compute_class_average(**students):\n",
        "        averages = {}\n",
        "        for name, scores in students.items():\n",
        "            if scores:  # Check if the list is not empty\n",
        "                averages[name] = sum(scores) / len(scores)\n",
        "            else:\n",
        "                averages[name] = 0  # Assign 0 if there are no scores\n",
        "        return averages\n",
        "    # ABOVE GOES YOUR CODE\n",
        "    return {\"compute_class_average\": compute_class_average}\n",
        "\n",
        "# Run the exercise\n",
        "exercise_211()"
      ]
    },
    {
      "cell_type": "code",
      "execution_count": null,
      "id": "f1472354",
      "metadata": {
        "id": "f1472354",
        "outputId": "2e9bfb6f-249e-4ada-c045-e71acb78fea0",
        "colab": {
          "base_uri": "https://localhost:8080/"
        }
      },
      "outputs": [
        {
          "output_type": "stream",
          "name": "stdout",
          "text": [
            "✅ The function has a docstring.\n"
          ]
        }
      ],
      "source": [
        "# Define a function `calculate_area` that takes the radius of a circle as an argument and returns the area. Include a docstring that describes the function, its parameter, and the return value.\n",
        "@check_exercise_212\n",
        "def exercise_212():\n",
        "    # This line is mandatory and should not be removed\n",
        "    ex_stat_init = True\n",
        "\n",
        "    # BELOW GOES YOUR CODE\n",
        "    import math\n",
        "\n",
        "    def calculate_area(radius):\n",
        "        \"\"\"\n",
        "        Calculate the area of a circle.\n",
        "\n",
        "        Parameters:\n",
        "        radius - the radius of the circle.\n",
        "\n",
        "        Returns:\n",
        "        The area of the circle calculated using the formula Pi * radius^2.\n",
        "        \"\"\"\n",
        "        return math.pi * (radius ** 2)\n",
        "    # ABOVE GOES YOUR CODE\n",
        "    return {\"calculate_area\": calculate_area}\n",
        "\n",
        "# Run the exercise\n",
        "exercise_212()"
      ]
    },
    {
      "cell_type": "code",
      "execution_count": null,
      "id": "5f3a3f52",
      "metadata": {
        "id": "5f3a3f52",
        "outputId": "b544030f-5a40-4dfc-a144-8566017cb884",
        "colab": {
          "base_uri": "https://localhost:8080/"
        }
      },
      "outputs": [
        {
          "output_type": "stream",
          "name": "stdout",
          "text": [
            "✅ Great job! Exercise completed successfully.\n"
          ]
        }
      ],
      "source": [
        "# Define a recursive function `factorial` that calculates the factorial of a given non-negative integer `n`.\n",
        "@check_exercise_213\n",
        "def exercise_213():\n",
        "    # This line is mandatory and should not be removed\n",
        "    ex_stat_init = True\n",
        "\n",
        "    # BELOW GOES YOUR CODE\n",
        "    def factorial(n):\n",
        "        if n < 0:\n",
        "            raise ValueError(\"Factorial is not defined for negative numbers.\")\n",
        "        if n == 0 or n == 1:\n",
        "            return 1\n",
        "        return n * factorial(n - 1)\n",
        "    # ABOVE GOES YOUR CODE\n",
        "    return {\"factorial\": factorial}\n",
        "\n",
        "# Run the exercise\n",
        "exercise_213()"
      ]
    },
    {
      "cell_type": "code",
      "execution_count": null,
      "id": "693b7fca",
      "metadata": {
        "id": "693b7fca",
        "outputId": "55835daa-4741-48db-e6a9-82fc04975120",
        "colab": {
          "base_uri": "https://localhost:8080/"
        }
      },
      "outputs": [
        {
          "output_type": "stream",
          "name": "stdout",
          "text": [
            "✅ Great job! Exercise completed successfully.\n"
          ]
        }
      ],
      "source": [
        "# Create a lambda function that takes two arguments `a` and `b` and returns their product. Assign this lambda function to a variable called `multiply`.\n",
        "@check_exercise_214\n",
        "def exercise_214():\n",
        "    # This line is mandatory and should not be removed\n",
        "    ex_stat_init = True\n",
        "\n",
        "    # BELOW GOES YOUR CODE\n",
        "    multiply = lambda a, b: a * b\n",
        "    # ABOVE GOES YOUR CODE\n",
        "    return {\"multiply\": multiply}\n",
        "\n",
        "# Run the exercise\n",
        "exercise_214()"
      ]
    },
    {
      "cell_type": "code",
      "execution_count": null,
      "id": "bab5f313",
      "metadata": {
        "id": "bab5f313",
        "outputId": "adf62827-e26d-4db6-bd48-c32734cf36ec",
        "colab": {
          "base_uri": "https://localhost:8080/"
        }
      },
      "outputs": [
        {
          "output_type": "stream",
          "name": "stdout",
          "text": [
            "✅ Great job! Exercise completed successfully.\n"
          ]
        }
      ],
      "source": [
        "# Given a list of temperatures in Celsius called `celsius_temps`, use `map` with a lambda function to convert all temperatures to Fahrenheit. Assign the result to a variable `fahrenheit_temps`.\n",
        "@check_exercise_215\n",
        "def exercise_215(celsius_temps):\n",
        "    # This line is mandatory and should not be removed\n",
        "    ex_stat_init = True\n",
        "\n",
        "    # BELOW GOES YOUR CODE\n",
        "    fahrenheit_temps = list(map(lambda c: (c * 9/5) + 32, celsius_temps))\n",
        "    # ABOVE GOES YOUR CODE\n",
        "    return {\"fahrenheit_temps\": fahrenheit_temps}\n",
        "\n",
        "# Run the exercise\n",
        "exercise_215()"
      ]
    },
    {
      "cell_type": "code",
      "execution_count": null,
      "id": "a055fa20",
      "metadata": {
        "id": "a055fa20",
        "outputId": "e135c9ff-2401-43fe-f7c8-05f92173fdd5",
        "colab": {
          "base_uri": "https://localhost:8080/"
        }
      },
      "outputs": [
        {
          "output_type": "stream",
          "name": "stdout",
          "text": [
            "✅ Great job! Exercise completed successfully.\n"
          ]
        }
      ],
      "source": [
        "# Given a list of numbers called `numbers`, use `filter` with a lambda function to keep only the even numbers. Assign the result to a variable `even_numbers`.\n",
        "@check_exercise_216\n",
        "def exercise_216(numbers):\n",
        "    # This line is mandatory and should not be removed\n",
        "    ex_stat_init = True\n",
        "\n",
        "    # BELOW GOES YOUR CODE\n",
        "    even_numbers = list(filter(lambda x: x % 2 == 0, numbers))\n",
        "    # ABOVE GOES YOUR CODE\n",
        "    return {\"even_numbers\": even_numbers}\n",
        "\n",
        "# Run the exercise\n",
        "exercise_216()"
      ]
    },
    {
      "cell_type": "code",
      "execution_count": null,
      "id": "a60a075a",
      "metadata": {
        "id": "a60a075a",
        "outputId": "821eebc9-c8e5-44d3-972d-d6f8453f1eb9",
        "colab": {
          "base_uri": "https://localhost:8080/"
        }
      },
      "outputs": [
        {
          "output_type": "stream",
          "name": "stdout",
          "text": [
            "✅ Great job! Exercise completed successfully.\n"
          ]
        }
      ],
      "source": [
        "# Given a list of dictionaries called `people`, each containing 'name' and 'age' keys, use the `sorted` function with a lambda to sort the list by age in descending order.\n",
        "@check_exercise_217\n",
        "def exercise_217(people):\n",
        "    # This line is mandatory and should not be removed\n",
        "    ex_stat_init = True\n",
        "\n",
        "    # BELOW GOES YOUR CODE\n",
        "    sorted_people = sorted(people, key=lambda person: person['age'], reverse=True)\n",
        "    # ABOVE GOES YOUR CODE\n",
        "    return {\"sorted_people\": sorted_people}\n",
        "\n",
        "# Run the exercise\n",
        "exercise_217()"
      ]
    },
    {
      "cell_type": "code",
      "execution_count": null,
      "id": "34229b46",
      "metadata": {
        "id": "34229b46",
        "outputId": "a1cf848f-7e9b-4c10-d306-a7ec67470d85",
        "colab": {
          "base_uri": "https://localhost:8080/"
        }
      },
      "outputs": [
        {
          "output_type": "stream",
          "name": "stdout",
          "text": [
            "✅ Great job! Exercise completed successfully.\n"
          ]
        }
      ],
      "source": [
        "# Given a list of strings called `words`, use `sorted` with a lambda function to sort the words first by length and then alphabetically for words of the same length.\n",
        "@check_exercise_218\n",
        "def exercise_218(words):\n",
        "    # This line is mandatory and should not be removed\n",
        "    ex_stat_init = True\n",
        "\n",
        "    # BELOW GOES YOUR CODE\n",
        "    sorted_words = sorted(words, key=lambda word: (len(word), word))\n",
        "    # ABOVE GOES YOUR CODE\n",
        "    return {\"sorted_words\": sorted_words}\n",
        "\n",
        "# Run the exercise\n",
        "exercise_218()"
      ]
    },
    {
      "cell_type": "code",
      "execution_count": null,
      "id": "15689277",
      "metadata": {
        "id": "15689277",
        "outputId": "a69f5a6d-a243-41b1-df4d-fe8aed53ace6",
        "colab": {
          "base_uri": "https://localhost:8080/"
        }
      },
      "outputs": [
        {
          "output_type": "stream",
          "name": "stdout",
          "text": [
            "✅ Great job! Exercise completed successfully.\n"
          ]
        }
      ],
      "source": [
        "# Define a function `create_greeting` that takes a arguemnt `salutation` with a default value of \"Hello\" and returns a function that takes a `name` argument and returns a greeting message.\n",
        "@check_exercise_219\n",
        "def exercise_219():\n",
        "    # This line is mandatory and should not be removed\n",
        "    ex_stat_init = True\n",
        "\n",
        "    # BELOW GOES YOUR CODE\n",
        "    def create_greeting(salutation=\"Hello\"):\n",
        "        def greeting(name):\n",
        "            return f\"{salutation}, {name}!\"\n",
        "        return greeting\n",
        "    # ABOVE GOES YOUR CODE\n",
        "    return {\"create_greeting\": create_greeting}\n",
        "\n",
        "# Run the exercise\n",
        "exercise_219()"
      ]
    },
    {
      "cell_type": "code",
      "execution_count": null,
      "id": "ef4b9fd2",
      "metadata": {
        "id": "ef4b9fd2",
        "outputId": "eb8f637a-71cf-4d02-d5bc-f56182504ffc",
        "colab": {
          "base_uri": "https://localhost:8080/"
        }
      },
      "outputs": [
        {
          "output_type": "stream",
          "name": "stdout",
          "text": [
            "✅ Great job! Exercise completed successfully.\n"
          ]
        }
      ],
      "source": [
        "# Given a list of dictionaries called `products`, each containing 'name' and 'price' keys, use `max` with a lambda function to find the product with the highest price.\n",
        "@check_exercise_220\n",
        "def exercise_220(products):\n",
        "    # This line is mandatory and should not be removed\n",
        "    ex_stat_init = True\n",
        "\n",
        "    # BELOW GOES YOUR CODE\n",
        "    most_expensive = max(products, key=lambda product: product['price'])\n",
        "    # ABOVE GOES YOUR CODE\n",
        "    return {\"most_expensive\": most_expensive}\n",
        "\n",
        "# Run the exercise\n",
        "exercise_220()"
      ]
    },
    {
      "cell_type": "code",
      "execution_count": null,
      "id": "c97bf046",
      "metadata": {
        "id": "c97bf046",
        "outputId": "1027ab3e-e398-4b34-ebf9-fff55f4b3806",
        "colab": {
          "base_uri": "https://localhost:8080/"
        }
      },
      "outputs": [
        {
          "output_type": "stream",
          "name": "stdout",
          "text": [
            "✅ Great job! Exercise completed successfully.\n"
          ]
        }
      ],
      "source": [
        "# Create a lambda function that adds two numbers `x` and `y` and assign it to a variable `add_lambda`.\n",
        "@check_exercise_221\n",
        "def exercise_221():\n",
        "    # This line is mandatory and should not be removed\n",
        "    ex_stat_init = True\n",
        "\n",
        "    # BELOW GOES YOUR CODE\n",
        "    add_lambda = lambda x, y: x + y\n",
        "    # ABOVE GOES YOUR CODE\n",
        "    return {\"add_lambda\": add_lambda}\n",
        "\n",
        "# Run the exercise\n",
        "exercise_221()"
      ]
    },
    {
      "cell_type": "code",
      "execution_count": null,
      "id": "c4ed2cf9",
      "metadata": {
        "id": "c4ed2cf9",
        "outputId": "4abfac88-6e92-4931-b04e-57ffbdd4ebe4",
        "colab": {
          "base_uri": "https://localhost:8080/"
        }
      },
      "outputs": [
        {
          "output_type": "stream",
          "name": "stdout",
          "text": [
            "✅ Great job! Exercise completed successfully.\n"
          ]
        }
      ],
      "source": [
        "# Use a lambda function to create a function that squares a given number `n` and assigns it to a variable `square_lambda`.\n",
        "@check_exercise_222\n",
        "def exercise_222():\n",
        "    # This line is mandatory and should not be removed\n",
        "    ex_stat_init = True\n",
        "\n",
        "    # BELOW GOES YOUR CODE\n",
        "    square_lambda = lambda n: n ** 2\n",
        "    # ABOVE GOES YOUR CODE\n",
        "    return {\"square_lambda\": square_lambda}\n",
        "\n",
        "# Run the exercise\n",
        "exercise_222()"
      ]
    },
    {
      "cell_type": "code",
      "execution_count": null,
      "id": "80850714",
      "metadata": {
        "id": "80850714",
        "outputId": "e7de1e9a-71c3-42de-c5db-a3de105d1e52",
        "colab": {
          "base_uri": "https://localhost:8080/",
          "height": 122
        }
      },
      "outputs": [
        {
          "output_type": "stream",
          "name": "stdout",
          "text": [
            "✅ All test cases passed. The decorator works as expected.\n"
          ]
        },
        {
          "output_type": "execute_result",
          "data": {
            "text/plain": [
              "<function __main__.exercise_223()>"
            ],
            "text/html": [
              "<div style=\"max-width:800px; border: 1px solid var(--colab-border-color);\"><style>\n",
              "      pre.function-repr-contents {\n",
              "        overflow-x: auto;\n",
              "        padding: 8px 12px;\n",
              "        max-height: 500px;\n",
              "      }\n",
              "\n",
              "      pre.function-repr-contents.function-repr-contents-collapsed {\n",
              "        cursor: pointer;\n",
              "        max-height: 100px;\n",
              "      }\n",
              "    </style>\n",
              "    <pre style=\"white-space: initial; background:\n",
              "         var(--colab-secondary-surface-color); padding: 8px 12px;\n",
              "         border-bottom: 1px solid var(--colab-border-color);\"><b>exercise_223</b><br/>def exercise_223()</pre><pre class=\"function-repr-contents function-repr-contents-collapsed\" style=\"\"><a class=\"filepath\" style=\"display:none\" href=\"#\">/content/&lt;ipython-input-104-782d8152e24a&gt;</a>&lt;no docstring&gt;</pre></div>"
            ]
          },
          "metadata": {},
          "execution_count": 104
        }
      ],
      "source": [
        "# Create a decorator named `log_execution` that updates the function to return the string \"Function finished {value}\" instead of the original return `value` of the function.\n",
        "@check_exercise_223\n",
        "def exercise_223():\n",
        "    # This line is mandatory and should not be removed\n",
        "    ex_stat_init = True\n",
        "\n",
        "    # BELOW GOES YOUR CODE\n",
        "    def log_execution(func):\n",
        "        def wrapper(*args, **kwargs):\n",
        "            value = func(*args, **kwargs)\n",
        "            return f\"Function finished {value}\"\n",
        "        return wrapper\n",
        "    # ABOVE GOES YOUR CODE\n",
        "    return {\"log_execution\": log_execution}\n",
        "\n",
        "# Run the exercise\n",
        "exercise_223()"
      ]
    },
    {
      "cell_type": "code",
      "execution_count": null,
      "id": "3952e673",
      "metadata": {
        "id": "3952e673",
        "outputId": "ec8032e8-7aaf-4266-cf12-8cc7566be2e1",
        "colab": {
          "base_uri": "https://localhost:8080/",
          "height": 122
        }
      },
      "outputs": [
        {
          "output_type": "stream",
          "name": "stdout",
          "text": [
            "✅ All test cases passed. The decorator works as expected.\n"
          ]
        },
        {
          "output_type": "execute_result",
          "data": {
            "text/plain": [
              "<function __main__.exercise_224()>"
            ],
            "text/html": [
              "<div style=\"max-width:800px; border: 1px solid var(--colab-border-color);\"><style>\n",
              "      pre.function-repr-contents {\n",
              "        overflow-x: auto;\n",
              "        padding: 8px 12px;\n",
              "        max-height: 500px;\n",
              "      }\n",
              "\n",
              "      pre.function-repr-contents.function-repr-contents-collapsed {\n",
              "        cursor: pointer;\n",
              "        max-height: 100px;\n",
              "      }\n",
              "    </style>\n",
              "    <pre style=\"white-space: initial; background:\n",
              "         var(--colab-secondary-surface-color); padding: 8px 12px;\n",
              "         border-bottom: 1px solid var(--colab-border-color);\"><b>exercise_224</b><br/>def exercise_224()</pre><pre class=\"function-repr-contents function-repr-contents-collapsed\" style=\"\"><a class=\"filepath\" style=\"display:none\" href=\"#\">/content/&lt;ipython-input-105-6f90a69320a5&gt;</a>&lt;no docstring&gt;</pre></div>"
            ]
          },
          "metadata": {},
          "execution_count": 105
        }
      ],
      "source": [
        "# Create a decorator named `time_execution` that measures the execution time of a function and returns the string \"less than 5 seconds\" if the execution time is less than 5 seconds, or \"more than 5 seconds\" otherwise.\n",
        "@check_exercise_224\n",
        "def exercise_224():\n",
        "    # This line is mandatory and should not be removed\n",
        "    ex_stat_init = True\n",
        "\n",
        "    # BELOW GOES YOUR CODE\n",
        "    import time\n",
        "\n",
        "    def time_execution(func):\n",
        "        def wrapper(*args, **kwargs):\n",
        "            start_time = time.time()\n",
        "            func(*args, **kwargs)\n",
        "            end_time = time.time()\n",
        "            execution_time = end_time - start_time\n",
        "            return \"less than 5 seconds\" if execution_time < 5 else \"more than 5 seconds\"\n",
        "        return wrapper\n",
        "    # ABOVE GOES YOUR CODE\n",
        "    return {\"time_execution\": time_execution}\n",
        "\n",
        "# Run the exercise\n",
        "exercise_224()"
      ]
    },
    {
      "cell_type": "code",
      "execution_count": null,
      "id": "aa3850fd",
      "metadata": {
        "id": "aa3850fd",
        "outputId": "d569097b-b0c9-4f87-b6ce-78c0af392713",
        "colab": {
          "base_uri": "https://localhost:8080/",
          "height": 122
        }
      },
      "outputs": [
        {
          "output_type": "stream",
          "name": "stdout",
          "text": [
            "✅ All test cases passed. The decorator works as expected.\n"
          ]
        },
        {
          "output_type": "execute_result",
          "data": {
            "text/plain": [
              "<function __main__.exercise_225()>"
            ],
            "text/html": [
              "<div style=\"max-width:800px; border: 1px solid var(--colab-border-color);\"><style>\n",
              "      pre.function-repr-contents {\n",
              "        overflow-x: auto;\n",
              "        padding: 8px 12px;\n",
              "        max-height: 500px;\n",
              "      }\n",
              "\n",
              "      pre.function-repr-contents.function-repr-contents-collapsed {\n",
              "        cursor: pointer;\n",
              "        max-height: 100px;\n",
              "      }\n",
              "    </style>\n",
              "    <pre style=\"white-space: initial; background:\n",
              "         var(--colab-secondary-surface-color); padding: 8px 12px;\n",
              "         border-bottom: 1px solid var(--colab-border-color);\"><b>exercise_225</b><br/>def exercise_225()</pre><pre class=\"function-repr-contents function-repr-contents-collapsed\" style=\"\"><a class=\"filepath\" style=\"display:none\" href=\"#\">/content/&lt;ipython-input-107-5f7fc6aec06c&gt;</a>&lt;no docstring&gt;</pre></div>"
            ]
          },
          "metadata": {},
          "execution_count": 107
        }
      ],
      "source": [
        "# Create a decorator that returns a dictionary in the format {\"input\": *the input of the function*, \"output\": *the result*} for a function.\n",
        "@check_exercise_225\n",
        "def exercise_225():\n",
        "    # This line is mandatory and should not be removed\n",
        "    ex_stat_init = True\n",
        "\n",
        "    # BELOW GOES YOUR CODE\n",
        "    def input_output_dict(func):\n",
        "        def wrapper(*args, **kwargs):\n",
        "            result = func(*args, **kwargs)\n",
        "            return {\"input\": args, \"output\": result}\n",
        "        return wrapper\n",
        "    # ABOVE GOES YOUR CODE\n",
        "    return {\"input_output_dict\": input_output_dict}\n",
        "\n",
        "# Run the exercise\n",
        "exercise_225()"
      ]
    },
    {
      "cell_type": "code",
      "execution_count": null,
      "id": "d5cd5694",
      "metadata": {
        "id": "d5cd5694",
        "outputId": "a568287c-c171-4885-f209-8ba4a0432fe5",
        "colab": {
          "base_uri": "https://localhost:8080/"
        }
      },
      "outputs": [
        {
          "output_type": "stream",
          "name": "stdout",
          "text": [
            "✅ All tests passed. The classes and methods work as expected.\n"
          ]
        },
        {
          "output_type": "execute_result",
          "data": {
            "text/plain": [
              "{'Car': __main__.exercise_226.<locals>.Car}"
            ]
          },
          "metadata": {},
          "execution_count": 108
        }
      ],
      "source": [
        "# Create a class called `Car` with attributes `make` and `model`\n",
        "@check_exercise_226\n",
        "def exercise_226():\n",
        "    # This line is mandatory and should not be removed\n",
        "    ex_stat_init = True\n",
        "\n",
        "    # BELOW GOES YOUR CODE\n",
        "    class Car:\n",
        "        def __init__(self, make, model):\n",
        "            self.make = make\n",
        "            self.model = model\n",
        "    # ABOVE GOES YOUR CODE\n",
        "    return {\"Car\": Car}\n",
        "\n",
        "# Run the exercise\n",
        "exercise_226()"
      ]
    },
    {
      "cell_type": "code",
      "execution_count": null,
      "id": "dc6dd778",
      "metadata": {
        "id": "dc6dd778",
        "outputId": "1be65e5b-9b5e-4db7-f107-ce37b6e35369",
        "colab": {
          "base_uri": "https://localhost:8080/"
        }
      },
      "outputs": [
        {
          "output_type": "stream",
          "name": "stdout",
          "text": [
            "✅ All tests passed. The classes and methods work as expected.\n"
          ]
        },
        {
          "output_type": "execute_result",
          "data": {
            "text/plain": [
              "{'Rectangle': __main__.exercise_227.<locals>.Rectangle}"
            ]
          },
          "metadata": {},
          "execution_count": 109
        }
      ],
      "source": [
        "# Create a class `Rectangle` with attributes `width` and `height`, and initialize them in the constructor\n",
        "@check_exercise_227\n",
        "def exercise_227():\n",
        "    # This line is mandatory and should not be removed\n",
        "    ex_stat_init = True\n",
        "\n",
        "    # BELOW GOES YOUR CODE\n",
        "    class Rectangle:\n",
        "        def __init__(self, width, height):\n",
        "            self.width = width\n",
        "            self.height = height\n",
        "    # ABOVE GOES YOUR CODE\n",
        "    return {\"Rectangle\": Rectangle}\n",
        "\n",
        "# Run the exercise\n",
        "exercise_227()"
      ]
    },
    {
      "cell_type": "code",
      "execution_count": null,
      "id": "4f6699d8",
      "metadata": {
        "id": "4f6699d8",
        "outputId": "49f16007-bd8c-4d14-95ef-6068f9a86d12",
        "colab": {
          "base_uri": "https://localhost:8080/"
        }
      },
      "outputs": [
        {
          "output_type": "stream",
          "name": "stdout",
          "text": [
            "✅ All tests passed. The classes and methods work as expected.\n"
          ]
        },
        {
          "output_type": "execute_result",
          "data": {
            "text/plain": [
              "{'Rectangle': __main__.exercise_228.<locals>.Rectangle}"
            ]
          },
          "metadata": {},
          "execution_count": 110
        }
      ],
      "source": [
        "# Create a class `Rectangle` with attributes `width` and `height`, and a method `area` that returns the area of the rectangle\n",
        "@check_exercise_228\n",
        "def exercise_228():\n",
        "    # This line is mandatory and should not be removed\n",
        "    ex_stat_init = True\n",
        "\n",
        "    # BELOW GOES YOUR CODE\n",
        "    class Rectangle:\n",
        "        def __init__(self, width, height):\n",
        "            self.width = width\n",
        "            self.height = height\n",
        "\n",
        "        def area(self):\n",
        "            return self.width * self.height\n",
        "    # ABOVE GOES YOUR CODE\n",
        "    return {\"Rectangle\": Rectangle}\n",
        "\n",
        "# Run the exercise\n",
        "exercise_228()"
      ]
    },
    {
      "cell_type": "code",
      "execution_count": null,
      "id": "d13be487",
      "metadata": {
        "id": "d13be487",
        "outputId": "df1bfbcc-4ef1-4b69-fa67-29d7096c991e",
        "colab": {
          "base_uri": "https://localhost:8080/"
        }
      },
      "outputs": [
        {
          "output_type": "stream",
          "name": "stdout",
          "text": [
            "✅ All tests passed. The classes and methods work as expected.\n"
          ]
        },
        {
          "output_type": "execute_result",
          "data": {
            "text/plain": [
              "{'Vehicle': __main__.exercise_229.<locals>.Vehicle,\n",
              " 'Motorcycle': __main__.exercise_229.<locals>.Motorcycle}"
            ]
          },
          "metadata": {},
          "execution_count": 111
        }
      ],
      "source": [
        "# Create a class `Vehicle` with attributes `brand` and `year`, then create a class `Motorcycle` that inherits from `Vehicle`\n",
        "@check_exercise_229\n",
        "def exercise_229():\n",
        "    # This line is mandatory and should not be removed\n",
        "    ex_stat_init = True\n",
        "\n",
        "    # BELOW GOES YOUR CODE\n",
        "    class Vehicle:\n",
        "        def __init__(self, brand, year):\n",
        "            self.brand = brand\n",
        "            self.year = year\n",
        "\n",
        "    class Motorcycle(Vehicle):\n",
        "        def __init__(self, brand, year):\n",
        "            super().__init__(brand, year)\n",
        "    # ABOVE GOES YOUR CODE\n",
        "    return {\"Vehicle\": Vehicle, \"Motorcycle\": Motorcycle}\n",
        "\n",
        "# Run the exercise\n",
        "exercise_229()"
      ]
    },
    {
      "cell_type": "code",
      "execution_count": null,
      "id": "50f0e6ad",
      "metadata": {
        "id": "50f0e6ad",
        "outputId": "ff8911cd-4bd3-4f83-eeed-5598251a1997",
        "colab": {
          "base_uri": "https://localhost:8080/"
        }
      },
      "outputs": [
        {
          "output_type": "stream",
          "name": "stdout",
          "text": [
            "✅ All tests passed. The classes and methods work as expected.\n"
          ]
        },
        {
          "output_type": "execute_result",
          "data": {
            "text/plain": [
              "{'Shape': __main__.exercise_230.<locals>.Shape,\n",
              " 'Circle': __main__.exercise_230.<locals>.Circle,\n",
              " 'Square': __main__.exercise_230.<locals>.Square}"
            ]
          },
          "metadata": {},
          "execution_count": 112
        }
      ],
      "source": [
        "# Create a class `Shape` with a method `area`, then create classes `Circle` that has a `radius` attribute and `Square` that has a `side` attribute, both with an `area` method that returns the area of the shape\n",
        "@check_exercise_230\n",
        "def exercise_230():\n",
        "    # This line is mandatory and should not be removed\n",
        "    ex_stat_init = True\n",
        "\n",
        "    # BELOW GOES YOUR CODE\n",
        "    import math\n",
        "\n",
        "    class Shape:\n",
        "        def area(self):\n",
        "            pass\n",
        "\n",
        "    class Circle(Shape):\n",
        "        def __init__(self, radius):\n",
        "            self.radius = radius\n",
        "\n",
        "        def area(self):\n",
        "            return math.pi * self.radius ** 2\n",
        "\n",
        "    class Square(Shape):\n",
        "        def __init__(self, side):\n",
        "            self.side = side\n",
        "\n",
        "        def area(self):\n",
        "            return self.side ** 2\n",
        "    # ABOVE GOES YOUR CODE\n",
        "    return {\"Shape\": Shape, \"Circle\": Circle, \"Square\": Square}\n",
        "\n",
        "# Run the exercise\n",
        "exercise_230()"
      ]
    },
    {
      "cell_type": "code",
      "execution_count": null,
      "id": "5a0dc07b",
      "metadata": {
        "id": "5a0dc07b",
        "outputId": "b32e7ba1-99ae-4883-d624-9e096431285c",
        "colab": {
          "base_uri": "https://localhost:8080/"
        }
      },
      "outputs": [
        {
          "output_type": "stream",
          "name": "stdout",
          "text": [
            "Error in method deposit: exercise_231.<locals>.BankAccount.__init__() got an unexpected keyword argument 'balance'\n",
            "Error in method deposit: exercise_231.<locals>.BankAccount.__init__() got an unexpected keyword argument 'balance'\n",
            "Error in method withdraw: exercise_231.<locals>.BankAccount.__init__() got an unexpected keyword argument 'balance'\n",
            "Error in method withdraw: exercise_231.<locals>.BankAccount.__init__() got an unexpected keyword argument 'balance'\n",
            "❗ The implementation is incorrect or the exercise was not implemented.\n"
          ]
        },
        {
          "output_type": "execute_result",
          "data": {
            "text/plain": [
              "{'BankAccount': __main__.exercise_231.<locals>.BankAccount}"
            ]
          },
          "metadata": {},
          "execution_count": 6
        }
      ],
      "source": [
        "# Create a class `BankAccount` with a private attribute `__balance` and methods `deposit` and `withdraw` that take an amount and update the balance and return the new balance. The `deposit` method should add the amount to the balance and the `withdraw` method should subtract the amount from the balance. The `__balance` attribute should be initialized in the constructor.# Create a class `BankAccount` with a private attribute `__balance` that is initialized in the constructor and methods `deposit` and `withdraw` to modify the balance that add or subtract an amount from the balance\n",
        "@check_exercise_231\n",
        "def exercise_231():\n",
        "    # This line is mandatory and should not be removed\n",
        "    ex_stat_init = True\n",
        "\n",
        "    # BELOW GOES YOUR CODE\n",
        "    class BankAccount:\n",
        "        def __init__(self, initial_balance=0):\n",
        "            self.__balance = initial_balance\n",
        "\n",
        "        def deposit(self, amount):\n",
        "            self.__balance += amount\n",
        "            return self.__balance\n",
        "\n",
        "        def withdraw(self, amount):\n",
        "            if amount <= self.__balance:\n",
        "                self.__balance -= amount\n",
        "            else:\n",
        "                print(\"Insufficient funds\")\n",
        "            return self.__balance\n",
        "    # ABOVE GOES YOUR CODE\n",
        "    return {\"BankAccount\": BankAccount}\n",
        "\n",
        "# Run the exercise\n",
        "exercise_231()"
      ]
    },
    {
      "cell_type": "code",
      "execution_count": null,
      "id": "c8924fd1",
      "metadata": {
        "id": "c8924fd1",
        "outputId": "e4060c55-e734-421f-b487-0d5422dc5f3b",
        "colab": {
          "base_uri": "https://localhost:8080/"
        }
      },
      "outputs": [
        {
          "output_type": "stream",
          "name": "stdout",
          "text": [
            "✅ All tests passed. The classes and methods work as expected.\n"
          ]
        },
        {
          "output_type": "execute_result",
          "data": {
            "text/plain": [
              "{'Employee': __main__.exercise_232.<locals>.Employee}"
            ]
          },
          "metadata": {},
          "execution_count": 114
        }
      ],
      "source": [
        "# Create a class `Employee` with a protected attribute `_salary` and a method `add_raise` that increases the salary by a given percentage and returns the new salary\n",
        "@check_exercise_232\n",
        "def exercise_232():\n",
        "    # This line is mandatory and should not be removed\n",
        "    ex_stat_init = True\n",
        "\n",
        "    # BELOW GOES YOUR CODE\n",
        "    class Employee:\n",
        "        def __init__(self, salary):\n",
        "            self._salary = salary\n",
        "\n",
        "        def add_raise(self, percentage):\n",
        "            self._salary += self._salary * (percentage / 100)\n",
        "            return self._salary\n",
        "    # ABOVE GOES YOUR CODE\n",
        "    return {\"Employee\": Employee}\n",
        "\n",
        "# Run the exercise\n",
        "exercise_232()"
      ]
    },
    {
      "cell_type": "code",
      "execution_count": null,
      "id": "b5d8b946",
      "metadata": {
        "id": "b5d8b946",
        "outputId": "46a04774-7b10-4a79-bdfc-5d2d84f202b6",
        "colab": {
          "base_uri": "https://localhost:8080/"
        }
      },
      "outputs": [
        {
          "output_type": "stream",
          "name": "stdout",
          "text": [
            "✅ All tests passed. The classes and methods work as expected.\n"
          ]
        },
        {
          "output_type": "execute_result",
          "data": {
            "text/plain": [
              "{'Animal': __main__.exercise_233.<locals>.Animal,\n",
              " 'Dog': __main__.exercise_233.<locals>.Dog,\n",
              " 'Cat': __main__.exercise_233.<locals>.Cat}"
            ]
          },
          "metadata": {},
          "execution_count": 115
        }
      ],
      "source": [
        "# Create an abstract class `Animal` with an abstract method `make_sound`, then create concrete classes `Dog` and `Cat` that implement the method and return a string with the sound the string should be \"Woof\" for `Dog` and \"Meow\" for `Cat`\n",
        "@check_exercise_233\n",
        "def exercise_233():\n",
        "    # This line is mandatory and should not be removed\n",
        "    ex_stat_init = True\n",
        "\n",
        "    # BELOW GOES YOUR CODE\n",
        "    from abc import ABC, abstractmethod\n",
        "\n",
        "    class Animal(ABC):\n",
        "        @abstractmethod\n",
        "        def make_sound(self):\n",
        "            pass\n",
        "\n",
        "    class Dog(Animal):\n",
        "        def make_sound(self):\n",
        "            return \"Woof\"\n",
        "\n",
        "    class Cat(Animal):\n",
        "        def make_sound(self):\n",
        "            return \"Meow\"\n",
        "    # ABOVE GOES YOUR CODE\n",
        "    return {\"Animal\": Animal, \"Dog\": Dog, \"Cat\": Cat}\n",
        "\n",
        "# Run the exercise\n",
        "exercise_233()"
      ]
    },
    {
      "cell_type": "code",
      "execution_count": null,
      "id": "7f01f647",
      "metadata": {
        "id": "7f01f647",
        "outputId": "0a5ec506-07b6-473c-aaf5-b0c79c8f59dc",
        "colab": {
          "base_uri": "https://localhost:8080/"
        }
      },
      "outputs": [
        {
          "output_type": "stream",
          "name": "stdout",
          "text": [
            "✅ All tests passed. The classes and methods work as expected.\n"
          ]
        },
        {
          "output_type": "execute_result",
          "data": {
            "text/plain": [
              "{'Book': __main__.exercise_234.<locals>.Book}"
            ]
          },
          "metadata": {},
          "execution_count": 116
        }
      ],
      "source": [
        "# Create a class `Book` with attributes `title`, `author`, and `pages`, and initialize them in the __init__ method\n",
        "@check_exercise_234\n",
        "def exercise_234():\n",
        "    # This line is mandatory and should not be removed\n",
        "    ex_stat_init = True\n",
        "\n",
        "    # BELOW GOES YOUR CODE\n",
        "    class Book:\n",
        "        def __init__(self, title, author, pages):\n",
        "            self.title = title\n",
        "            self.author = author\n",
        "            self.pages = pages\n",
        "    # ABOVE GOES YOUR CODE\n",
        "    return {\"Book\": Book}\n",
        "\n",
        "# Run the exercise\n",
        "exercise_234()"
      ]
    },
    {
      "cell_type": "code",
      "execution_count": null,
      "id": "9c32e7fb",
      "metadata": {
        "id": "9c32e7fb",
        "outputId": "275dc30a-8599-4c0b-ffd7-40ad65afb3e8",
        "colab": {
          "base_uri": "https://localhost:8080/"
        }
      },
      "outputs": [
        {
          "output_type": "stream",
          "name": "stdout",
          "text": [
            "❗ The implementation is incorrect or the exercise was not implemented.\n"
          ]
        },
        {
          "output_type": "execute_result",
          "data": {
            "text/plain": [
              "{'Book': __main__.exercise_235.<locals>.Book}"
            ]
          },
          "metadata": {},
          "execution_count": 7
        }
      ],
      "source": [
        "# Create a class `Book` with attributes `title`, `author`, and `pages`, and a method `__str__` that returns a string with the book information\n",
        "@check_exercise_235\n",
        "def exercise_235():\n",
        "    # This line is mandatory and should not be removed\n",
        "    ex_stat_init = True\n",
        "\n",
        "    # BELOW GOES YOUR CODE\n",
        "    class Book:\n",
        "        def __init__(self, title, author, pages):\n",
        "            self.title = title\n",
        "            self.author = author\n",
        "            self.pages = pages\n",
        "\n",
        "        def __str__(self):\n",
        "            return f\"'{self.title}' by {self.author}, {self.pages} pages\"\n",
        "    # ABOVE GOES YOUR CODE\n",
        "    return {\"Book\": Book}\n",
        "\n",
        "# Run the exercise\n",
        "exercise_235()"
      ]
    },
    {
      "cell_type": "code",
      "execution_count": null,
      "id": "030e084b",
      "metadata": {
        "id": "030e084b",
        "outputId": "48970a5c-e9f2-43ee-e16c-6c3fe2724248",
        "colab": {
          "base_uri": "https://localhost:8080/"
        }
      },
      "outputs": [
        {
          "output_type": "stream",
          "name": "stdout",
          "text": [
            "✅ All tests passed. The classes and methods work as expected.\n"
          ]
        },
        {
          "output_type": "execute_result",
          "data": {
            "text/plain": [
              "{'Person': __main__.exercise_236.<locals>.Person}"
            ]
          },
          "metadata": {},
          "execution_count": 119
        }
      ],
      "source": [
        "# Create a class `Person` with attributes `name` and `age`, and a method `__repr__` that returns a string in the format \"Person(name=[name], age=[age])\"\n",
        "@check_exercise_236\n",
        "def exercise_236():\n",
        "    # This line is mandatory and should not be removed\n",
        "    ex_stat_init = True\n",
        "\n",
        "    # BELOW GOES YOUR CODE\n",
        "    class Person:\n",
        "        def __init__(self, name, age):\n",
        "            self.name = name\n",
        "            self.age = age\n",
        "\n",
        "        def __repr__(self):\n",
        "            return f\"Person(name={self.name}, age={self.age})\"\n",
        "    # ABOVE GOES YOUR CODE\n",
        "    return {\"Person\": Person}\n",
        "\n",
        "# Run the exercise\n",
        "exercise_236()"
      ]
    },
    {
      "cell_type": "code",
      "execution_count": null,
      "id": "2ae3e861",
      "metadata": {
        "id": "2ae3e861",
        "outputId": "090a96bd-1b52-4590-b9c2-517312f7cc2c",
        "colab": {
          "base_uri": "https://localhost:8080/"
        }
      },
      "outputs": [
        {
          "output_type": "stream",
          "name": "stdout",
          "text": [
            "✅ All tests passed. The classes and methods work as expected.\n"
          ]
        },
        {
          "output_type": "execute_result",
          "data": {
            "text/plain": [
              "{'Point': __main__.exercise_237.<locals>.Point}"
            ]
          },
          "metadata": {},
          "execution_count": 120
        }
      ],
      "source": [
        "# Create a class `Point` with attributes `x` and `y`, and a method `__add__` that returns a new point with the sum of the coordinates\n",
        "@check_exercise_237\n",
        "def exercise_237():\n",
        "    # This line is mandatory and should not be removed\n",
        "    ex_stat_init = True\n",
        "\n",
        "    # BELOW GOES YOUR CODE\n",
        "    class Point:\n",
        "        def __init__(self, x, y):\n",
        "            self.x = x\n",
        "            self.y = y\n",
        "\n",
        "        def __add__(self, other):\n",
        "            return Point(self.x + other.x, self.y + other.y)\n",
        "    # ABOVE GOES YOUR CODE\n",
        "    return {\"Point\": Point}\n",
        "\n",
        "# Run the exercise\n",
        "exercise_237()"
      ]
    },
    {
      "cell_type": "code",
      "execution_count": null,
      "id": "6dbe1f78",
      "metadata": {
        "id": "6dbe1f78",
        "outputId": "3126c679-a733-43aa-c278-4ae8847c19dd",
        "colab": {
          "base_uri": "https://localhost:8080/"
        }
      },
      "outputs": [
        {
          "output_type": "stream",
          "name": "stdout",
          "text": [
            "✅ All tests passed. The classes and methods work as expected.\n"
          ]
        },
        {
          "output_type": "execute_result",
          "data": {
            "text/plain": [
              "{'Vector': __main__.exercise_238.<locals>.Vector}"
            ]
          },
          "metadata": {},
          "execution_count": 121
        }
      ],
      "source": [
        "# Create a class `Vector` with attributes `x` and `y`, and a method `__mul__` that returns the dot product of two vectors\n",
        "@check_exercise_238\n",
        "def exercise_238():\n",
        "    # This line is mandatory and should not be removed\n",
        "    ex_stat_init = True\n",
        "\n",
        "    # BELOW GOES YOUR CODE\n",
        "    class Vector:\n",
        "        def __init__(self, x, y):\n",
        "            self.x = x\n",
        "            self.y = y\n",
        "\n",
        "        def __mul__(self, other):\n",
        "            return self.x * other.x + self.y * other.y\n",
        "    # ABOVE GOES YOUR CODE\n",
        "    return {\"Vector\": Vector}\n",
        "\n",
        "# Run the exercise\n",
        "exercise_238()"
      ]
    },
    {
      "cell_type": "code",
      "execution_count": null,
      "id": "293c7caa",
      "metadata": {
        "id": "293c7caa",
        "outputId": "3e4e7381-58ed-4cf6-eb4c-fc8fd2d6c2f3",
        "colab": {
          "base_uri": "https://localhost:8080/"
        }
      },
      "outputs": [
        {
          "output_type": "stream",
          "name": "stdout",
          "text": [
            "✅ All tests passed. The classes and methods work as expected.\n"
          ]
        },
        {
          "output_type": "execute_result",
          "data": {
            "text/plain": [
              "{'Vector': __main__.exercise_239.<locals>.Vector}"
            ]
          },
          "metadata": {},
          "execution_count": 122
        }
      ],
      "source": [
        "# Create a class `Vector` with attributes `x` and `y`, and a method `__sub__` that returns a new vector with the difference of the coordinates\n",
        "@check_exercise_239\n",
        "def exercise_239():\n",
        "    # This line is mandatory and should not be removed\n",
        "    ex_stat_init = True\n",
        "\n",
        "    # BELOW GOES YOUR CODE\n",
        "    class Vector:\n",
        "        def __init__(self, x, y):\n",
        "            self.x = x\n",
        "            self.y = y\n",
        "\n",
        "        def __sub__(self, other):\n",
        "            return Vector(self.x - other.x, self.y - other.y)\n",
        "    # ABOVE GOES YOUR CODE\n",
        "    return {\"Vector\": Vector}\n",
        "\n",
        "# Run the exercise\n",
        "exercise_239()"
      ]
    },
    {
      "cell_type": "code",
      "execution_count": null,
      "id": "3ccac632",
      "metadata": {
        "id": "3ccac632",
        "outputId": "97bcc143-06f7-44e2-86cc-d47f3d5142e6",
        "colab": {
          "base_uri": "https://localhost:8080/"
        }
      },
      "outputs": [
        {
          "output_type": "stream",
          "name": "stdout",
          "text": [
            "✅ All tests passed. The classes and methods work as expected.\n"
          ]
        },
        {
          "output_type": "execute_result",
          "data": {
            "text/plain": [
              "{'Vector': __main__.exercise_240.<locals>.Vector}"
            ]
          },
          "metadata": {},
          "execution_count": 123
        }
      ],
      "source": [
        "# Create a class `Vector` with attributes `x` and `y`, and a method `__eq__` that returns True if two vectors have the same coordinates\n",
        "@check_exercise_240\n",
        "def exercise_240():\n",
        "    # This line is mandatory and should not be removed\n",
        "    ex_stat_init = True\n",
        "\n",
        "    # BELOW GOES YOUR CODE\n",
        "    class Vector:\n",
        "        def __init__(self, x, y):\n",
        "            self.x = x\n",
        "            self.y = y\n",
        "\n",
        "        def __eq__(self, other):\n",
        "            return self.x == other.x and self.y == other.y\n",
        "    # ABOVE GOES YOUR CODE\n",
        "    return {\"Vector\": Vector}\n",
        "\n",
        "# Run the exercise\n",
        "exercise_240()"
      ]
    },
    {
      "cell_type": "code",
      "execution_count": null,
      "id": "e7e0125d",
      "metadata": {
        "id": "e7e0125d",
        "outputId": "076cac13-7f64-4c0c-c00b-ea1f6f639c40",
        "colab": {
          "base_uri": "https://localhost:8080/"
        }
      },
      "outputs": [
        {
          "output_type": "stream",
          "name": "stdout",
          "text": [
            "✅ All tests passed. The classes and methods work as expected.\n"
          ]
        },
        {
          "output_type": "execute_result",
          "data": {
            "text/plain": [
              "{'Vector': __main__.exercise_241.<locals>.Vector}"
            ]
          },
          "metadata": {},
          "execution_count": 124
        }
      ],
      "source": [
        "# Create a class `Vector` with attributes `x` and `y`, and a method `__len__` that returns the magnitude of the vector\n",
        "@check_exercise_241\n",
        "def exercise_241():\n",
        "    # This line is mandatory and should not be removed\n",
        "    ex_stat_init = True\n",
        "\n",
        "    # BELOW GOES YOUR CODE\n",
        "    import math\n",
        "\n",
        "    class Vector:\n",
        "        def __init__(self, x, y):\n",
        "            self.x = x\n",
        "            self.y = y\n",
        "\n",
        "        def __len__(self):\n",
        "            return math.sqrt(self.x ** 2 + self.y ** 2)\n",
        "    # ABOVE GOES YOUR CODE\n",
        "    return {\"Vector\": Vector}\n",
        "\n",
        "# Run the exercise\n",
        "exercise_241()"
      ]
    },
    {
      "cell_type": "code",
      "execution_count": null,
      "id": "aec26b59",
      "metadata": {
        "id": "aec26b59",
        "outputId": "669573a8-92e2-4cdf-e610-e54112921501",
        "colab": {
          "base_uri": "https://localhost:8080/"
        }
      },
      "outputs": [
        {
          "output_type": "stream",
          "name": "stdout",
          "text": [
            "✅ All tests passed. The classes and methods work as expected.\n"
          ]
        },
        {
          "output_type": "execute_result",
          "data": {
            "text/plain": [
              "{'Vector': __main__.exercise_242.<locals>.Vector}"
            ]
          },
          "metadata": {},
          "execution_count": 125
        }
      ],
      "source": [
        "# Create a class `Vector` with attributes `x` and `y`, a method `__str__` that returns a string with the vector coordinates in the format \"(x, y)\", a method `__add__` that returns a new vector with the sum of the coordinates, and a method `__mul__` that returns the dot product of two vectors\n",
        "@check_exercise_242\n",
        "def exercise_242():\n",
        "    # This line is mandatory and should not be removed\n",
        "    ex_stat_init = True\n",
        "\n",
        "    # BELOW GOES YOUR CODE\n",
        "    class Vector:\n",
        "        def __init__(self, x, y):\n",
        "            self.x = x\n",
        "            self.y = y\n",
        "\n",
        "        def __str__(self):\n",
        "            return f\"({self.x}, {self.y})\"\n",
        "\n",
        "        def __add__(self, other):\n",
        "            return Vector(self.x + other.x, self.y + other.y)\n",
        "\n",
        "        def __mul__(self, other):\n",
        "            return self.x * other.x + self.y * other.y\n",
        "    # ABOVE GOES YOUR CODE\n",
        "    return {\"Vector\": Vector}\n",
        "\n",
        "# Run the exercise\n",
        "exercise_242()"
      ]
    },
    {
      "cell_type": "code",
      "execution_count": null,
      "id": "ecc3ec78",
      "metadata": {
        "id": "ecc3ec78",
        "outputId": "c952054b-5370-4c27-d4a2-2e3a116ea9fd",
        "colab": {
          "base_uri": "https://localhost:8080/"
        }
      },
      "outputs": [
        {
          "output_type": "stream",
          "name": "stdout",
          "text": [
            "✅ All tests passed. The classes and methods work as expected.\n"
          ]
        },
        {
          "output_type": "execute_result",
          "data": {
            "text/plain": [
              "{'Flying': __main__.exercise_243.<locals>.Flying,\n",
              " 'Swimming': __main__.exercise_243.<locals>.Swimming,\n",
              " 'Duck': __main__.exercise_243.<locals>.Duck}"
            ]
          },
          "metadata": {},
          "execution_count": 126
        }
      ],
      "source": [
        "# Create classes `Flying` and `Swimming`, then create a class `Duck` that inherits from both\n",
        "@check_exercise_243\n",
        "def exercise_243():\n",
        "    # This line is mandatory and should not be removed\n",
        "    ex_stat_init = True\n",
        "\n",
        "    # BELOW GOES YOUR CODE\n",
        "    class Flying:\n",
        "        def fly(self):\n",
        "            return \"I'm flying!\"\n",
        "\n",
        "    class Swimming:\n",
        "        def swim(self):\n",
        "            return \"I'm swimming!\"\n",
        "\n",
        "    class Duck(Flying, Swimming):\n",
        "        def quack(self):\n",
        "            return \"Quack!\"\n",
        "    # ABOVE GOES YOUR CODE\n",
        "    return {\"Flying\": Flying, \"Swimming\": Swimming, \"Duck\": Duck}\n",
        "\n",
        "# Run the exercise\n",
        "exercise_243()"
      ]
    },
    {
      "cell_type": "code",
      "execution_count": null,
      "id": "d5d0c79f",
      "metadata": {
        "id": "d5d0c79f",
        "outputId": "859ddd4d-f71f-4958-b972-55225da89b01",
        "colab": {
          "base_uri": "https://localhost:8080/"
        }
      },
      "outputs": [
        {
          "output_type": "stream",
          "name": "stdout",
          "text": [
            "✅ All tests passed. The classes and methods work as expected.\n"
          ]
        },
        {
          "output_type": "execute_result",
          "data": {
            "text/plain": [
              "{'Animal': __main__.exercise_244.<locals>.Animal,\n",
              " 'Bird': __main__.exercise_244.<locals>.Bird}"
            ]
          },
          "metadata": {},
          "execution_count": 127
        }
      ],
      "source": [
        "# Create a class `Animal` with a method `move`, then create a class `Bird` that inherits from `Animal` and overrides the `move` method\n",
        "@check_exercise_244\n",
        "def exercise_244():\n",
        "    # This line is mandatory and should not be removed\n",
        "    ex_stat_init = True\n",
        "\n",
        "    # BELOW GOES YOUR CODE\n",
        "    class Animal:\n",
        "        def move(self):\n",
        "            return \"The animal moves.\"\n",
        "\n",
        "    class Bird(Animal):\n",
        "        def move(self):\n",
        "            return \"The bird flies.\"\n",
        "    # ABOVE GOES YOUR CODE\n",
        "    return {\"Animal\": Animal, \"Bird\": Bird}\n",
        "\n",
        "# Run the exercise\n",
        "exercise_244()"
      ]
    },
    {
      "cell_type": "code",
      "execution_count": null,
      "id": "3cc2d6a3",
      "metadata": {
        "id": "3cc2d6a3",
        "outputId": "e5abdcc3-4143-4d6a-f9bf-e30db537b155",
        "colab": {
          "base_uri": "https://localhost:8080/"
        }
      },
      "outputs": [
        {
          "output_type": "stream",
          "name": "stdout",
          "text": [
            "Error in method get_count: exercise_245.<locals>.Counter.get_count() takes 1 positional argument but 2 were given\n",
            "Error in method get_count: exercise_245.<locals>.Counter.get_count() takes 1 positional argument but 2 were given\n",
            "❗ The implementation is incorrect or the exercise was not implemented.\n"
          ]
        },
        {
          "output_type": "execute_result",
          "data": {
            "text/plain": [
              "{'Counter': __main__.exercise_245.<locals>.Counter}"
            ]
          },
          "metadata": {},
          "execution_count": 8
        }
      ],
      "source": [
        "# Create a class `Counter` with a class variable that keeps track of how many instances have been created and a method `get_count` that returns the count\n",
        "@check_exercise_245\n",
        "def exercise_245():\n",
        "    # This line is mandatory and should not be removed\n",
        "    ex_stat_init = True\n",
        "\n",
        "    # BELOW GOES YOUR CODE\n",
        "    class Counter:\n",
        "        count = 0\n",
        "\n",
        "        def __init__(self):\n",
        "            Counter.count += 1\n",
        "\n",
        "        @classmethod\n",
        "        def get_count(cls):\n",
        "            return cls.count\n",
        "    # ABOVE GOES YOUR CODE\n",
        "    return {\"Counter\": Counter}\n",
        "\n",
        "# Run the exercise\n",
        "exercise_245()"
      ]
    }
  ],
  "metadata": {
    "kernelspec": {
      "display_name": "excalibur",
      "language": "python",
      "name": "python3"
    },
    "language_info": {
      "codemirror_mode": {
        "name": "ipython",
        "version": 3
      },
      "file_extension": ".py",
      "mimetype": "text/x-python",
      "name": "python",
      "nbconvert_exporter": "python",
      "pygments_lexer": "ipython3",
      "version": "3.12.5"
    },
    "colab": {
      "provenance": []
    }
  },
  "nbformat": 4,
  "nbformat_minor": 5
}