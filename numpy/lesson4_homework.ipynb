{
  "cells": [
    {
      "cell_type": "code",
      "execution_count": null,
      "metadata": {
        "id": "QwHB4FcE3b2R"
      },
      "outputs": [],
      "source": [
        "pip install sigmoid_check==0.1.3"
      ]
    },
    {
      "cell_type": "code",
      "execution_count": null,
      "metadata": {
        "id": "jjogPzLg9ZKk"
      },
      "outputs": [],
      "source": [
        "# make sure to install the latest version of sigmoid_check with pip install sigmoid_check==0.1.3\n",
        "from sigmoid_check.excalibur import *\n",
        "import numpy as np"
      ]
    },
    {
      "cell_type": "code",
      "execution_count": null,
      "metadata": {
        "id": "3EkxXo0P9ZKm",
        "outputId": "92ee77d2-4fca-46f0-aaa7-130496fdb561"
      },
      "outputs": [
        {
          "name": "stdout",
          "output_type": "stream",
          "text": [
            "✅ Great job! Exercise completed successfully.\n"
          ]
        }
      ],
      "source": [
        "# Given a list of integers `int_list`, create a NumPy array named `array_from_list`.\n",
        "@check_numpy_1\n",
        "def numpy_1(int_list):\n",
        "    # This line is mandatory and should not be removed.\n",
        "    ex_stat_init = True\n",
        "\n",
        "    # BELOW GOES YOUR CODE\n",
        "    array_from_list = np.array(int_list)\n",
        "    # ABOVE GOES YOUR CODE\n",
        "    return {\"array_from_list\": array_from_list}\n",
        "\n",
        "numpy_1()"
      ]
    },
    {
      "cell_type": "code",
      "execution_count": null,
      "metadata": {
        "id": "RAIa00q69ZKn",
        "outputId": "11d554a7-dc5e-45f1-add6-53a6575b9629"
      },
      "outputs": [
        {
          "name": "stdout",
          "output_type": "stream",
          "text": [
            "✅ Great job! Exercise completed successfully.\n"
          ]
        }
      ],
      "source": [
        "# Given two NumPy arrays `array1` and `array2` of the same shape, save their element-wise addition to `added_array`.\n",
        "@check_numpy_2\n",
        "def numpy_2(array1, array2):\n",
        "    # This line is mandatory and should not be removed.\n",
        "    ex_stat_init = True\n",
        "\n",
        "    # BELOW GOES YOUR CODE\n",
        "    added_array = array1 + array2\n",
        "    # ABOVE GOES YOUR CODE\n",
        "    return {\"added_array\": added_array}\n",
        "\n",
        "numpy_2()"
      ]
    },
    {
      "cell_type": "code",
      "execution_count": null,
      "metadata": {
        "id": "gSZTxau-9ZKo",
        "outputId": "99b2d7e7-7faa-4db3-dd22-579b004d0062"
      },
      "outputs": [
        {
          "name": "stdout",
          "output_type": "stream",
          "text": [
            "✅ Great job! Exercise completed successfully.\n"
          ]
        }
      ],
      "source": [
        "# Given two NumPy arrays `arrayA` and `arrayB`, calculate the element-wise subtraction of `arrayB` from `arrayA` and store the result in `subtracted_array`.\n",
        "@check_numpy_3\n",
        "def numpy_3(arrayA, arrayB):\n",
        "    # This line is mandatory and should not be removed.\n",
        "    ex_stat_init = True\n",
        "\n",
        "    # BELOW GOES YOUR CODE\n",
        "    subtracted_array = arrayA - arrayB\n",
        "    # ABOVE GOES YOUR CODE\n",
        "    return {\"subtracted_array\": subtracted_array}\n",
        "\n",
        "numpy_3()"
      ]
    },
    {
      "cell_type": "code",
      "execution_count": null,
      "metadata": {
        "id": "hApZBB3O9ZKo",
        "outputId": "f73deb8a-8ec8-45fa-c027-6292be997b48"
      },
      "outputs": [
        {
          "name": "stdout",
          "output_type": "stream",
          "text": [
            "✅ Great job! Exercise completed successfully.\n"
          ]
        }
      ],
      "source": [
        "# Given two NumPy arrays `num_array1` and `num_array2` of the same shape, find their element-wise multiplication and store in `multiplied_array`.\n",
        "@check_numpy_4\n",
        "def numpy_4(num_array1, num_array2):\n",
        "    # This line is mandatory and should not be removed.\n",
        "    ex_stat_init = True\n",
        "\n",
        "    # BELOW GOES YOUR CODE\n",
        "    multiplied_array = num_array1 * num_array2\n",
        "    # ABOVE GOES YOUR CODE\n",
        "    return {\"multiplied_array\": multiplied_array}\n",
        "\n",
        "numpy_4()"
      ]
    },
    {
      "cell_type": "code",
      "execution_count": null,
      "metadata": {
        "id": "S96wZkC-9ZKo",
        "outputId": "0479760f-20cb-430b-d47d-5543a0dc4580"
      },
      "outputs": [
        {
          "name": "stdout",
          "output_type": "stream",
          "text": [
            "✅ Great job! Exercise completed successfully.\n"
          ]
        }
      ],
      "source": [
        "# Given two NumPy arrays `dividend_array` and `divisor_array` of the same shape, perform element-wise division and assign the result to `divided_array`.\n",
        "@check_numpy_5\n",
        "def numpy_5(dividend_array, divisor_array):\n",
        "    # This line is mandatory and should not be removed.\n",
        "    ex_stat_init = True\n",
        "\n",
        "    # BELOW GOES YOUR CODE\n",
        "    divided_array = dividend_array * divisor_array\n",
        "    # ABOVE GOES YOUR CODE\n",
        "    return {\"divided_array\": divided_array}\n",
        "\n",
        "numpy_5()"
      ]
    },
    {
      "cell_type": "code",
      "execution_count": null,
      "metadata": {
        "id": "YM6Pfd1T9ZKo",
        "outputId": "4aa65c71-a22b-495f-c31c-db4eb7097465"
      },
      "outputs": [
        {
          "name": "stdout",
          "output_type": "stream",
          "text": [
            "✅ Great job! Exercise completed successfully.\n"
          ]
        }
      ],
      "source": [
        "# Given a NumPy array `base_array` and a scalar `exponent`, compute the element-wise exponentiation and store the result in `exponentiated_array`.\n",
        "@check_numpy_6\n",
        "def numpy_6(base_array, exponent):\n",
        "    # This line is mandatory and should not be removed.\n",
        "    ex_stat_init = True\n",
        "\n",
        "    # BELOW GOES YOUR CODE\n",
        "    exponentiated_array = base_array * exponent\n",
        "    # ABOVE GOES YOUR CODE\n",
        "    return {\"exponentiated_array\": exponentiated_array}\n",
        "\n",
        "numpy_6()"
      ]
    },
    {
      "cell_type": "code",
      "execution_count": null,
      "metadata": {
        "id": "SrHdrpZl9ZKp",
        "outputId": "99b2f13c-b166-4e7c-8b14-3610950108d5"
      },
      "outputs": [
        {
          "name": "stdout",
          "output_type": "stream",
          "text": [
            "✅ Great job! Exercise completed successfully.\n"
          ]
        }
      ],
      "source": [
        "# Given a list of numbers `float_list`, create a NumPy array named `float_array` with a float data type.\n",
        "@check_numpy_7\n",
        "def numpy_7(float_list):\n",
        "    # This line is mandatory and should not be removed.\n",
        "    ex_stat_init = True\n",
        "\n",
        "    # BELOW GOES YOUR CODE\n",
        "    float_array = np.array(float_list, dtype=float)\n",
        "    # ABOVE GOES YOUR CODE\n",
        "    return {\"float_array\": float_array}\n",
        "\n",
        "numpy_7()"
      ]
    },
    {
      "cell_type": "code",
      "execution_count": null,
      "metadata": {
        "id": "b18Rzyi99ZKp",
        "outputId": "42d3d2f1-2c7b-4642-97dd-7ea6e7cb2216"
      },
      "outputs": [
        {
          "name": "stdout",
          "output_type": "stream",
          "text": [
            "✅ Great job! Exercise completed successfully.\n"
          ]
        }
      ],
      "source": [
        "# Use the list of lists `matrix_data` to create a 2-dimensional NumPy array named `matrix`.\n",
        "@check_numpy_8\n",
        "def numpy_8(matrix_data):\n",
        "    # This line is mandatory and should not be removed.\n",
        "    ex_stat_init = True\n",
        "\n",
        "    # BELOW GOES YOUR CODE\n",
        "    matrix = np.array(matrix_data)\n",
        "    # ABOVE GOES YOUR CODE\n",
        "    return {\"matrix\": matrix}\n",
        "\n",
        "numpy_8()"
      ]
    },
    {
      "cell_type": "code",
      "execution_count": null,
      "metadata": {
        "id": "zZiQ2WIY9ZKp",
        "outputId": "619c85bc-5320-4696-eaa6-901fdae9e44f"
      },
      "outputs": [
        {
          "name": "stdout",
          "output_type": "stream",
          "text": [
            "✅ Great job! Exercise completed successfully.\n"
          ]
        }
      ],
      "source": [
        "# Given a NumPy array `original_array` and the new shape tuple `new_shape`, reshape the array and store it in `reshaped_array`.\n",
        "@check_numpy_9\n",
        "def numpy_9(original_array, new_shape):\n",
        "    # This line is mandatory and should not be removed.\n",
        "    ex_stat_init = True\n",
        "\n",
        "    # BELOW GOES YOUR CODE\n",
        "    reshaped_array = original_array.reshape(new_shape)\n",
        "    # ABOVE GOES YOUR CODE\n",
        "    return {\"reshaped_array\": reshaped_array}\n",
        "\n",
        "numpy_9()"
      ]
    },
    {
      "cell_type": "code",
      "execution_count": null,
      "metadata": {
        "id": "AGSJIvw09ZKp",
        "outputId": "fca34733-07c1-4f39-b156-e87342303412"
      },
      "outputs": [
        {
          "name": "stdout",
          "output_type": "stream",
          "text": [
            "✅ Great job! Exercise completed successfully.\n"
          ]
        }
      ],
      "source": [
        "# Using NumPy's `arange`, generate an array named `range_array` from 0 to `end` with a step of `step`.\n",
        "@check_numpy_10\n",
        "def numpy_10(end, step):\n",
        "    # This line is mandatory and should not be removed.\n",
        "    ex_stat_init = True\n",
        "\n",
        "    # BELOW GOES YOUR CODE\n",
        "    range_array = np.arange(0, end, step)\n",
        "    # ABOVE GOES YOUR CODE\n",
        "    return {\"range_array\": range_array}\n",
        "\n",
        "numpy_10()"
      ]
    },
    {
      "cell_type": "code",
      "execution_count": null,
      "metadata": {
        "id": "KUo7c-Fn9ZKq",
        "outputId": "7dfa43db-7705-4917-c74e-b33e038ac86f"
      },
      "outputs": [
        {
          "name": "stdout",
          "output_type": "stream",
          "text": [
            "✅ Great job! Exercise completed successfully.\n"
          ]
        }
      ],
      "source": [
        "# Use NumPy's `linspace` to create an array named `linspace_array` with `num_points` evenly spaced points between `start` and `stop`.\n",
        "@check_numpy_11\n",
        "def numpy_11(start, stop, num_points):\n",
        "    # This line is mandatory and should not be removed.\n",
        "    ex_stat_init = True\n",
        "\n",
        "    # BELOW GOES YOUR CODE\n",
        "    linspace_array = np.linspace(start,stop,num_points)\n",
        "    # ABOVE GOES YOUR CODE\n",
        "    return {\"linspace_array\": linspace_array}\n",
        "\n",
        "numpy_11()"
      ]
    },
    {
      "cell_type": "code",
      "execution_count": null,
      "metadata": {
        "id": "r0SoHSIM9ZKq",
        "outputId": "79d1c0bc-a8cc-4006-be11-8e09cf4a0a4c"
      },
      "outputs": [
        {
          "name": "stdout",
          "output_type": "stream",
          "text": [
            "✅ Great job! Exercise completed successfully.\n"
          ]
        }
      ],
      "source": [
        "# Create a NumPy array named `zero_array` with a shape specified by `shape` filled with zeros.\n",
        "@check_numpy_12\n",
        "def numpy_12(shape):\n",
        "    # This line is mandatory and should not be removed.\n",
        "    ex_stat_init = True\n",
        "\n",
        "    # BELOW GOES YOUR CODE\n",
        "    zero_array = np.array(0)\n",
        "    # ABOVE GOES YOUR CODE\n",
        "    return {\"zero_array\": zero_array}\n",
        "\n",
        "numpy_12()"
      ]
    },
    {
      "cell_type": "code",
      "execution_count": null,
      "metadata": {
        "id": "XLmjoSRt9ZKq",
        "outputId": "e46f5f9e-dbec-4992-f3b6-6c20a39a4816"
      },
      "outputs": [
        {
          "name": "stdout",
          "output_type": "stream",
          "text": [
            "✅ Great job! Exercise completed successfully.\n"
          ]
        }
      ],
      "source": [
        "# Create a NumPy array named `ones_array` with a shape given by `shape` filled with ones.\n",
        "@check_numpy_13\n",
        "def numpy_13(shape):\n",
        "    # This line is mandatory and should not be removed.\n",
        "    ex_stat_init = True\n",
        "\n",
        "    # BELOW GOES YOUR CODE\n",
        "    ones_array = np.ones(shape)\n",
        "    # ABOVE GOES YOUR CODE\n",
        "    return {\"ones_array\": ones_array}\n",
        "\n",
        "numpy_13()"
      ]
    },
    {
      "cell_type": "code",
      "execution_count": null,
      "metadata": {
        "id": "DHH7l-rI9ZKq",
        "outputId": "99bd00c0-5403-498b-df8f-080e781019e9"
      },
      "outputs": [
        {
          "name": "stdout",
          "output_type": "stream",
          "text": [
            "✅ Great job! Exercise completed successfully.\n"
          ]
        }
      ],
      "source": [
        "# Given a size `n`, generate an identity matrix named `identity_matrix` of size `n x n`.\n",
        "@check_numpy_14\n",
        "def numpy_14(n):\n",
        "    # This line is mandatory and should not be removed.\n",
        "    ex_stat_init = True\n",
        "\n",
        "    # BELOW GOES YOUR CODE\n",
        "    identity_matrix = np.identity(n)\n",
        "    # ABOVE GOES YOUR CODE\n",
        "    return {\"identity_matrix\": identity_matrix}\n",
        "\n",
        "numpy_14()"
      ]
    },
    {
      "cell_type": "code",
      "execution_count": null,
      "metadata": {
        "id": "ukPqBxdg9ZKq",
        "outputId": "a75a35ed-818a-47f0-86ae-3b3920fe2d1f"
      },
      "outputs": [
        {
          "name": "stdout",
          "output_type": "stream",
          "text": [
            "✅ Great job! Exercise completed successfully.\n"
          ]
        }
      ],
      "source": [
        "# Given a NumPy array `matrix_array`, extract its shape and assign it to `array_shape`.\n",
        "@check_numpy_15\n",
        "def numpy_15(matrix_array):\n",
        "    # This line is mandatory and should not be removed.\n",
        "    ex_stat_init = True\n",
        "\n",
        "    # BELOW GOES YOUR CODE\n",
        "    array_shape = matrix_array.shape\n",
        "    # ABOVE GOES YOUR CODE\n",
        "    return {\"array_shape\": array_shape}\n",
        "\n",
        "numpy_15()"
      ]
    },
    {
      "cell_type": "code",
      "execution_count": null,
      "metadata": {
        "id": "3OXRfpra9ZKq",
        "outputId": "6b101e2e-4b53-454a-be64-991a61eb1bc0"
      },
      "outputs": [
        {
          "name": "stdout",
          "output_type": "stream",
          "text": [
            "✅ Great job! Exercise completed successfully.\n"
          ]
        }
      ],
      "source": [
        "# Determine the number of dimensions of the NumPy array `dim_array` and store it in `num_dimensions`.\n",
        "@check_numpy_16\n",
        "def numpy_16(dim_array):\n",
        "    # This line is mandatory and should not be removed.\n",
        "    ex_stat_init = True\n",
        "\n",
        "    # BELOW GOES YOUR CODE\n",
        "    num_dimensions = dim_array.ndim\n",
        "    # ABOVE GOES YOUR CODE\n",
        "    return {\"num_dimensions\": num_dimensions}\n",
        "\n",
        "numpy_16()"
      ]
    },
    {
      "cell_type": "code",
      "execution_count": null,
      "metadata": {
        "id": "jrSvJJ_59ZKq",
        "outputId": "e4a61548-ef9c-44a6-dc7d-c6ab3a778548"
      },
      "outputs": [
        {
          "name": "stdout",
          "output_type": "stream",
          "text": [
            "✅ Great job! Exercise completed successfully.\n"
          ]
        }
      ],
      "source": [
        "# Calculate the total number of elements in the NumPy array `elements_array` and store it in `total_elements`.\n",
        "@check_numpy_17\n",
        "def numpy_17(elements_array):\n",
        "    # This line is mandatory and should not be removed.\n",
        "    ex_stat_init = True\n",
        "\n",
        "    # BELOW GOES YOUR CODE\n",
        "    total_elements = elements_array.size\n",
        "    # ABOVE GOES YOUR CODE\n",
        "    return {\"total_elements\": total_elements}\n",
        "\n",
        "numpy_17()"
      ]
    },
    {
      "cell_type": "code",
      "execution_count": null,
      "metadata": {
        "id": "OpiVp6069ZKq",
        "outputId": "5cf73885-c30f-4543-e45d-ac01b0641903"
      },
      "outputs": [
        {
          "name": "stdout",
          "output_type": "stream",
          "text": [
            "✅ Great job! Exercise completed successfully.\n"
          ]
        }
      ],
      "source": [
        "# Assign the data type of elements in the NumPy array `type_array` to the variable `element_type`.\n",
        "@check_numpy_18\n",
        "def numpy_18(type_array):\n",
        "    # This line is mandatory and should not be removed.\n",
        "    ex_stat_init = True\n",
        "\n",
        "    # BELOW GOES YOUR CODE\n",
        "    element_type = type_array.dtype\n",
        "    # ABOVE GOES YOUR CODE\n",
        "    return {\"element_type\": element_type}\n",
        "\n",
        "numpy_18()"
      ]
    },
    {
      "cell_type": "code",
      "execution_count": null,
      "metadata": {
        "id": "CGOiszOZ9ZKr",
        "outputId": "af77d93f-9acc-4e39-8d12-4e12227328e5"
      },
      "outputs": [
        {
          "name": "stdout",
          "output_type": "stream",
          "text": [
            "✅ Great job! Exercise completed successfully.\n"
          ]
        }
      ],
      "source": [
        "# Compute the memory size (in bytes) of each element in the array `memory_array` and assign it to `element_size`.\n",
        "@check_numpy_19\n",
        "def numpy_19(memory_array):\n",
        "    # This line is mandatory and should not be removed.\n",
        "    ex_stat_init = True\n",
        "\n",
        "    # BELOW GOES YOUR CODE\n",
        "    element_size = memory_array.itemsize\n",
        "    # ABOVE GOES YOUR CODE\n",
        "    return {\"element_size\": element_size}\n",
        "\n",
        "numpy_19()"
      ]
    },
    {
      "cell_type": "code",
      "execution_count": null,
      "metadata": {
        "id": "EDjAZ10-9ZKr",
        "outputId": "12f9ce8f-b39a-4265-e681-ae725375a6cd"
      },
      "outputs": [
        {
          "name": "stdout",
          "output_type": "stream",
          "text": [
            "✅ Great job! Exercise completed successfully.\n"
          ]
        }
      ],
      "source": [
        "# Convert the integer NumPy array `int_array` to a float array and save it in `float_converted_array`.\n",
        "@check_numpy_20\n",
        "def numpy_20(int_array):\n",
        "    # This line is mandatory and should not be removed.\n",
        "    ex_stat_init = True\n",
        "\n",
        "    # BELOW GOES YOUR CODE\n",
        "    float_converted_array = int_array.astype(float)\n",
        "    # ABOVE GOES YOUR CODE\n",
        "    return {\"float_converted_array\": float_converted_array}\n",
        "\n",
        "numpy_20()"
      ]
    },
    {
      "cell_type": "code",
      "execution_count": null,
      "metadata": {
        "id": "J4KXSo489ZKr",
        "outputId": "4e2c5e76-ee9d-41a6-ffc7-97db41f63fc1"
      },
      "outputs": [
        {
          "name": "stdout",
          "output_type": "stream",
          "text": [
            "✅ Great job! Exercise completed successfully.\n"
          ]
        }
      ],
      "source": [
        "# Given a NumPy array `access_array` and an index `index`, assign the element at that index to `selected_element`.\n",
        "@check_numpy_21\n",
        "def numpy_21(access_array, index):\n",
        "    # This line is mandatory and should not be removed.\n",
        "    ex_stat_init = True\n",
        "\n",
        "    # BELOW GOES YOUR CODE\n",
        "    selected_element = access_array[index]\n",
        "    # ABOVE GOES YOUR CODE\n",
        "    return {\"selected_element\": selected_element}\n",
        "\n",
        "numpy_21()"
      ]
    },
    {
      "cell_type": "code",
      "execution_count": null,
      "metadata": {
        "id": "Ri4eqcPr9ZKr",
        "outputId": "a849ada1-524e-439a-acda-ee2541caad30"
      },
      "outputs": [
        {
          "name": "stdout",
          "output_type": "stream",
          "text": [
            "✅ Great job! Exercise completed successfully.\n"
          ]
        }
      ],
      "source": [
        "# Given a NumPy array `slice_array`, extract a slice using `start` and `end` indices, and store it in `sliced_array`.\n",
        "@check_numpy_22\n",
        "def numpy_22(slice_array, start, end):\n",
        "    # This line is mandatory and should not be removed.\n",
        "    ex_stat_init = True\n",
        "\n",
        "    # BELOW GOES YOUR CODE\n",
        "    sliced_array = slice_array[start:end]\n",
        "    # ABOVE GOES YOUR CODE\n",
        "    return {\"sliced_array\": sliced_array}\n",
        "\n",
        "numpy_22()"
      ]
    },
    {
      "cell_type": "code",
      "execution_count": null,
      "metadata": {
        "id": "c5jyCuJQ9ZKr",
        "outputId": "acf53c26-2dd4-41cd-cf1a-c11321060623"
      },
      "outputs": [
        {
          "name": "stdout",
          "output_type": "stream",
          "text": [
            "✅ Great job! Exercise completed successfully.\n"
          ]
        }
      ],
      "source": [
        "# Increase each element of `one_d_array` by 5 and store the result in `increased_array`.\n",
        "@check_numpy_23\n",
        "def numpy_23(one_d_array):\n",
        "    # This line is mandatory and should not be removed.\n",
        "    ex_stat_init = True\n",
        "\n",
        "    # BELOW GOES YOUR CODE\n",
        "    increased_array = one_d_array + 5\n",
        "    # ABOVE GOES YOUR CODE\n",
        "    return {\"increased_array\": increased_array}\n",
        "\n",
        "numpy_23()"
      ]
    },
    {
      "cell_type": "code",
      "execution_count": null,
      "metadata": {
        "id": "sfyr2Fm19ZKr",
        "outputId": "d52d4ff8-301d-4c4e-9572-371a8c0f8f7e"
      },
      "outputs": [
        {
          "name": "stdout",
          "output_type": "stream",
          "text": [
            "✅ Great job! Exercise completed successfully.\n"
          ]
        }
      ],
      "source": [
        "# Double the values in the 2D array `multi_d_array` and save it in `doubled_array`.\n",
        "@check_numpy_24\n",
        "def numpy_24(multi_d_array):\n",
        "    # This line is mandatory and should not be removed.\n",
        "    ex_stat_init = True\n",
        "\n",
        "    # BELOW GOES YOUR CODE\n",
        "    doubled_array = multi_d_array * 2\n",
        "    # ABOVE GOES YOUR CODE\n",
        "    return {\"doubled_array\": doubled_array}\n",
        "\n",
        "numpy_24()"
      ]
    },
    {
      "cell_type": "code",
      "execution_count": null,
      "metadata": {
        "id": "6_BQtc509ZKr",
        "outputId": "98408ad2-4654-4a68-9714-75c71ec28df0"
      },
      "outputs": [
        {
          "name": "stdout",
          "output_type": "stream",
          "text": [
            "✅ Great job! Exercise completed successfully.\n"
          ]
        }
      ],
      "source": [
        "# Given a NumPy array `mask_array` and a `mask_value`, create `filtered_array` containing only the elements of `mask_array` that are greater than `mask_value`.\n",
        "@check_numpy_25\n",
        "def numpy_25(mask_array, mask_value):\n",
        "    # This line is mandatory and should not be removed.\n",
        "    ex_stat_init = True\n",
        "\n",
        "    # BELOW GOES YOUR CODE\n",
        "    filtered_array = mask_array[mask_array > mask_value]\n",
        "    # ABOVE GOES YOUR CODE\n",
        "    return {\"filtered_array\": filtered_array}\n",
        "\n",
        "numpy_25()"
      ]
    },
    {
      "cell_type": "code",
      "execution_count": null,
      "metadata": {
        "id": "qgfxHbHT9ZKr",
        "outputId": "c971ab9d-b9e3-4430-ed81-757bd7aaec68"
      },
      "outputs": [
        {
          "name": "stdout",
          "output_type": "stream",
          "text": [
            "✅ Great job! Exercise completed successfully.\n"
          ]
        }
      ],
      "source": [
        "# Apply masking to the 2D array `multi_mask_array` that keeps all elements greater than the 'condition_value' and store the satisfying elements in `masked_array_2d`.\n",
        "@check_numpy_26\n",
        "def numpy_26(multi_mask_array, condition_value):\n",
        "    # This line is mandatory and should not be removed.\n",
        "    ex_stat_init = True\n",
        "\n",
        "    # BELOW GOES YOUR CODE\n",
        "    masked_array_2d = multi_mask_array[multi_mask_array > condition_value]\n",
        "    # ABOVE GOES YOUR CODE\n",
        "    return {\"masked_array_2d\": masked_array_2d}\n",
        "\n",
        "numpy_26()"
      ]
    },
    {
      "cell_type": "code",
      "execution_count": null,
      "metadata": {
        "id": "OEaD4bIa9ZKr",
        "outputId": "70af72a6-06f3-494d-e4bf-b66c50e4609b"
      },
      "outputs": [
        {
          "name": "stdout",
          "output_type": "stream",
          "text": [
            "✅ Great job! Exercise completed successfully.\n"
          ]
        }
      ],
      "source": [
        "# Calculate the sum of elements for each column of a 2D array `sum_2d_array` and store it in `column_sums`.\n",
        "@check_numpy_27\n",
        "def numpy_27(sum_2d_array):\n",
        "    # This line is mandatory and should not be removed.\n",
        "    ex_stat_init = True\n",
        "\n",
        "    # BELOW GOES YOUR CODE\n",
        "    column_sums = sum(sum_2d_array)\n",
        "    # ABOVE GOES YOUR CODE\n",
        "    return {\"column_sums\": column_sums}\n",
        "\n",
        "numpy_27()"
      ]
    },
    {
      "cell_type": "code",
      "execution_count": null,
      "metadata": {
        "id": "1NEl7mBF9ZKs",
        "outputId": "2764be8f-41cf-4799-ac3b-bca0afa24c64"
      },
      "outputs": [
        {
          "name": "stdout",
          "output_type": "stream",
          "text": [
            "✅ Great job! Exercise completed successfully.\n"
          ]
        }
      ],
      "source": [
        "# Find the minimum value in the NumPy array `min_array` and assign it to `min_value`.\n",
        "@check_numpy_28\n",
        "def numpy_28(min_array):\n",
        "    # This line is mandatory and should not be removed.\n",
        "    ex_stat_init = True\n",
        "\n",
        "    # BELOW GOES YOUR CODE\n",
        "    min_value = min_array.min()\n",
        "    # ABOVE GOES YOUR CODE\n",
        "    return {\"min_value\": min_value}\n",
        "\n",
        "numpy_28()"
      ]
    },
    {
      "cell_type": "code",
      "execution_count": null,
      "metadata": {
        "id": "XD2sqpvj9ZKt",
        "outputId": "7741b897-a904-467d-96a4-d5dcb1f86166"
      },
      "outputs": [
        {
          "name": "stdout",
          "output_type": "stream",
          "text": [
            "✅ Great job! Exercise completed successfully.\n"
          ]
        }
      ],
      "source": [
        "# Find the maximum value in the NumPy array `max_array` and assign it to `max_value`.\n",
        "@check_numpy_29\n",
        "def numpy_29(max_array):\n",
        "    # This line is mandatory and should not be removed.\n",
        "    ex_stat_init = True\n",
        "\n",
        "    # BELOW GOES YOUR CODE\n",
        "    max_value = max_array.max()\n",
        "    # ABOVE GOES YOUR CODE\n",
        "    return {\"max_value\": max_value}\n",
        "\n",
        "numpy_29()"
      ]
    },
    {
      "cell_type": "code",
      "execution_count": null,
      "metadata": {
        "id": "xaQ7G7yz9ZKt",
        "outputId": "adc97f07-41a8-4029-8b62-7225c0f9eb2d"
      },
      "outputs": [
        {
          "name": "stdout",
          "output_type": "stream",
          "text": [
            "✅ Great job! Exercise completed successfully.\n"
          ]
        }
      ],
      "source": [
        "# Calculate the mean of `mean_array` and store it in `mean_value`.\n",
        "@check_numpy_30\n",
        "def numpy_30(mean_array):\n",
        "    # This line is mandatory and should not be removed.\n",
        "    ex_stat_init = True\n",
        "\n",
        "    # BELOW GOES YOUR CODE\n",
        "    mean_value = mean_array.mean()\n",
        "    # ABOVE GOES YOUR CODE\n",
        "    return {\"mean_value\": mean_value}\n",
        "\n",
        "numpy_30()"
      ]
    },
    {
      "cell_type": "code",
      "execution_count": null,
      "metadata": {
        "id": "hBCHbf_u9ZKt",
        "outputId": "ce4b36d4-b904-4a79-96a6-361bfccaec54"
      },
      "outputs": [
        {
          "name": "stdout",
          "output_type": "stream",
          "text": [
            "✅ Great job! Exercise completed successfully.\n"
          ]
        }
      ],
      "source": [
        "# Calculate the standard deviation of the NumPy array `std_array` and assign it to `std_dev`.\n",
        "@check_numpy_31\n",
        "def numpy_31(std_array):\n",
        "    # This line is mandatory and should not be removed.\n",
        "    ex_stat_init = True\n",
        "\n",
        "    # BELOW GOES YOUR CODE\n",
        "    std_dev = std_array.std()\n",
        "    # ABOVE GOES YOUR CODE\n",
        "    return {\"std_dev\": std_dev}\n",
        "\n",
        "numpy_31()"
      ]
    },
    {
      "cell_type": "code",
      "execution_count": null,
      "metadata": {
        "id": "hdKBg0Te9ZKt",
        "outputId": "03882812-23f6-4a97-8304-7da61ad0b94b"
      },
      "outputs": [
        {
          "name": "stdout",
          "output_type": "stream",
          "text": [
            "✅ Great job! Exercise completed successfully.\n"
          ]
        }
      ],
      "source": [
        "# Compute the square root of each element in `sqrt_array` using `np.sqrt()` and save the result in `sqrt_result`.\n",
        "@check_numpy_32\n",
        "def numpy_32(sqrt_array):\n",
        "    # This line is mandatory and should not be removed.\n",
        "    ex_stat_init = True\n",
        "\n",
        "    # BELOW GOES YOUR CODE\n",
        "    sqrt_result = np.sqrt(sqrt_array)\n",
        "    # ABOVE GOES YOUR CODE\n",
        "    return {\"sqrt_result\": sqrt_result}\n",
        "\n",
        "numpy_32()"
      ]
    },
    {
      "cell_type": "code",
      "execution_count": null,
      "metadata": {
        "id": "zGXPYV9O9ZKt",
        "outputId": "1ec42c7d-8dbc-4f9e-a8c8-ca0f4850a7df"
      },
      "outputs": [
        {
          "name": "stdout",
          "output_type": "stream",
          "text": [
            "✅ Great job! Exercise completed successfully.\n"
          ]
        }
      ],
      "source": [
        "# Calculate the exponential of each element in `exp_array` with `np.exp()` and store it in `exp_result`.\n",
        "@check_numpy_33\n",
        "def numpy_33(exp_array):\n",
        "    # This line is mandatory and should not be removed.\n",
        "    ex_stat_init = True\n",
        "\n",
        "    # BELOW GOES YOUR CODE\n",
        "    exp_result = np.exp(exp_array)\n",
        "    # ABOVE GOES YOUR CODE\n",
        "    return {\"exp_result\": exp_result}\n",
        "\n",
        "numpy_33()"
      ]
    },
    {
      "cell_type": "code",
      "execution_count": null,
      "metadata": {
        "id": "l44rWQNE9ZKt",
        "outputId": "f2db4be7-59dc-46d7-faf7-8af80dd29515"
      },
      "outputs": [
        {
          "name": "stdout",
          "output_type": "stream",
          "text": [
            "✅ Great job! Exercise completed successfully.\n"
          ]
        }
      ],
      "source": [
        "# Compute the natural logarithm of each element in `log_array` with `np.log()` and save it in `log_result`.\n",
        "@check_numpy_34\n",
        "def numpy_34(log_array):\n",
        "    # This line is mandatory and should not be removed.\n",
        "    ex_stat_init = True\n",
        "\n",
        "    # BELOW GOES YOUR CODE\n",
        "    log_result = np.log(log_array)\n",
        "    # ABOVE GOES YOUR CODE\n",
        "    return {\"log_result\": log_result}\n",
        "\n",
        "numpy_34()"
      ]
    },
    {
      "cell_type": "code",
      "execution_count": null,
      "metadata": {
        "id": "INodPtSE9ZKt",
        "outputId": "4d1a216a-667f-4229-a880-732a7fcd4fce"
      },
      "outputs": [
        {
          "name": "stdout",
          "output_type": "stream",
          "text": [
            "✅ Great job! Exercise completed successfully.\n"
          ]
        }
      ],
      "source": [
        "# Calculate the sine of each element in `sin_array` using `np.sin()` and store the result in `sin_result`.\n",
        "@check_numpy_35\n",
        "def numpy_35(sin_array):\n",
        "    # This line is mandatory and should not be removed.\n",
        "    ex_stat_init = True\n",
        "\n",
        "    # BELOW GOES YOUR CODE\n",
        "    sin_result = np.sin(sin_array)\n",
        "    # ABOVE GOES YOUR CODE\n",
        "    return {\"sin_result\": sin_result}\n",
        "\n",
        "numpy_35()"
      ]
    },
    {
      "cell_type": "code",
      "execution_count": null,
      "metadata": {
        "id": "iGJ0V9Qu9ZKt",
        "outputId": "ad549745-37ef-459d-86cf-a33e5c091260"
      },
      "outputs": [
        {
          "name": "stdout",
          "output_type": "stream",
          "text": [
            "✅ Great job! Exercise completed successfully.\n"
          ]
        }
      ],
      "source": [
        "# Compute the cosine of `cos_array` with `np.cos()` and save it in `cos_result`.\n",
        "@check_numpy_36\n",
        "def numpy_36(cos_array):\n",
        "    # This line is mandatory and should not be removed.\n",
        "    ex_stat_init = True\n",
        "\n",
        "    # BELOW GOES YOUR CODE\n",
        "    cos_result = np.cos(cos_array)\n",
        "    # ABOVE GOES YOUR CODE\n",
        "    return {\"cos_result\": cos_result}\n",
        "\n",
        "numpy_36()"
      ]
    },
    {
      "cell_type": "code",
      "execution_count": null,
      "metadata": {
        "id": "V4dwg7wQ9ZKu",
        "outputId": "630ff4a7-8787-443c-9071-a63eacf1a002"
      },
      "outputs": [
        {
          "name": "stdout",
          "output_type": "stream",
          "text": [
            "✅ Great job! Exercise completed successfully.\n"
          ]
        }
      ],
      "source": [
        "# Calculate the tangent of each element in `tan_array` using `np.tan()` and save it in `tan_result`.\n",
        "@check_numpy_37\n",
        "def numpy_37(tan_array):\n",
        "    # This line is mandatory and should not be removed.\n",
        "    ex_stat_init = True\n",
        "\n",
        "    # BELOW GOES YOUR CODE\n",
        "    tan_result = np.tan(tan_array)\n",
        "    # ABOVE GOES YOUR CODE\n",
        "    return {\"tan_result\": tan_result}\n",
        "\n",
        "numpy_37()"
      ]
    },
    {
      "cell_type": "code",
      "execution_count": null,
      "metadata": {
        "id": "lqS9kLy-9ZKu",
        "outputId": "9334fedc-427b-463e-bee8-4fe5863a5044"
      },
      "outputs": [
        {
          "name": "stdout",
          "output_type": "stream",
          "text": [
            "✅ Great job! Exercise completed successfully.\n"
          ]
        }
      ],
      "source": [
        "# Transpose the 2D array `transpose_array` using `np.transpose()` and store in `transposed_array`.\n",
        "@check_numpy_38\n",
        "def numpy_38(transpose_array):\n",
        "    # This line is mandatory and should not be removed.\n",
        "    ex_stat_init = True\n",
        "\n",
        "    # BELOW GOES YOUR CODE\n",
        "    transposed_array = np.transpose(transpose_array)\n",
        "    # ABOVE GOES YOUR CODE\n",
        "    return {\"transposed_array\": transposed_array}\n",
        "\n",
        "numpy_38()"
      ]
    },
    {
      "cell_type": "code",
      "execution_count": null,
      "metadata": {
        "id": "JMnJ-rK29ZKw",
        "outputId": "b47d5a74-0d99-41a7-fc2f-50e0e730f0f7"
      },
      "outputs": [
        {
          "name": "stdout",
          "output_type": "stream",
          "text": [
            "✅ Great job! Exercise completed successfully.\n"
          ]
        }
      ],
      "source": [
        "# Compute the dot product of `vector1` and `vector2` using `np.dot()` and assign the result to `dot_product_result`.\n",
        "@check_numpy_39\n",
        "def numpy_39(vector1, vector2):\n",
        "    # This line is mandatory and should not be removed.\n",
        "    ex_stat_init = True\n",
        "\n",
        "    # BELOW GOES YOUR CODE\n",
        "    dot_product_result = np.dot(vector1,vector2)\n",
        "    # ABOVE GOES YOUR CODE\n",
        "    return {\"dot_product_result\": dot_product_result}\n",
        "\n",
        "numpy_39()"
      ]
    },
    {
      "cell_type": "code",
      "execution_count": null,
      "metadata": {
        "id": "3SIpvTKH9ZKw",
        "outputId": "ed221567-dfe9-485b-c976-d60cb418b93a"
      },
      "outputs": [
        {
          "name": "stdout",
          "output_type": "stream",
          "text": [
            "✅ Great job! Exercise completed successfully.\n"
          ]
        }
      ],
      "source": [
        "# Calculate the inverse of the square matrix `square_matrix` using `np.linalg.inv()` and store it in `inverse_matrix`.\n",
        "@check_numpy_40\n",
        "def numpy_40(square_matrix):\n",
        "    # This line is mandatory and should not be removed.\n",
        "    ex_stat_init = True\n",
        "\n",
        "    # BELOW GOES YOUR CODE\n",
        "    inverse_matrix = np.linalg.inv(square_matrix)\n",
        "    # ABOVE GOES YOUR CODE\n",
        "    return {\"inverse_matrix\": inverse_matrix}\n",
        "\n",
        "numpy_40()"
      ]
    },
    {
      "cell_type": "code",
      "execution_count": null,
      "metadata": {
        "id": "7zXn29Rj9ZKw",
        "outputId": "94d79f56-9ade-4394-c417-b4c26c8c7274"
      },
      "outputs": [
        {
          "name": "stdout",
          "output_type": "stream",
          "text": [
            "✅ Great job! Exercise completed successfully.\n"
          ]
        }
      ],
      "source": [
        "# Find the determinant of the square matrix `det_matrix` using `np.linalg.det()` and assign it to `determinant_value`.\n",
        "@check_numpy_41\n",
        "def numpy_41(det_matrix):\n",
        "    # This line is mandatory and should not be removed.\n",
        "    ex_stat_init = True\n",
        "\n",
        "    # BELOW GOES YOUR CODE\n",
        "    determinant_value = np.linalg.det(det_matrix)\n",
        "    # ABOVE GOES YOUR CODE\n",
        "    return {\"determinant_value\": determinant_value}\n",
        "\n",
        "numpy_41()"
      ]
    },
    {
      "cell_type": "code",
      "execution_count": null,
      "metadata": {
        "id": "mDwEh4oD9ZKx",
        "outputId": "bcfec6d8-17eb-4e8d-95c9-b1f3589e72b2"
      },
      "outputs": [
        {
          "name": "stdout",
          "output_type": "stream",
          "text": [
            "✅ Great job! Exercise completed successfully.\n"
          ]
        }
      ],
      "source": [
        "# Concatenate `array_x` and `array_y` vertically using `np.concatenate()` and save the result in `concat_vertical`.\n",
        "@check_numpy_42\n",
        "def numpy_42(array_x, array_y):\n",
        "    # This line is mandatory and should not be removed.\n",
        "    ex_stat_init = True\n",
        "\n",
        "    # BELOW GOES YOUR CODE\n",
        "    concat_vertical = np.concatenate((array_x,array_y))\n",
        "    # ABOVE GOES YOUR CODE\n",
        "    return {\"concat_vertical\": concat_vertical}\n",
        "\n",
        "numpy_42()"
      ]
    },
    {
      "cell_type": "code",
      "execution_count": null,
      "metadata": {
        "id": "M629pj209ZKx",
        "outputId": "9ffddf80-bdbd-4220-9462-6b058e9fbd7a"
      },
      "outputs": [
        {
          "name": "stdout",
          "output_type": "stream",
          "text": [
            "✅ Great job! Exercise completed successfully.\n"
          ]
        }
      ],
      "source": [
        "# Stack `stack_array1` and `stack_array2` horizontally using `np.hstack()` and assign it to `stacked_horizontal`.\n",
        "@check_numpy_43\n",
        "def numpy_43(stack_array1, stack_array2):\n",
        "    # This line is mandatory and should not be removed.\n",
        "    ex_stat_init = True\n",
        "\n",
        "    # BELOW GOES YOUR CODE\n",
        "    stacked_horizontal = np.hstack((stack_array1,stack_array2))\n",
        "    # ABOVE GOES YOUR CODE\n",
        "    return {\"stacked_horizontal\": stacked_horizontal}\n",
        "\n",
        "numpy_43()"
      ]
    },
    {
      "cell_type": "code",
      "execution_count": null,
      "metadata": {
        "id": "zzpFKdLL9ZKx",
        "outputId": "ce3aede7-6928-4d4f-82bd-897796951106"
      },
      "outputs": [
        {
          "name": "stdout",
          "output_type": "stream",
          "text": [
            "✅ Great job! Exercise completed successfully.\n"
          ]
        }
      ],
      "source": [
        "# Add a scalar `scalar_value` to each element of `broadcast_array` using broadcasting and store in `broadcast_result`.\n",
        "@check_numpy_44\n",
        "def numpy_44(broadcast_array, scalar_value):\n",
        "    # This line is mandatory and should not be removed.\n",
        "    ex_stat_init = True\n",
        "\n",
        "    # BELOW GOES YOUR CODE\n",
        "    broadcast_result = broadcast_array + scalar_value\n",
        "    # ABOVE GOES YOUR CODE\n",
        "    return {\"broadcast_result\": broadcast_result}\n",
        "\n",
        "numpy_44()"
      ]
    },
    {
      "cell_type": "code",
      "execution_count": null,
      "metadata": {
        "id": "9VuSvGhZ9ZKx",
        "outputId": "e3d0b003-f5d3-4239-f655-b6b48c8e54c1"
      },
      "outputs": [
        {
          "name": "stdout",
          "output_type": "stream",
          "text": [
            "✅ Great job! Exercise completed successfully.\n"
          ]
        }
      ],
      "source": [
        "# Given a 1D array `small_array` and a 2D array `large_array`, utilize broadcasting to add them and store the result in `broadcast_sum`.\n",
        "@check_numpy_45\n",
        "def numpy_45(small_array, large_array):\n",
        "    # This line is mandatory and should not be removed.\n",
        "    ex_stat_init = True\n",
        "\n",
        "    # BELOW GOES YOUR CODE\n",
        "    broadcast_sum = large_array+small_array\n",
        "    # ABOVE GOES YOUR CODE\n",
        "    return {\"broadcast_sum\": broadcast_sum}\n",
        "\n",
        "numpy_45()"
      ]
    },
    {
      "cell_type": "code",
      "execution_count": null,
      "metadata": {
        "id": "BSrqvu5I9ZKx",
        "outputId": "eefd9189-ab98-4499-b247-04f97729f164"
      },
      "outputs": [
        {
          "name": "stdout",
          "output_type": "stream",
          "text": [
            "✅ Great job! Exercise completed successfully.\n"
          ]
        }
      ],
      "source": [
        "# Subtract a scalar value `scalar_sub` from each element of `two_d_array`.\n",
        "@check_numpy_46\n",
        "def numpy_46(two_d_array, scalar_sub):\n",
        "    # This line is mandatory and should not be removed.\n",
        "    ex_stat_init = True\n",
        "\n",
        "    # BELOW GOES YOUR CODE\n",
        "    two_d_array = two_d_array - scalar_sub\n",
        "    # ABOVE GOES YOUR CODE\n",
        "    return {\"two_d_array\": two_d_array}\n",
        "\n",
        "numpy_46()"
      ]
    },
    {
      "cell_type": "code",
      "execution_count": null,
      "metadata": {
        "id": "EpPdxJJl9ZKx",
        "outputId": "0608a0e3-279f-482f-f12a-2b78387ce99e"
      },
      "outputs": [
        {
          "name": "stdout",
          "output_type": "stream",
          "text": [
            "✅ Great job! Exercise completed successfully.\n"
          ]
        }
      ],
      "source": [
        "# Given dimensions `dim1`, `dim2`, and `dim3`, create a 3D NumPy array named `random_int_array` containing random integers between 0 and 10.\n",
        "@check_numpy_47\n",
        "def numpy_47(dim1, dim2, dim3):\n",
        "    # This line is mandatory and should not be removed.\n",
        "    ex_stat_init = True\n",
        "\n",
        "    # BELOW GOES YOUR CODE\n",
        "    random_int_array = np.random.randint(0, 11, size=(dim1, dim2, dim3))\n",
        "    # ABOVE GOES YOUR CODE\n",
        "    return {\"random_int_array\": random_int_array}\n",
        "\n",
        "numpy_47()"
      ]
    },
    {
      "cell_type": "code",
      "execution_count": null,
      "metadata": {
        "id": "IOw-MnLw9ZKx",
        "outputId": "4ae1a98f-d817-45d8-ddf3-26006d44501b"
      },
      "outputs": [
        {
          "name": "stdout",
          "output_type": "stream",
          "text": [
            "✅ Great job! Exercise completed successfully.\n"
          ]
        }
      ],
      "source": [
        "# Convert the 2D array `multi_array` into  a 1D array named `flattened`.\n",
        "@check_numpy_48\n",
        "def numpy_48(multi_array):\n",
        "    # This line is mandatory and should not be removed.\n",
        "    ex_stat_init = True\n",
        "\n",
        "    # BELOW GOES YOUR CODE\n",
        "    flattened = multi_array.flatten()\n",
        "    # ABOVE GOES YOUR CODE\n",
        "    return {\"flattened\": flattened}\n",
        "\n",
        "numpy_48()"
      ]
    },
    {
      "cell_type": "code",
      "execution_count": null,
      "metadata": {
        "id": "L6lW9JDU9ZKx",
        "outputId": "d91cd46a-ef2f-4863-a220-f5d7a7ed42d0"
      },
      "outputs": [
        {
          "name": "stdout",
          "output_type": "stream",
          "text": [
            "✅ Great job! Exercise completed successfully.\n"
          ]
        }
      ],
      "source": [
        "# Given a NumPy array `nonzero_array`, use `np.nonzero()` to find indices of non-zero elements and assign them to `nonzero_indices`.\n",
        "@check_numpy_49\n",
        "def numpy_49(nonzero_array):\n",
        "    # This line is mandatory and should not be removed.\n",
        "    ex_stat_init = True\n",
        "\n",
        "    # BELOW GOES YOUR CODE\n",
        "    nonzero_indices = np.nonzero(nonzero_array)\n",
        "    # ABOVE GOES YOUR CODE\n",
        "    return {\"nonzero_indices\": nonzero_indices}\n",
        "\n",
        "numpy_49()"
      ]
    },
    {
      "cell_type": "code",
      "execution_count": null,
      "metadata": {
        "id": "4uujtYOa9ZKy",
        "outputId": "3ccd77d7-ad8b-4c5d-bce3-a0449af08977"
      },
      "outputs": [
        {
          "name": "stdout",
          "output_type": "stream",
          "text": [
            "✅ Great job! Exercise completed successfully.\n"
          ]
        }
      ],
      "source": [
        "# Create a diagonal matrix `diagonal_matrix` with the given 1D array `diag_elements` using `np.diag()`.\n",
        "@check_numpy_50\n",
        "def numpy_50(diag_elements):\n",
        "    # This line is mandatory and should not be removed.\n",
        "    ex_stat_init = True\n",
        "\n",
        "    # BELOW GOES YOUR CODE\n",
        "    diagonal_matrix = np.diag(diag_elements)\n",
        "    # ABOVE GOES YOUR CODE\n",
        "    return {\"diagonal_matrix\": diagonal_matrix}\n",
        "\n",
        "numpy_50()"
      ]
    },
    {
      "cell_type": "code",
      "execution_count": null,
      "metadata": {
        "id": "IFJwKgBL9ZKy",
        "outputId": "50c19b36-dfed-4625-e2ee-712433d3600c"
      },
      "outputs": [
        {
          "name": "stdout",
          "output_type": "stream",
          "text": [
            "✅ Great job! Exercise completed successfully.\n"
          ]
        }
      ],
      "source": [
        "# Update values in `conditional_array` to `new_value` where the condition `np.where_condition` is satisfied, and save it in `updated_array`.\n",
        "@check_numpy_51\n",
        "def numpy_51(conditional_array, np_where_condition, new_value):\n",
        "    # This line is mandatory and should not be removed.\n",
        "    ex_stat_init = True\n",
        "\n",
        "    # BELOW GOES YOUR CODE\n",
        "    updated_array = np.where(np_where_condition, new_value, conditional_array)\n",
        "    # ABOVE GOES YOUR CODE\n",
        "    return {\"updated_array\": updated_array}\n",
        "\n",
        "numpy_51()"
      ]
    },
    {
      "cell_type": "code",
      "execution_count": null,
      "metadata": {
        "id": "AOZNrEPF9ZKy",
        "outputId": "974f4909-abf0-4d5d-c73f-590dfeddcb45"
      },
      "outputs": [
        {
          "name": "stdout",
          "output_type": "stream",
          "text": [
            "✅ Great job! Exercise completed successfully.\n"
          ]
        }
      ],
      "source": [
        "# Given two arrays `max_array_a` and `max_array_b`, compute the element-wise maximum and store it in `element_max`.\n",
        "@check_numpy_52\n",
        "def numpy_52(max_array_a, max_array_b):\n",
        "    # This line is mandatory and should not be removed.\n",
        "    ex_stat_init = True\n",
        "\n",
        "    # BELOW GOES YOUR CODE\n",
        "    element_max = np.maximum(max_array_a, max_array_b)\n",
        "    # ABOVE GOES YOUR CODE\n",
        "    return {\"element_max\": element_max}\n",
        "\n",
        "numpy_52()"
      ]
    },
    {
      "cell_type": "code",
      "execution_count": null,
      "metadata": {
        "id": "ZJzvkKTG9ZKy",
        "outputId": "37641959-1281-4de3-9789-fedab3962412"
      },
      "outputs": [
        {
          "name": "stdout",
          "output_type": "stream",
          "text": [
            "✅ Great job! Exercise completed successfully.\n"
          ]
        }
      ],
      "source": [
        "# Calculate the cumulative sum of elements in `cumsum_array` and assign it to `cumulative_sum`.\n",
        "@check_numpy_53\n",
        "def numpy_53(cumsum_array):\n",
        "    # This line is mandatory and should not be removed.\n",
        "    ex_stat_init = True\n",
        "\n",
        "    # BELOW GOES YOUR CODE\n",
        "    cumulative_sum = np.cumsum(cumsum_array)\n",
        "    # ABOVE GOES YOUR CODE\n",
        "    return {\"cumulative_sum\": cumulative_sum}\n",
        "\n",
        "numpy_53()"
      ]
    },
    {
      "cell_type": "code",
      "execution_count": null,
      "metadata": {
        "id": "Azly7PDS9ZKy",
        "outputId": "d9cf1893-6b98-4338-e86a-f89e91ed4105"
      },
      "outputs": [
        {
          "name": "stdout",
          "output_type": "stream",
          "text": [
            "✅ Great job! Exercise completed successfully.\n"
          ]
        }
      ],
      "source": [
        "# Extract unique elements from the NumPy array `unique_array` and store them in `unique_elements`.\n",
        "@check_numpy_54\n",
        "def numpy_54(unique_array):\n",
        "    # This line is mandatory and should not be removed.\n",
        "    ex_stat_init = True\n",
        "\n",
        "    # BELOW GOES YOUR CODE\n",
        "    unique_elements = np.unique(unique_array)\n",
        "    # ABOVE GOES YOUR CODE\n",
        "    return {\"unique_elements\": unique_elements}\n",
        "\n",
        "numpy_54()"
      ]
    },
    {
      "cell_type": "code",
      "execution_count": null,
      "metadata": {
        "id": "VKXai4dF9ZKy",
        "outputId": "36af20f0-d7ca-442c-8f54-3054ba8f20de"
      },
      "outputs": [
        {
          "name": "stdout",
          "output_type": "stream",
          "text": [
            "✅ Great job! Exercise completed successfully.\n"
          ]
        }
      ],
      "source": [
        "# Sort the array `sort_array` in ascending order and assign it to `sorted_array`.\n",
        "@check_numpy_55\n",
        "def numpy_55(sort_array):\n",
        "    # This line is mandatory and should not be removed.\n",
        "    ex_stat_init = True\n",
        "\n",
        "    # BELOW GOES YOUR CODE\n",
        "    sorted_array = np.sort(sort_array)\n",
        "    # ABOVE GOES YOUR CODE\n",
        "    return {\"sorted_array\": sorted_array}\n",
        "\n",
        "numpy_55()"
      ]
    },
    {
      "cell_type": "code",
      "execution_count": null,
      "metadata": {
        "id": "d4vEoNI99ZKy",
        "outputId": "da0b7e24-559c-419f-d53f-b6b67ff58a55"
      },
      "outputs": [
        {
          "name": "stdout",
          "output_type": "stream",
          "text": [
            "✅ Great job! Exercise completed successfully.\n"
          ]
        }
      ],
      "source": [
        "# Compute the intersection of two arrays `intersect_array1` and `intersect_array2` and save it in `intersection`.\n",
        "@check_numpy_56\n",
        "def numpy_56(intersect_array1, intersect_array2):\n",
        "    # This line is mandatory and should not be removed.\n",
        "    ex_stat_init = True\n",
        "\n",
        "    # BELOW GOES YOUR CODE\n",
        "    intersection = np.intersect1d(intersect_array1, intersect_array2)\n",
        "    # ABOVE GOES YOUR CODE\n",
        "    return {\"intersection\": intersection}\n",
        "\n",
        "numpy_56()"
      ]
    },
    {
      "cell_type": "code",
      "execution_count": null,
      "metadata": {
        "id": "vHNE6Y4m9ZKy",
        "outputId": "251b94a4-cc04-4f04-9813-05e67191be2f"
      },
      "outputs": [
        {
          "name": "stdout",
          "output_type": "stream",
          "text": [
            "✅ Great job! Exercise completed successfully.\n"
          ]
        }
      ],
      "source": [
        "# Join `join_array1`, `join_array2`, and `join_array3` along a new axis using `np.stack()` and store it in `joined_array`.\n",
        "@check_numpy_57\n",
        "def numpy_57(join_array1, join_array2, join_array3):\n",
        "    # This line is mandatory and should not be removed.\n",
        "    ex_stat_init = True\n",
        "\n",
        "    # BELOW GOES YOUR CODE\n",
        "    joined_array = np.stack((join_array1, join_array2, join_array3), axis=0)\n",
        "    # ABOVE GOES YOUR CODE\n",
        "    return {\"joined_array\": joined_array}\n",
        "\n",
        "numpy_57()"
      ]
    },
    {
      "cell_type": "code",
      "execution_count": null,
      "metadata": {
        "id": "JMX8Fu3Q9ZKy",
        "outputId": "291d2335-d012-4801-b424-9f864bbb2586"
      },
      "outputs": [
        {
          "name": "stdout",
          "output_type": "stream",
          "text": [
            "✅ Great job! Exercise completed successfully.\n"
          ]
        }
      ],
      "source": [
        "# Split `split_array` into `num_splits` parts using `np.array_split()` and assign the result to `split_parts`.\n",
        "@check_numpy_58\n",
        "def numpy_58(split_array, num_splits):\n",
        "    # This line is mandatory and should not be removed.\n",
        "    ex_stat_init = True\n",
        "\n",
        "    # BELOW GOES YOUR CODE\n",
        "    split_parts = np.array_split(split_array, num_splits)\n",
        "    # ABOVE GOES YOUR CODE\n",
        "    return {\"split_parts\": split_parts}\n",
        "\n",
        "numpy_58()"
      ]
    },
    {
      "cell_type": "code",
      "execution_count": null,
      "metadata": {
        "id": "PJ9fLHod9ZKz",
        "outputId": "c2aa5336-2e72-4e6e-c95c-46c43b598147"
      },
      "outputs": [
        {
          "name": "stdout",
          "output_type": "stream",
          "text": [
            "✅ Great job! Exercise completed successfully.\n"
          ]
        }
      ],
      "source": [
        "# Count elements in `count_array` that are greater than `threshold` and assign the count to `greater_count`.\n",
        "@check_numpy_59\n",
        "def numpy_59(count_array, threshold):\n",
        "    # This line is mandatory and should not be removed.\n",
        "    ex_stat_init = True\n",
        "\n",
        "    # BELOW GOES YOUR CODE\n",
        "    greater_count = np.sum(count_array > threshold)\n",
        "    # ABOVE GOES YOUR CODE\n",
        "    return {\"greater_count\": greater_count}\n",
        "\n",
        "numpy_59()"
      ]
    },
    {
      "cell_type": "code",
      "execution_count": null,
      "metadata": {
        "id": "qcMKgEN69ZKz",
        "outputId": "0b24f8fa-6d07-40ce-e324-340c96adfb52"
      },
      "outputs": [
        {
          "name": "stdout",
          "output_type": "stream",
          "text": [
            "✅ Great job! Exercise completed successfully.\n"
          ]
        }
      ],
      "source": [
        "# Rotate the 2D array `rotate_array` 90 degrees counterclockwise using `np.rot90()` and store it in `rotated_array`.\n",
        "@check_numpy_60\n",
        "def numpy_60(rotate_array):\n",
        "    # This line is mandatory and should not be removed.\n",
        "    ex_stat_init = True\n",
        "\n",
        "    # BELOW GOES YOUR CODE\n",
        "    rotated_array = np.rot90(rotate_array)\n",
        "    # ABOVE GOES YOUR CODE\n",
        "    return {\"rotated_array\": rotated_array}\n",
        "\n",
        "numpy_60()"
      ]
    },
    {
      "cell_type": "code",
      "execution_count": null,
      "metadata": {
        "id": "oM-NHG0z9ZKz",
        "outputId": "e13f7c48-9e0a-49bc-e1fb-961f597f0a68"
      },
      "outputs": [
        {
          "name": "stdout",
          "output_type": "stream",
          "text": [
            "✅ Great job! Exercise completed successfully.\n"
          ]
        }
      ],
      "source": [
        "# Create an array named `random_float_array` with shape `float_shape` containing random floats between 0 and 1.\n",
        "@check_numpy_61\n",
        "def numpy_61(float_shape):\n",
        "    # This line is mandatory and should not be removed.\n",
        "    ex_stat_init = True\n",
        "\n",
        "    # BELOW GOES YOUR CODE\n",
        "    random_float_array = np.random.rand(*float_shape)\n",
        "    # ABOVE GOES YOUR CODE\n",
        "    return {\"random_float_array\": random_float_array}\n",
        "\n",
        "numpy_61()"
      ]
    },
    {
      "cell_type": "code",
      "execution_count": null,
      "metadata": {
        "id": "jxjTwBZI9ZKz",
        "outputId": "b8977ed4-344c-499a-d82f-9397576b729f"
      },
      "outputs": [
        {
          "name": "stdout",
          "output_type": "stream",
          "text": [
            "✅ Great job! Exercise completed successfully.\n"
          ]
        }
      ],
      "source": [
        "# Compute the median of `median_array` and store it in `median_value`.\n",
        "@check_numpy_62\n",
        "def numpy_62(median_array):\n",
        "    # This line is mandatory and should not be removed.\n",
        "    ex_stat_init = True\n",
        "\n",
        "    # BELOW GOES YOUR CODE\n",
        "    median_value = np.median(median_array)\n",
        "    # ABOVE GOES YOUR CODE\n",
        "    return {\"median_value\": median_value}\n",
        "\n",
        "numpy_62()"
      ]
    },
    {
      "cell_type": "code",
      "execution_count": null,
      "metadata": {
        "id": "wNsRtMXX9ZKz",
        "outputId": "8710c0fb-02a7-462b-b5ec-065cbd9e479d"
      },
      "outputs": [
        {
          "name": "stdout",
          "output_type": "stream",
          "text": [
            "✅ Great job! Exercise completed successfully.\n"
          ]
        }
      ],
      "source": [
        "# Given a complex NumPy array `complex_array`, extract its real and imaginary parts into `real_part` and `imag_part`.\n",
        "@check_numpy_63\n",
        "def numpy_63(complex_array):\n",
        "    # This line is mandatory and should not be removed.\n",
        "    ex_stat_init = True\n",
        "\n",
        "    # BELOW GOES YOUR CODE\n",
        "    real_part = np.real(complex_array)\n",
        "    imag_part = np.imag(complex_array)\n",
        "    # ABOVE GOES YOUR CODE\n",
        "    return {\"real_part\": real_part, \"imag_part\": imag_part}\n",
        "\n",
        "numpy_63()"
      ]
    },
    {
      "cell_type": "code",
      "execution_count": null,
      "metadata": {
        "id": "LS_QRnms9ZKz",
        "outputId": "8775b45e-49cd-43d2-a1fb-25f1a0e0b262"
      },
      "outputs": [
        {
          "name": "stdout",
          "output_type": "stream",
          "text": [
            "✅ Great job! Exercise completed successfully.\n"
          ]
        }
      ],
      "source": [
        "# Normalize the array `norm_array` to have values between 0 and 1, storing the result in `normalized_array`.\n",
        "@check_numpy_64\n",
        "def numpy_64(norm_array):\n",
        "    # This line is mandatory and should not be removed.\n",
        "    ex_stat_init = True\n",
        "\n",
        "    # BELOW GOES YOUR CODE\n",
        "    normalized_array = (norm_array - np.min(norm_array)) / (np.max(norm_array) - np.min(norm_array))\n",
        "    # ABOVE GOES YOUR CODE\n",
        "    return {\"normalized_array\": normalized_array}\n",
        "\n",
        "numpy_64()"
      ]
    },
    {
      "cell_type": "code",
      "execution_count": null,
      "metadata": {
        "id": "jbdPJ3KW9ZKz",
        "outputId": "56f16036-8ffd-4d36-e31d-d49788c05585"
      },
      "outputs": [
        {
          "name": "stdout",
          "output_type": "stream",
          "text": [
            "✅ Great job! Exercise completed successfully.\n"
          ]
        }
      ],
      "source": [
        "# Replace negative elements in `replace_array` with `new_value` using `np.where()` and store in `replaced_array`.\n",
        "@check_numpy_65\n",
        "def numpy_65(replace_array, new_value):\n",
        "    # This line is mandatory and should not be removed.\n",
        "    ex_stat_init = True\n",
        "\n",
        "    # BELOW GOES YOUR CODE\n",
        "    replaced_array = np.where(replace_array < 0, new_value, replace_array)\n",
        "    # ABOVE GOES YOUR CODE\n",
        "    return {\"replaced_array\": replaced_array}\n",
        "\n",
        "numpy_65()"
      ]
    },
    {
      "cell_type": "code",
      "execution_count": null,
      "metadata": {
        "id": "fzuxzxEC9ZKz",
        "outputId": "948f39d4-4954-4d50-a5d7-af0af6a1700b"
      },
      "outputs": [
        {
          "name": "stdout",
          "output_type": "stream",
          "text": [
            "✅ Great job! Exercise completed successfully.\n"
          ]
        }
      ],
      "source": [
        "# Calculate the row-wise total sum for `axis_sum_array` and assign the output to `row_sums`.\n",
        "@check_numpy_66\n",
        "def numpy_66(axis_sum_array):\n",
        "    # This line is mandatory and should not be removed.\n",
        "    ex_stat_init = True\n",
        "\n",
        "    # BELOW GOES YOUR CODE\n",
        "    row_sums = np.sum(axis_sum_array, axis=1)\n",
        "    # ABOVE GOES YOUR CODE\n",
        "    return {\"row_sums\": row_sums}\n",
        "\n",
        "numpy_66()"
      ]
    },
    {
      "cell_type": "code",
      "execution_count": null,
      "metadata": {
        "id": "f25Pv9Wu9ZKz",
        "outputId": "081e6edd-a65e-4c3e-8426-58d497b6caf3"
      },
      "outputs": [
        {
          "name": "stdout",
          "output_type": "stream",
          "text": [
            "✅ Great job! Exercise completed successfully.\n"
          ]
        }
      ],
      "source": [
        "# Produce a matrix `random_matrix` with `matrix_shape` dimensions and random integers from 0 to 100.\n",
        "@check_numpy_67\n",
        "def numpy_67(matrix_shape):\n",
        "    # This line is mandatory and should not be removed.\n",
        "    ex_stat_init = True\n",
        "\n",
        "    # BELOW GOES YOUR CODE\n",
        "    random_matrix = np.random.randint(0, 101, size=matrix_shape)\n",
        "    # ABOVE GOES YOUR CODE\n",
        "    return {\"random_matrix\": random_matrix.shape, \"random_values\": np.any((random_matrix < 0) | (random_matrix > 100))}\n",
        "\n",
        "numpy_67()"
      ]
    },
    {
      "cell_type": "code",
      "execution_count": null,
      "metadata": {
        "id": "YaJOG5Sb9ZK0",
        "outputId": "2bc3d0b5-92ec-409b-b1d7-de4994ef4923"
      },
      "outputs": [
        {
          "name": "stdout",
          "output_type": "stream",
          "text": [
            "✅ Great job! Exercise completed successfully.\n"
          ]
        }
      ],
      "source": [
        "# Raise each element in `base_power_array` to a power specified in `exp_power_array`, element-wise, and store in `powered_array`.\n",
        "@check_numpy_68\n",
        "def numpy_68(base_power_array, exp_power_array):\n",
        "    # This line is mandatory and should not be removed.\n",
        "    ex_stat_init = True\n",
        "\n",
        "    # BELOW GOES YOUR CODE\n",
        "    powered_array = np.power(base_power_array, exp_power_array)\n",
        "    # ABOVE GOES YOUR CODE\n",
        "    return {\"powered_array\": powered_array}\n",
        "\n",
        "numpy_68()"
      ]
    },
    {
      "cell_type": "code",
      "execution_count": null,
      "metadata": {
        "id": "O9tRTfbE9ZK0",
        "outputId": "819e3112-dbd4-4bd8-c723-90921b91a81c"
      },
      "outputs": [
        {
          "name": "stdout",
          "output_type": "stream",
          "text": [
            "✅ Great job! Exercise completed successfully.\n"
          ]
        }
      ],
      "source": [
        "# Detect NaN elements within `nan_array` using `np.isnan()` and assign the position to `nan_indices`.\n",
        "@check_numpy_69\n",
        "def numpy_69(nan_array):\n",
        "    # This line is mandatory and should not be removed.\n",
        "    ex_stat_init = True\n",
        "\n",
        "    # BELOW GOES YOUR CODE\n",
        "    nan_indices = np.isnan(nan_array)\n",
        "    # ABOVE GOES YOUR CODE\n",
        "    return {\"nan_indices\": nan_indices}\n",
        "\n",
        "numpy_69()"
      ]
    },
    {
      "cell_type": "code",
      "execution_count": null,
      "metadata": {
        "id": "nMGZUyf39ZK0",
        "outputId": "fc4191d0-c49a-4565-cacb-9a202f4d21a0"
      },
      "outputs": [
        {
          "name": "stdout",
          "output_type": "stream",
          "text": [
            "✅ Great job! Exercise completed successfully.\n"
          ]
        }
      ],
      "source": [
        "# Replace `NaN` values in `nan_replace_array` with `specific_value` and create `nan_replaced_array`.\n",
        "@check_numpy_70\n",
        "def numpy_70(nan_replace_array, specific_value):\n",
        "    # This line is mandatory and should not be removed.\n",
        "    ex_stat_init = True\n",
        "\n",
        "    # BELOW GOES YOUR CODE\n",
        "    nan_replaced_array = np.nan_to_num(nan_replace_array, nan=specific_value)\n",
        "    # ABOVE GOES YOUR CODE\n",
        "    return {\"nan_replaced_array\": nan_replaced_array}\n",
        "\n",
        "numpy_70()"
      ]
    },
    {
      "cell_type": "code",
      "execution_count": null,
      "metadata": {
        "id": "85q-NKNA9ZK0",
        "outputId": "b919f203-bec9-4c23-c406-cd932dea2138"
      },
      "outputs": [
        {
          "name": "stdout",
          "output_type": "stream",
          "text": [
            "✅ Great job! Exercise completed successfully.\n"
          ]
        }
      ],
      "source": [
        "# Construct an upper triangular version of `triangular_matrix` using `np.triu()`.\n",
        "@check_numpy_71\n",
        "def numpy_71(triangular_matrix):\n",
        "    # This line is mandatory and should not be removed.\n",
        "    ex_stat_init = True\n",
        "\n",
        "    # BELOW GOES YOUR CODE\n",
        "    upper_triangular = np.triu(triangular_matrix)\n",
        "    # ABOVE GOES YOUR CODE\n",
        "    return {\"upper_triangular\": upper_triangular}\n",
        "\n",
        "numpy_71()"
      ]
    },
    {
      "cell_type": "code",
      "execution_count": null,
      "metadata": {
        "id": "xcNKF8vP9ZK0",
        "outputId": "b14af8b4-d3b8-42a6-dea9-22e91a869d1f"
      },
      "outputs": [
        {
          "name": "stdout",
          "output_type": "stream",
          "text": [
            "✅ Great job! Exercise completed successfully.\n"
          ]
        }
      ],
      "source": [
        "# Calculate the `percentile_value` percentile of elements in `percentile_array` and set the result to `percentile_result`.\n",
        "@check_numpy_72\n",
        "def numpy_72(percentile_array, percentile_value):\n",
        "    # This line is mandatory and should not be removed.\n",
        "    ex_stat_init = True\n",
        "\n",
        "    # BELOW GOES YOUR CODE\n",
        "    percentile_result = np.percentile(percentile_array, percentile_value)\n",
        "    # ABOVE GOES YOUR CODE\n",
        "    return {\"percentile_result\": percentile_result}\n",
        "\n",
        "numpy_72()"
      ]
    },
    {
      "cell_type": "code",
      "execution_count": null,
      "metadata": {
        "id": "KU1Cloav9ZK0",
        "outputId": "13fa991a-3344-460e-ac35-ca0676cc7fd1"
      },
      "outputs": [
        {
          "name": "stdout",
          "output_type": "stream",
          "text": [
            "✅ Great job! Exercise completed successfully.\n"
          ]
        }
      ],
      "source": [
        "# Calculate the trace (sum of diagonals) of the matrix `trace_matrix` using `np.trace()`.\n",
        "@check_numpy_73\n",
        "def numpy_73(trace_matrix):\n",
        "    # This line is mandatory and should not be removed.\n",
        "    ex_stat_init = True\n",
        "\n",
        "    # BELOW GOES YOUR CODE\n",
        "    trace_value = np.trace(trace_matrix)\n",
        "    # ABOVE GOES YOUR CODE\n",
        "    return {\"trace_value\": trace_value}\n",
        "\n",
        "numpy_73()"
      ]
    },
    {
      "cell_type": "code",
      "execution_count": null,
      "metadata": {
        "id": "fs1Xj_nm9ZK0",
        "outputId": "58ca4d6d-6292-43a9-d05d-1d3b846873bf"
      },
      "outputs": [
        {
          "name": "stdout",
          "output_type": "stream",
          "text": [
            "✅ Great job! Exercise completed successfully.\n"
          ]
        }
      ],
      "source": [
        "# Compute the index of the maximum value in `index_max_array` and store it in `max_index`.\n",
        "@check_numpy_74\n",
        "def numpy_74(index_max_array):\n",
        "    # This line is mandatory and should not be removed.\n",
        "    ex_stat_init = True\n",
        "\n",
        "    # BELOW GOES YOUR CODE\n",
        "    max_index = np.argmax(index_max_array)\n",
        "    # ABOVE GOES YOUR CODE\n",
        "    return {\"max_index\": max_index}\n",
        "\n",
        "numpy_74()"
      ]
    },
    {
      "cell_type": "code",
      "execution_count": null,
      "metadata": {
        "id": "5FyOvaNT9ZK0",
        "outputId": "eb08eda8-b52a-4c11-f30a-defcfc053e90"
      },
      "outputs": [
        {
          "name": "stdout",
          "output_type": "stream",
          "text": [
            "✅ Great job! Exercise completed successfully.\n"
          ]
        }
      ],
      "source": [
        "# Find the index of the minimum value in `index_min_array` and assign it to `min_index`.\n",
        "@check_numpy_75\n",
        "def numpy_75(index_min_array):\n",
        "    # This line is mandatory and should not be removed.\n",
        "    ex_stat_init = True\n",
        "\n",
        "    # BELOW GOES YOUR CODE\n",
        "    min_index = np.argmin(index_min_array)\n",
        "    # ABOVE GOES YOUR CODE\n",
        "    return {\"min_index\": min_index}\n",
        "\n",
        "numpy_75()"
      ]
    },
    {
      "cell_type": "code",
      "execution_count": null,
      "metadata": {
        "id": "pfr4w6Zn9ZK0",
        "outputId": "82e1ed84-1c6c-48ee-fa89-ba94b1fde3b1"
      },
      "outputs": [
        {
          "name": "stdout",
          "output_type": "stream",
          "text": [
            "✅ Great job! Exercise completed successfully.\n"
          ]
        }
      ],
      "source": [
        "# Perform an element-wise comparison of `compare_array1` and `compare_array2` using `np.equ al()` and assign to `comparison_result`.\n",
        "@check_numpy_76\n",
        "def numpy_76(compare_array1, compare_array2):\n",
        "    # This line is mandatory and should not be removed.\n",
        "    ex_stat_init = True\n",
        "\n",
        "    # BELOW GOES YOUR CODE\n",
        "    comparison_result = np.equal(compare_array1, compare_array2)\n",
        "    # ABOVE GOES YOUR CODE\n",
        "    return {\"comparison_result\": comparison_result}\n",
        "\n",
        "numpy_76()"
      ]
    },
    {
      "cell_type": "code",
      "execution_count": null,
      "metadata": {
        "id": "pzHeLUkN9ZK1",
        "outputId": "0c38180b-536a-43eb-dbea-e604155c0cc4"
      },
      "outputs": [
        {
          "name": "stdout",
          "output_type": "stream",
          "text": [
            "✅ Great job! Exercise completed successfully.\n"
          ]
        }
      ],
      "source": [
        "# Perform the matrix multiplication between two arrays `mat_mult_a` and `mat_mult_b` and store the result in `matrix_product`.\n",
        "@check_numpy_77\n",
        "def numpy_77(mat_mult_a, mat_mult_b):\n",
        "    # This line is mandatory and should not be removed.\n",
        "    ex_stat_init = True\n",
        "\n",
        "    # BELOW GOES YOUR CODE\n",
        "    matrix_product = np.dot(mat_mult_a, mat_mult_b)\n",
        "    # ABOVE GOES YOUR CODE\n",
        "    return {\"matrix_product\": matrix_product}\n",
        "\n",
        "numpy_77()"
      ]
    },
    {
      "cell_type": "code",
      "execution_count": null,
      "metadata": {
        "id": "m97ktihD9ZK1",
        "outputId": "fbb9f8a0-2474-4b9e-8579-98bf6ec0eb9a"
      },
      "outputs": [
        {
          "name": "stdout",
          "output_type": "stream",
          "text": [
            "✅ Great job! Exercise completed successfully.\n"
          ]
        }
      ],
      "source": [
        "# Extract the diagonal of `diag_matrix` using `np.diag()` and store it in `matrix_diagonal`.\n",
        "@check_numpy_78\n",
        "def numpy_78(diag_matrix):\n",
        "    # This line is mandatory and should not be removed.\n",
        "    ex_stat_init = True\n",
        "\n",
        "    # BELOW GOES YOUR CODE\n",
        "    matrix_diagonal = np.diag(diag_matrix)\n",
        "    # ABOVE GOES YOUR CODE\n",
        "    return {\"matrix_diagonal\": matrix_diagonal}\n",
        "\n",
        "numpy_78()"
      ]
    },
    {
      "cell_type": "code",
      "execution_count": null,
      "metadata": {
        "id": "q1iY4S2t9ZK1",
        "outputId": "8d94fd09-83d0-490d-a820-d16820b53c35"
      },
      "outputs": [
        {
          "name": "stdout",
          "output_type": "stream",
          "text": [
            "✅ Great job! Exercise completed successfully.\n"
          ]
        }
      ],
      "source": [
        "# Clip `clip_array` such that all its values fall between `min_clip` and `max_clip`, saving the result in `clipped_array`.\n",
        "@check_numpy_79\n",
        "def numpy_79(clip_array, min_clip, max_clip):\n",
        "    # This line is mandatory and should not be removed.\n",
        "    ex_stat_init = True\n",
        "\n",
        "    # BELOW GOES YOUR CODE\n",
        "    clipped_array = np.clip(clip_array, min_clip, max_clip)\n",
        "    # ABOVE GOES YOUR CODE\n",
        "    return {\"clipped_array\": clipped_array}\n",
        "\n",
        "numpy_79()"
      ]
    },
    {
      "cell_type": "code",
      "execution_count": null,
      "metadata": {
        "id": "ciKPBOaq9ZK1",
        "outputId": "90fb4b6b-8946-4684-a683-9f9e05e61249"
      },
      "outputs": [
        {
          "name": "stdout",
          "output_type": "stream",
          "text": [
            "✅ Great job! Exercise completed successfully.\n"
          ]
        }
      ],
      "source": [
        "# Flip `flip_array` along the specified axis `flip_axis` using `np.flip()` and assign to `flipped_array`.\n",
        "@check_numpy_80\n",
        "def numpy_80(flip_array, flip_axis):\n",
        "    # This line is mandatory and should not be removed.\n",
        "    ex_stat_init = True\n",
        "\n",
        "    # BELOW GOES YOUR CODE\n",
        "    flipped_array = np.flip(flip_array, axis=flip_axis)\n",
        "    # ABOVE GOES YOUR CODE\n",
        "    return {\"flipped_array\": flipped_array}\n",
        "\n",
        "numpy_80()"
      ]
    },
    {
      "cell_type": "code",
      "execution_count": null,
      "metadata": {
        "id": "XoBYpUpQ9ZK1",
        "outputId": "93516cf4-0590-4b2f-ce5c-da230dd205c3"
      },
      "outputs": [
        {
          "name": "stdout",
          "output_type": "stream",
          "text": [
            "✅ Great job! Exercise completed successfully.\n"
          ]
        }
      ],
      "source": [
        "# Simulate rolling a six-sided die `num_rolls` times to generate an array `dice_rolls`.\n",
        "@check_numpy_81\n",
        "def numpy_81(num_rolls):\n",
        "    # This line is mandatory and should not be removed.\n",
        "    ex_stat_init = True\n",
        "\n",
        "    # BELOW GOES YOUR CODE\n",
        "    dice_rolls = np.random.randint(1, 7, size=num_rolls)\n",
        "    # ABOVE GOES YOUR CODE\n",
        "    return {\"dice_rolls\": dice_rolls}\n",
        "\n",
        "numpy_81()"
      ]
    },
    {
      "cell_type": "code",
      "execution_count": null,
      "metadata": {
        "id": "0l6mJata9ZK1",
        "outputId": "7d3ab364-6284-4139-8806-13a0ba83e1f9"
      },
      "outputs": [
        {
          "name": "stdout",
          "output_type": "stream",
          "text": [
            "✅ Great job! Exercise completed successfully.\n"
          ]
        }
      ],
      "source": [
        "# Given two arrays `logical_array_a` and `logical_array_b`, perform a logical `and` operation and save result in `logical_and_result`.\n",
        "@check_numpy_82\n",
        "def numpy_82(logical_array_a, logical_array_b):\n",
        "    # This line is mandatory and should not be removed.\n",
        "    ex_stat_init = True\n",
        "\n",
        "    # BELOW GOES YOUR CODE\n",
        "    logical_and_result = np.logical_and(logical_array_a, logical_array_b)\n",
        "    # ABOVE GOES YOUR CODE\n",
        "    return {\"logical_and_result\": logical_and_result}\n",
        "\n",
        "numpy_82()"
      ]
    },
    {
      "cell_type": "code",
      "execution_count": null,
      "metadata": {
        "id": "Z4yUsetT9ZK1",
        "outputId": "6205ab38-6f4a-42a4-cf96-f5c7c97796e8"
      },
      "outputs": [
        {
          "name": "stdout",
          "output_type": "stream",
          "text": [
            "✅ Great job! Exercise completed successfully.\n"
          ]
        }
      ],
      "source": [
        "# Reverse the elements in `reverse_array` and store the result in `reversed_array`.\n",
        "@check_numpy_83\n",
        "def numpy_83(reverse_array):\n",
        "    # This line is mandatory and should not be removed.\n",
        "    ex_stat_init = True\n",
        "\n",
        "    # BELOW GOES YOUR CODE\n",
        "    reversed_array = reverse_array[::-1]\n",
        "    # ABOVE GOES YOUR CODE\n",
        "    return {\"reversed_array\": reversed_array}\n",
        "\n",
        "numpy_83()"
      ]
    },
    {
      "cell_type": "code",
      "execution_count": null,
      "metadata": {
        "id": "GR2sg1M39ZK1",
        "outputId": "bd95cc97-245c-457d-faab-36980f15c24c"
      },
      "outputs": [
        {
          "name": "stdout",
          "output_type": "stream",
          "text": [
            "✅ Great job! Exercise completed successfully.\n"
          ]
        }
      ],
      "source": [
        "# Compute the cross-product of vectors `vector_a` and `vector_b` and store it in `cross_product_result`.\n",
        "@check_numpy_84\n",
        "def numpy_84(vector_a, vector_b):\n",
        "    # This line is mandatory and should not be removed.\n",
        "    ex_stat_init = True\n",
        "\n",
        "    # BELOW GOES YOUR CODE\n",
        "    cross_product_result = np.cross(vector_a, vector_b)\n",
        "    # ABOVE GOES YOUR CODE\n",
        "    return {\"cross_product_result\": cross_product_result}\n",
        "\n",
        "numpy_84()"
      ]
    },
    {
      "cell_type": "code",
      "execution_count": null,
      "metadata": {
        "id": "1RTKswY09ZK2",
        "outputId": "cb819e9b-c587-404a-8f57-f64ce83faa10"
      },
      "outputs": [
        {
          "name": "stdout",
          "output_type": "stream",
          "text": [
            "✅ Great job! Exercise completed successfully.\n"
          ]
        }
      ],
      "source": [
        "# Use `np.vstack()` to vertically stack `vert_stack_a` and `vert_stack_b` and assign to `vertically_stacked`.\n",
        "@check_numpy_85\n",
        "def numpy_85(vert_stack_a, vert_stack_b):\n",
        "    # This line is mandatory and should not be removed.\n",
        "    ex_stat_init = True\n",
        "\n",
        "    # BELOW GOES YOUR CODE\n",
        "    vertically_stacked = np.vstack((vert_stack_a, vert_stack_b))\n",
        "    # ABOVE GOES YOUR CODE\n",
        "    return {\"vertically_stacked\": vertically_stacked}\n",
        "\n",
        "numpy_85()"
      ]
    },
    {
      "cell_type": "code",
      "execution_count": null,
      "metadata": {
        "id": "qKnLtwCD9ZK2",
        "outputId": "d9fa4fc1-9ff1-4dc3-a2a8-28b16751e874"
      },
      "outputs": [
        {
          "name": "stdout",
          "output_type": "stream",
          "text": [
            "✅ Great job! Exercise completed successfully.\n"
          ]
        }
      ],
      "source": [
        "# Create a `checkered_matrix` of size `check_size` with alternating zeros and ones.\n",
        "@check_numpy_86\n",
        "def numpy_86(check_size):\n",
        "    # This line is mandatory and should not be removed.\n",
        "    ex_stat_init = True\n",
        "\n",
        "    # BELOW GOES YOUR CODE\n",
        "    checkered_matrix = np.zeros(check_size)\n",
        "    checkered_matrix[1::2, ::2] = 1\n",
        "    checkered_matrix[::2, 1::2] = 1\n",
        "    # ABOVE GOES YOUR CODE\n",
        "    return {\"checkered_matrix\": checkered_matrix}\n",
        "\n",
        "numpy_86()"
      ]
    },
    {
      "cell_type": "code",
      "execution_count": null,
      "metadata": {
        "id": "QXLU3GUU9ZK2",
        "outputId": "880bdfb6-c60d-4a71-9891-e082fd910df2"
      },
      "outputs": [
        {
          "name": "stdout",
          "output_type": "stream",
          "text": [
            "✅ Great job! Exercise completed successfully.\n"
          ]
        }
      ],
      "source": [
        "# Determine the rank of `rank_matrix` using `np.linalg.matrix_rank()`.\n",
        "@check_numpy_87\n",
        "def numpy_87(rank_matrix):\n",
        "    # This line is mandatory and should not be removed.\n",
        "    ex_stat_init = True\n",
        "\n",
        "    # BELOW GOES YOUR CODE\n",
        "    matrix_rank = np.linalg.matrix_rank(rank_matrix)\n",
        "    # ABOVE GOES YOUR CODE\n",
        "    return {\"matrix_rank\": matrix_rank}\n",
        "\n",
        "numpy_87()"
      ]
    },
    {
      "cell_type": "code",
      "execution_count": null,
      "metadata": {
        "id": "O3dZmWpJ9ZK2",
        "outputId": "32efd8eb-b6d1-4529-cb1a-588d3e2143dc"
      },
      "outputs": [
        {
          "name": "stdout",
          "output_type": "stream",
          "text": [
            "✅ Great job! Exercise completed successfully.\n"
          ]
        }
      ],
      "source": [
        "# Extract all non-diagonal elements from `non_diag_matrix` and store them in `off_diagonal`.\n",
        "@check_numpy_88\n",
        "def numpy_88(non_diag_matrix):\n",
        "    # This line is mandatory and should not be removed.\n",
        "    ex_stat_init = True\n",
        "\n",
        "    # BELOW GOES YOUR CODE\n",
        "    diagonal_mask = np.eye(non_diag_matrix.shape[0], dtype=bool)\n",
        "    off_diagonal = non_diag_matrix[~diagonal_mask]\n",
        "    # ABOVE GOES YOUR CODE\n",
        "    return {\"off_diagonal\": off_diagonal}\n",
        "\n",
        "numpy_88()"
      ]
    },
    {
      "cell_type": "code",
      "execution_count": null,
      "metadata": {
        "id": "pIT3E0fE9ZK2",
        "outputId": "db88cee3-7bd2-4243-e393-b843c25f561d"
      },
      "outputs": [
        {
          "name": "stdout",
          "output_type": "stream",
          "text": [
            "✅ Great job! Exercise completed successfully.\n"
          ]
        }
      ],
      "source": [
        "# Create a boolean mask `boolean_mask` for the array `mask_less_array` with elements less than `threshold_value`.\n",
        "@check_numpy_89\n",
        "def numpy_89(mask_less_array, threshold_value):\n",
        "    # This line is mandatory and should not be removed.\n",
        "    ex_stat_init = True\n",
        "\n",
        "    # BELOW GOES YOUR CODE\n",
        "    boolean_mask = mask_less_array < threshold_value\n",
        "    # ABOVE GOES YOUR CODE\n",
        "    return {\"boolean_mask\": boolean_mask}\n",
        "\n",
        "numpy_89()"
      ]
    },
    {
      "cell_type": "code",
      "execution_count": null,
      "metadata": {
        "id": "qW79sky29ZK2",
        "outputId": "7654b172-6514-4a1b-a097-f27c8d3ecd32"
      },
      "outputs": [
        {
          "name": "stdout",
          "output_type": "stream",
          "text": [
            "✅ Great job! Exercise completed successfully.\n"
          ]
        }
      ],
      "source": [
        "# Compute the cumulative product of `cumprod_array` and assign the result to `cumulative_product`.\n",
        "@check_numpy_90\n",
        "def numpy_90(cumprod_array):\n",
        "    # This line is mandatory and should not be removed.\n",
        "    ex_stat_init = True\n",
        "\n",
        "    # BELOW GOES YOUR CODE\n",
        "    cumulative_product = np.cumprod(cumprod_array)\n",
        "    # ABOVE GOES YOUR CODE\n",
        "    return {\"cumulative_product\": cumulative_product}\n",
        "\n",
        "numpy_90()"
      ]
    },
    {
      "cell_type": "code",
      "execution_count": null,
      "metadata": {
        "id": "5Z6y9PLK9ZK2",
        "outputId": "1bd2395c-69db-4b20-fd88-4a044a04e7d8"
      },
      "outputs": [
        {
          "name": "stdout",
          "output_type": "stream",
          "text": [
            "✅ Great job! Exercise completed successfully.\n"
          ]
        }
      ],
      "source": [
        "# Calculate the absolute differences between `abs_diff_a1` and `abs_diff_a2`, storing the result in `absolute_diff`.\n",
        "@check_numpy_91\n",
        "def numpy_91(abs_diff_a1, abs_diff_a2):\n",
        "    # This line is mandatory and should not be removed.\n",
        "    ex_stat_init = True\n",
        "\n",
        "    # BELOW GOES YOUR CODE\n",
        "    absolute_diff = np.abs(abs_diff_a1 - abs_diff_a2)\n",
        "    # ABOVE GOES YOUR CODE\n",
        "    return {\"absolute_diff\": absolute_diff}\n",
        "\n",
        "numpy_91()"
      ]
    },
    {
      "cell_type": "code",
      "execution_count": null,
      "metadata": {
        "id": "FXKLoYBo9ZK2",
        "outputId": "4a76b8fe-4d54-41f6-ca52-2b7d6d2630ca"
      },
      "outputs": [
        {
          "name": "stdout",
          "output_type": "stream",
          "text": [
            "✅ Great job! Exercise completed successfully.\n"
          ]
        }
      ],
      "source": [
        "# Check if `elem_equal_a` and `elem_equal_b` are element-wise equal and store the boolean result in `elementwise_equality`.\n",
        "@check_numpy_92\n",
        "def numpy_92(elem_equal_a, elem_equal_b):\n",
        "    # This line is mandatory and should not be removed.\n",
        "    ex_stat_init = True\n",
        "\n",
        "    # BELOW GOES YOUR CODE\n",
        "    elementwise_equality = np.array_equal(elem_equal_a, elem_equal_b)\n",
        "    # ABOVE GOES YOUR CODE\n",
        "    return {\"elementwise_equality\": elementwise_equality}\n",
        "\n",
        "numpy_92()"
      ]
    },
    {
      "cell_type": "code",
      "execution_count": null,
      "metadata": {
        "id": "UfdTjn1L9ZK2",
        "outputId": "ba2272cd-31b3-4ca7-be24-852dc4bd020f"
      },
      "outputs": [
        {
          "name": "stdout",
          "output_type": "stream",
          "text": [
            "✅ Great job! Exercise completed successfully.\n"
          ]
        }
      ],
      "source": [
        "# Create `filtered_within_range` by extracting values from `range_filter_array` that are between `lower_bound` and `upper_bound`.\n",
        "@check_numpy_93\n",
        "def numpy_93(range_filter_array, lower_bound, upper_bound):\n",
        "    # This line is mandatory and should not be removed.\n",
        "    ex_stat_init = True\n",
        "\n",
        "    # BELOW GOES YOUR CODE\n",
        "    filtered_within_range = range_filter_array[(range_filter_array >= lower_bound) & (range_filter_array <= upper_bound)]\n",
        "    # ABOVE GOES YOUR CODE\n",
        "    return {\"filtered_within_range\": filtered_within_range}\n",
        "\n",
        "numpy_93()"
      ]
    },
    {
      "cell_type": "code",
      "execution_count": null,
      "metadata": {
        "id": "XVn-snky9ZK2",
        "outputId": "c56e6ed9-7067-4e33-add2-384fea4baaa9"
      },
      "outputs": [
        {
          "name": "stdout",
          "output_type": "stream",
          "text": [
            "✅ Great job! Exercise completed successfully.\n"
          ]
        }
      ],
      "source": [
        "# Multiply a 1D array `broad_1d` with each row of a 2D array `broad_2d`, and store the result in `broadcast_mult_result`.\n",
        "@check_numpy_94\n",
        "def numpy_94(broad_1d, broad_2d):\n",
        "    # This line is mandatory and should not be removed.\n",
        "    ex_stat_init = True\n",
        "\n",
        "    # BELOW GOES YOUR CODE\n",
        "    broadcast_mult_result = broad_2d * broad_1d\n",
        "    # ABOVE GOES YOUR CODE\n",
        "    return {\"broadcast_mult_result\": broadcast_mult_result}\n",
        "\n",
        "numpy_94()"
      ]
    },
    {
      "cell_type": "code",
      "execution_count": null,
      "metadata": {
        "id": "6UIsITZl9ZK3",
        "outputId": "7a6b0a00-ef57-4e43-85bb-34c415066814"
      },
      "outputs": [
        {
          "name": "stdout",
          "output_type": "stream",
          "text": [
            "✅ Great job! Exercise completed successfully.\n"
          ]
        }
      ],
      "source": [
        "# Multiply a 1D array `broad_1d` with each row of a 2D array `broad_2d`, and store the result in `broadcast_mult_result`.\n",
        "@check_numpy_95\n",
        "def numpy_95(broad_1d, broad_2d):\n",
        "    # This line is mandatory and should not be removed.\n",
        "    ex_stat_init = True\n",
        "\n",
        "    # BELOW GOES YOUR CODE\n",
        "    broadcast_mult_result = broad_2d * broad_1d[np.newaxis, :]\n",
        "    # ABOVE GOES YOUR CODE\n",
        "    return {\"broadcast_mult_result\": broadcast_mult_result}\n",
        "\n",
        "numpy_95()"
      ]
    },
    {
      "cell_type": "code",
      "execution_count": null,
      "metadata": {
        "id": "NN2HkeoO9ZK3",
        "outputId": "2a46d87a-12a8-418b-bf62-63a35fc92f83"
      },
      "outputs": [
        {
          "name": "stdout",
          "output_type": "stream",
          "text": [
            "✅ Great job! Exercise completed successfully.\n"
          ]
        }
      ],
      "source": [
        "# Apply logarithm base 10 to `log10_array` using `np.log10()` and save the result in `log10_result`.\n",
        "@check_numpy_96\n",
        "def numpy_96(log10_array):\n",
        "    # This line is mandatory and should not be removed.\n",
        "    ex_stat_init = True\n",
        "\n",
        "    # BELOW GOES YOUR CODE\n",
        "    log10_result = np.log10(log10_array)\n",
        "    # ABOVE GOES YOUR CODE\n",
        "    return {\"log10_result\": log10_result}\n",
        "\n",
        "numpy_96()"
      ]
    },
    {
      "cell_type": "code",
      "execution_count": null,
      "metadata": {
        "id": "21LfS1Qu9ZK3",
        "outputId": "4b083a36-fb1c-4168-8a26-10756a0c205b"
      },
      "outputs": [
        {
          "name": "stdout",
          "output_type": "stream",
          "text": [
            "✅ Great job! Exercise completed successfully.\n"
          ]
        }
      ],
      "source": [
        "# Form a lower triangular matrix from `lower_tri_matrix` using `np.tril()`.\n",
        "@check_numpy_97\n",
        "def numpy_97(lower_tri_matrix):\n",
        "    # This line is mandatory and should not be removed.\n",
        "    ex_stat_init = True\n",
        "\n",
        "    # BELOW GOES YOUR CODE\n",
        "    lower_triangular = np.tril(lower_tri_matrix)\n",
        "    # ABOVE GOES YOUR CODE\n",
        "    return {\"lower_triangular\": lower_triangular}\n",
        "\n",
        "numpy_97()"
      ]
    },
    {
      "cell_type": "code",
      "execution_count": null,
      "metadata": {
        "id": "Yh9omFTw9ZK3",
        "outputId": "0e31c816-c299-415d-d036-169f5823652f"
      },
      "outputs": [
        {
          "name": "stdout",
          "output_type": "stream",
          "text": [
            "✅ Great job! Exercise completed successfully.\n"
          ]
        }
      ],
      "source": [
        "# Determine if there are any `True` elements in `bool_array`, assigning the result to `any_true`.\n",
        "@check_numpy_98\n",
        "def numpy_98(bool_array):\n",
        "    # This line is mandatory and should not be removed.\n",
        "    ex_stat_init = True\n",
        "\n",
        "    # BELOW GOES YOUR CODE\n",
        "    any_true = np.any(bool_array)\n",
        "    # ABOVE GOES YOUR CODE\n",
        "    return {\"any_true\": any_true}\n",
        "\n",
        "numpy_98()"
      ]
    },
    {
      "cell_type": "code",
      "execution_count": null,
      "metadata": {
        "id": "wq7ifYNH9ZK3",
        "outputId": "6cc2dba0-e000-49e7-9ffc-dcc6dd7f7c60"
      },
      "outputs": [
        {
          "name": "stdout",
          "output_type": "stream",
          "text": [
            "✅ Great job! Exercise completed successfully.\n"
          ]
        }
      ],
      "source": [
        "# Check if all elements in `bool_check_array` are `True`, and store the result in `all_true`.\n",
        "@check_numpy_99\n",
        "def numpy_99(bool_check_array):\n",
        "    # This line is mandatory and should not be removed.\n",
        "    ex_stat_init = True\n",
        "\n",
        "    # BELOW GOES YOUR CODE\n",
        "    all_true = np.all(bool_check_array)\n",
        "    # ABOVE GOES YOUR CODE\n",
        "    return {\"all_true\": all_true}\n",
        "\n",
        "numpy_99()"
      ]
    },
    {
      "cell_type": "code",
      "execution_count": null,
      "metadata": {
        "id": "Zs_HLRgB9ZK3",
        "outputId": "18c0ffb3-a633-4a42-ca8e-db1e13f1abe9"
      },
      "outputs": [
        {
          "name": "stdout",
          "output_type": "stream",
          "text": [
            "✅ Great job! Exercise completed successfully.\n"
          ]
        }
      ],
      "source": [
        "# Given two vectors `cos_vector_a` and `cos_vector_b`, calculate the cosine similarity and store it in `cosine_similarity`.\n",
        "@check_numpy_100\n",
        "def numpy_100(cos_vector_a, cos_vector_b):\n",
        "    # This line is mandatory and should not be removed.\n",
        "    ex_stat_init = True\n",
        "\n",
        "    # BELOW GOES YOUR CODE\n",
        "    cosine_similarity = np.dot(cos_vector_a, cos_vector_b) / (np.linalg.norm(cos_vector_a) * np.linalg.norm(cos_vector_b))\n",
        "    # ABOVE GOES YOUR CODE\n",
        "    return {\"cosine_similarity\": cosine_similarity}\n",
        "\n",
        "numpy_100()"
      ]
    },
    {
      "cell_type": "code",
      "execution_count": null,
      "metadata": {
        "id": "dOl2cYUH9ZK3",
        "outputId": "dcbadd1c-d47b-4cfd-dfe6-00c668cb1598"
      },
      "outputs": [
        {
          "name": "stdout",
          "output_type": "stream",
          "text": [
            "✅ Great job! Exercise completed successfully.\n"
          ]
        }
      ],
      "source": [
        "# Create a function named `reverse_sort_numpy` that takes a NumPy array `arr`, reverses it, removes duplicate elements using NumPy, and returns a sorted version of the array.\n",
        "@check_numpy_101\n",
        "def numpy_101():\n",
        "    # This line is mandatory and should not be removed.\n",
        "    ex_stat_init = True\n",
        "\n",
        "    # BELOW GOES YOUR CODE\n",
        "    def reverse_sort_numpy(arr):\n",
        "        reversed_arr = arr[::-1]\n",
        "        unique_arr = np.unique(reversed_arr)\n",
        "        return np.sort(unique_arr)\n",
        "    # ABOVE GOES YOUR CODE\n",
        "    return {\"reverse_sort_numpy\": reverse_sort_numpy}\n",
        "\n",
        "numpy_101()"
      ]
    },
    {
      "cell_type": "code",
      "execution_count": null,
      "metadata": {
        "id": "SbpbUsqg9ZK3",
        "outputId": "4e0e1a28-926f-4a43-b56b-8c15fb652308"
      },
      "outputs": [
        {
          "name": "stdout",
          "output_type": "stream",
          "text": [
            "✅ Great job! Exercise completed successfully.\n"
          ]
        }
      ],
      "source": [
        "# Write a function `normalize_scale_numpy` that takes a NumPy array `arr` and a range `min_val`, `max_val`. Use NumPy to normalize the array to the range [0, 1], then scale it to the given range, and return the resulting array.\n",
        "@check_numpy_102\n",
        "def numpy_102():\n",
        "    # This line is mandatory and should not be removed.\n",
        "    ex_stat_init = True\n",
        "\n",
        "    # BELOW GOES YOUR CODE\n",
        "    def normalize_scale_numpy(arr, min_val, max_val):\n",
        "        normalized_arr = (arr - arr.min()) / (arr.max() - arr.min())\n",
        "        scaled_arr = normalized_arr * (max_val - min_val) + min_val\n",
        "        return scaled_arr\n",
        "    # ABOVE GOES YOUR CODE\n",
        "    return {\"normalize_scale_numpy\": normalize_scale_numpy}\n",
        "\n",
        "numpy_102()"
      ]
    },
    {
      "cell_type": "code",
      "execution_count": null,
      "metadata": {
        "id": "LSxPX9869ZK3",
        "outputId": "3e4db932-a2e9-4f1b-f546-543b88153189"
      },
      "outputs": [
        {
          "name": "stdout",
          "output_type": "stream",
          "text": [
            "✅ Great job! Exercise completed successfully.\n"
          ]
        }
      ],
      "source": [
        "# Develop a function `filter_average_numpy` that takes a NumPy array `data` and a threshold `limit`. Use NumPy to filter elements greater than `limit`, compute their average, and return this average.\n",
        "@check_numpy_103\n",
        "def numpy_103():\n",
        "    # This line is mandatory and should not be removed.\n",
        "    ex_stat_init = True\n",
        "\n",
        "    # BELOW GOES YOUR CODE\n",
        "    def filter_average_numpy(data, limit):\n",
        "        filtered_data = data[data > limit]\n",
        "        return np.mean(filtered_data) if filtered_data.size > 0 else np.nan\n",
        "    # ABOVE GOES YOUR CODE\n",
        "    return {\"filter_average_numpy\": filter_average_numpy}\n",
        "\n",
        "numpy_103()"
      ]
    },
    {
      "cell_type": "code",
      "execution_count": null,
      "metadata": {
        "id": "DNpFurRL9ZK4",
        "outputId": "25ec0665-0c7f-4088-9349-500ce412b958"
      },
      "outputs": [
        {
          "name": "stdout",
          "output_type": "stream",
          "text": [
            "✅ Great job! Exercise completed successfully.\n"
          ]
        }
      ],
      "source": [
        "# Create a function `capitalize_count_numpy` that converts a NumPy array of strings `sentence_array` to capitalize each string's first letter, counts the number of elements, and returns a tuple containing the modified array and the count.\n",
        "@check_numpy_104\n",
        "def numpy_104():\n",
        "    # This line is mandatory and should not be removed.\n",
        "    ex_stat_init = True\n",
        "\n",
        "    # BELOW GOES YOUR CODE\n",
        "    def capitalize_count_numpy(sentence_array):\n",
        "        capitalized_array = np.char.capitalize(sentence_array)\n",
        "        return capitalized_array, capitalized_array.size\n",
        "    # ABOVE GOES YOUR CODE\n",
        "    return {\"capitalize_count_numpy\": capitalize_count_numpy}\n",
        "\n",
        "numpy_104()"
      ]
    },
    {
      "cell_type": "code",
      "execution_count": null,
      "metadata": {
        "id": "GR1yVW8v9ZK4",
        "outputId": "5cf64c97-dcb6-4214-e854-81f202f5c7b7"
      },
      "outputs": [
        {
          "name": "stdout",
          "output_type": "stream",
          "text": [
            "✅ Great job! Exercise completed successfully.\n"
          ]
        }
      ],
      "source": [
        "# Implement a function `clean_categorize_numpy` that processes a NumPy array of strings `items` by stripping spaces and converting to lowercase with NumPy operations, classifying them into 'short' if under 5 characters or 'long' otherwise, returning the counts in a dictionary.\n",
        "@check_numpy_105\n",
        "def numpy_105():\n",
        "    # This line is mandatory and should not be removed.\n",
        "    ex_stat_init = True\n",
        "\n",
        "    # BELOW GOES YOUR CODE\n",
        "    def clean_categorize_numpy(items):\n",
        "        cleaned_items = np.char.strip(np.char.lower(items))\n",
        "        categories = np.where(np.char.str_len(cleaned_items) < 5, 'short', 'long')\n",
        "        unique, counts = np.unique(categories, return_counts=True)\n",
        "        return dict(zip(unique, counts))\n",
        "    # ABOVE GOES YOUR CODE\n",
        "    return {\"clean_categorize_numpy\": clean_categorize_numpy}\n",
        "\n",
        "numpy_105()"
      ]
    },
    {
      "cell_type": "code",
      "execution_count": null,
      "metadata": {
        "id": "UuQfvDOm9ZK4",
        "outputId": "7dc7a37f-4a13-4b03-f16c-6421b835c5fe"
      },
      "outputs": [
        {
          "name": "stdout",
          "output_type": "stream",
          "text": [
            "✅ Great job! Exercise completed successfully.\n"
          ]
        }
      ],
      "source": [
        "# Write a function `remove_outliers_stats_numpy` that takes a NumPy array `num_array`, removes outliers more than two standard deviations from the mean using NumPy, and returns a dictionary with 'mean', 'std', and 'filtered' keys.\n",
        "@check_numpy_106\n",
        "def numpy_106():\n",
        "    # This line is mandatory and should not be removed.\n",
        "    ex_stat_init = True\n",
        "\n",
        "    # BELOW GOES YOUR CODE\n",
        "    def remove_outliers_stats_numpy(num_array):\n",
        "        mean = np.mean(num_array)\n",
        "        std = np.std(num_array)\n",
        "        filtered = num_array[(num_array >= mean - 2 * std) & (num_array <= mean + 2 * std)]\n",
        "        return {'mean': mean, 'std': std, 'filtered': filtered}\n",
        "    # ABOVE GOES YOUR CODE\n",
        "    return {\"remove_outliers_stats_numpy\": remove_outliers_stats_numpy}\n",
        "\n",
        "numpy_106()"
      ]
    },
    {
      "cell_type": "code",
      "execution_count": null,
      "metadata": {
        "id": "oJl9Zkhs9ZK4",
        "outputId": "b5db428e-995f-4fcb-b2df-f6d7eccefef7"
      },
      "outputs": [
        {
          "name": "stdout",
          "output_type": "stream",
          "text": [
            "✅ Great job! Exercise completed successfully.\n"
          ]
        }
      ],
      "source": [
        "# Create a function `unique_sorted_numpy` that accepts a NumPy array `word_arr`. Use NumPy to remove duplicates, sort them alphabetically, and return the sorted array.\n",
        "@check_numpy_107\n",
        "def numpy_107():\n",
        "    # This line is mandatory and should not be removed.\n",
        "    ex_stat_init = True\n",
        "\n",
        "    # BELOW GOES YOUR CODE\n",
        "    def unique_sorted_numpy(word_arr):\n",
        "        unique_elements = np.unique(word_arr)\n",
        "        sorted_elements = np.sort(unique_elements)\n",
        "        return sorted_elements\n",
        "    # ABOVE GOES YOUR CODE\n",
        "    return {\"unique_sorted_numpy\": unique_sorted_numpy}\n",
        "\n",
        "numpy_107()"
      ]
    },
    {
      "cell_type": "code",
      "execution_count": null,
      "metadata": {
        "id": "5fLvXFkm9ZK4",
        "outputId": "ed91959d-8311-4347-cd58-37cbb406f654"
      },
      "outputs": [
        {
          "name": "stdout",
          "output_type": "stream",
          "text": [
            "✅ Great job! Exercise completed successfully.\n"
          ]
        }
      ],
      "source": [
        "# Implement a function `format_join_numpy` that takes a NumPy array of strings `words_array`, uses NumPy to title case each word, filter words less than 4 characters, and joins them with a hyphen, returning the final string.\n",
        "@check_numpy_108\n",
        "def numpy_108():\n",
        "    # This line is mandatory and should not be removed.\n",
        "    ex_stat_init = True\n",
        "\n",
        "    # BELOW GOES YOUR CODE\n",
        "    def format_join_numpy(words_array):\n",
        "        title_case_words = np.char.title(words_array)\n",
        "        filtered_words = title_case_words[np.char.str_len(title_case_words) >= 4]\n",
        "        return '-'.join(filtered_words)\n",
        "    # ABOVE GOES YOUR CODE\n",
        "    return {\"format_join_numpy\": format_join_numpy}\n",
        "\n",
        "numpy_108()"
      ]
    },
    {
      "cell_type": "code",
      "execution_count": null,
      "metadata": {
        "id": "LhKR4mL69ZK4",
        "outputId": "cd327fc3-d57d-42e6-ff2a-134a64cd218c"
      },
      "outputs": [
        {
          "name": "stdout",
          "output_type": "stream",
          "text": [
            "✅ Great job! Exercise completed successfully.\n"
          ]
        }
      ],
      "source": [
        "# Write a function `classify_numbers_numpy` that takes a NumPy array `nums`. Use NumPy functions to detect prime numbers and separate them from non-prime numbers, returning both as arrays.\n",
        "@check_numpy_109\n",
        "def numpy_109():\n",
        "    # This line is mandatory and should not be removed.\n",
        "    ex_stat_init = True\n",
        "\n",
        "    # BELOW GOES YOUR CODE\n",
        "    def is_prime(num):\n",
        "        if num < 2:\n",
        "            return False\n",
        "        for i in range(2, int(np.sqrt(num)) + 1):\n",
        "            if num % i == 0:\n",
        "                return False\n",
        "        return True\n",
        "\n",
        "    def classify_numbers_numpy(nums):\n",
        "        prime_numbers = []\n",
        "        non_prime_numbers = []\n",
        "\n",
        "        for num in nums:\n",
        "            if is_prime(num):\n",
        "                prime_numbers.append(num)\n",
        "            else:\n",
        "                non_prime_numbers.append(num)\n",
        "\n",
        "        return np.array(prime_numbers), np.array(non_prime_numbers)\n",
        "    # ABOVE GOES YOUR CODE\n",
        "    return {\"classify_numbers_numpy\": classify_numbers_numpy}\n",
        "\n",
        "numpy_109()"
      ]
    },
    {
      "cell_type": "code",
      "execution_count": null,
      "metadata": {
        "id": "eDQKDRAC9ZK4",
        "outputId": "aa08b708-66ce-47c3-84e2-e5fe152365b9"
      },
      "outputs": [
        {
          "name": "stdout",
          "output_type": "stream",
          "text": [
            "✅ Great job! Exercise completed successfully.\n"
          ]
        }
      ],
      "source": [
        "# Develop a function `flatten_filter_numpy` that accepts a NumPy array of arrays `list_of_arrays`, flattens it using NumPy, filters out numbers less than 10 using NumPy, and returns the filtered flat array.\n",
        "@check_numpy_110\n",
        "def numpy_110():\n",
        "    # This line is mandatory and should not be removed.\n",
        "    ex_stat_init = True\n",
        "\n",
        "    # BELOW GOES YOUR CODE\n",
        "    def flatten_filter_numpy(list_of_arrays):\n",
        "        flat_array = np.concatenate(list_of_arrays)\n",
        "        filtered_array = flat_array[flat_array >= 10]\n",
        "        return filtered_array\n",
        "    # ABOVE GOES YOUR CODE\n",
        "    return {\"flatten_filter_numpy\": flatten_filter_numpy}\n",
        "\n",
        "numpy_110()"
      ]
    },
    {
      "cell_type": "code",
      "execution_count": null,
      "metadata": {
        "id": "wJfEgGdD9ZK4",
        "outputId": "bb2bcf84-0aa7-46d8-dcc7-25751a791e38"
      },
      "outputs": [
        {
          "name": "stdout",
          "output_type": "stream",
          "text": [
            "✅ Great job! Exercise completed successfully.\n"
          ]
        }
      ],
      "source": [
        "# Create a function `square_filter_negatives_numpy` that takes a NumPy array `arr`, squares each element using NumPy array operations, removes negative elements, and returns the resulting array.\n",
        "@check_numpy_111\n",
        "def numpy_111():\n",
        "    # This line is mandatory and should not be removed.\n",
        "    ex_stat_init = True\n",
        "\n",
        "    # BELOW GOES YOUR CODE\n",
        "    def square_filter_negatives_numpy(arr):\n",
        "        squared_array = np.square(arr)\n",
        "        filtered_array = squared_array[squared_array >= 0]\n",
        "        return filtered_array\n",
        "    # ABOVE GOES YOUR CODE\n",
        "    return {\"square_filter_negatives_numpy\": square_filter_negatives_numpy}\n",
        "\n",
        "numpy_111()"
      ]
    },
    {
      "cell_type": "code",
      "execution_count": null,
      "metadata": {
        "id": "deCZ2Bw29ZK4",
        "outputId": "6cf5dc55-8747-48fd-8056-ae2e5fb5b24c"
      },
      "outputs": [
        {
          "name": "stdout",
          "output_type": "stream",
          "text": [
            "✅ Great job! Exercise completed successfully.\n"
          ]
        }
      ],
      "source": [
        "# Implement a function `divide_round_numpy` that takes a NumPy array `values` and a divisor `d`. Divide each element using NumPy, round to two decimal places, and return the resulting array.\n",
        "@check_numpy_112\n",
        "def numpy_112():\n",
        "    # This line is mandatory and should not be removed.\n",
        "    ex_stat_init = True\n",
        "\n",
        "    # BELOW GOES YOUR CODE\n",
        "    def divide_round_numpy(values, d):\n",
        "        divided_array = values / d\n",
        "        rounded_array = np.round(divided_array, 2)\n",
        "        return rounded_array\n",
        "    # ABOVE GOES YOUR CODE\n",
        "    return {\"divide_round_numpy\": divide_round_numpy}\n",
        "\n",
        "numpy_112()"
      ]
    },
    {
      "cell_type": "code",
      "execution_count": null,
      "metadata": {
        "id": "ZVrWHc7x9ZK4",
        "outputId": "b36f709a-8324-4f7a-c122-328c7003e71f"
      },
      "outputs": [
        {
          "name": "stdout",
          "output_type": "stream",
          "text": [
            "✅ Great job! Exercise completed successfully.\n"
          ]
        }
      ],
      "source": [
        "# Write a function `zip_sum_numpy` that takes two NumPy arrays `array1` and `array2`, adds each corresponding element (pair) using NumPy, and returns a new array of these sums.\n",
        "@check_numpy_113\n",
        "def numpy_113():\n",
        "    # This line is mandatory and should not be removed.\n",
        "    ex_stat_init = True\n",
        "\n",
        "    # BELOW GOES YOUR CODE\n",
        "    def zip_sum_numpy(array1, array2):\n",
        "        summed_array = np.add(array1, array2)\n",
        "        return summed_array\n",
        "    # ABOVE GOES YOUR CODE\n",
        "    return {\"zip_sum_numpy\": zip_sum_numpy}\n",
        "\n",
        "numpy_113()"
      ]
    },
    {
      "cell_type": "code",
      "execution_count": null,
      "metadata": {
        "id": "-UA9_JlV9ZK5",
        "outputId": "d5785f2c-bb7f-4082-9c5b-22a6e4f64c1b"
      },
      "outputs": [
        {
          "name": "stdout",
          "output_type": "stream",
          "text": [
            "✅ Great job! Exercise completed successfully.\n"
          ]
        }
      ],
      "source": [
        "# Create a function `binary_classification_numpy` that takes an array `classes` with values `0` and `1`. Use NumPy to count each, calculate their percentages, and return a dictionary with this data.\n",
        "@check_numpy_114\n",
        "def numpy_114():\n",
        "    # This line is mandatory and should not be removed.\n",
        "    ex_stat_init = True\n",
        "\n",
        "    # BELOW GOES YOUR CODE\n",
        "    def binary_classification_numpy(classes):\n",
        "        count_0 = np.sum(classes == 0)\n",
        "        count_1 = np.sum(classes == 1)\n",
        "        total = len(classes)\n",
        "        percentage_0 = (count_0 / total) * 100 if total > 0 else 0\n",
        "        percentage_1 = (count_1 / total) * 100 if total > 0 else 0\n",
        "        return {'count_0': count_0, 'percentage_0': percentage_0, 'count_1': count_1, 'percentage_1': percentage_1}\n",
        "    # ABOVE GOES YOUR CODE\n",
        "    return {\"binary_classification_numpy\": binary_classification_numpy}\n",
        "\n",
        "numpy_114()"
      ]
    },
    {
      "cell_type": "code",
      "execution_count": null,
      "metadata": {
        "id": "CQ64vVHS9ZK5",
        "outputId": "b709b72b-5698-42a0-d95c-232b186bea11"
      },
      "outputs": [
        {
          "name": "stdout",
          "output_type": "stream",
          "text": [
            "✅ Great job! Exercise completed successfully.\n"
          ]
        }
      ],
      "source": [
        "# Develop a function `parse_convert_dates_numpy` that processes a NumPy array of date strings `date_strs` in `MM/DD/YYYY` format, converting them into `YYYY-MM-DD` using NumPy, sorting them, and returning the sorted array.\n",
        "@check_numpy_115\n",
        "def numpy_115():\n",
        "    # This line is mandatory and should not be removed.\n",
        "    ex_stat_init = True\n",
        "\n",
        "    # BELOW GOES YOUR CODE\n",
        "    def parse_convert_dates_numpy(date_strs):\n",
        "        from datetime import datetime\n",
        "        parsed_dates = np.array([datetime.strptime(date, '%m/%d/%Y').strftime('%Y-%m-%d') for date in date_strs])\n",
        "        sorted_dates = np.sort(parsed_dates)\n",
        "        return sorted_dates\n",
        "    # ABOVE GOES YOUR CODE\n",
        "    return {\"parse_convert_dates_numpy\": parse_convert_dates_numpy}\n",
        "\n",
        "numpy_115()"
      ]
    },
    {
      "cell_type": "code",
      "execution_count": null,
      "metadata": {
        "id": "AWqjTHZe9ZK5",
        "outputId": "c77fb2f5-4cbe-4dd6-d20a-306695b91133"
      },
      "outputs": [
        {
          "name": "stdout",
          "output_type": "stream",
          "text": [
            "✅ Great job! Exercise completed successfully.\n"
          ]
        }
      ],
      "source": [
        "# Implement a function `interleave_double_numpy` that accepts two NumPy arrays `arr1` and `arr2`. Use NumPy to interleave elements, double elements from `arr2`, and return the final array.\n",
        "@check_numpy_116\n",
        "def numpy_116():\n",
        "    # This line is mandatory and should not be removed.\n",
        "    ex_stat_init = True\n",
        "\n",
        "    # BELOW GOES YOUR CODE\n",
        "    def interleave_double_numpy(arr1, arr2):\n",
        "        doubled_arr2 = arr2 * 2\n",
        "        interleaved = np.empty(arr1.size + doubled_arr2.size, dtype=arr1.dtype)\n",
        "        interleaved[0::2] = arr1\n",
        "        interleaved[1::2] = doubled_arr2\n",
        "        return interleaved\n",
        "    # ABOVE GOES YOUR CODE\n",
        "    return {\"interleave_double_numpy\": interleave_double_numpy}\n",
        "\n",
        "numpy_116()"
      ]
    },
    {
      "cell_type": "code",
      "execution_count": null,
      "metadata": {
        "id": "9L5ekPOI9ZK5",
        "outputId": "7cee5173-214c-478b-ad7e-02c3c38ba8fe"
      },
      "outputs": [
        {
          "name": "stdout",
          "output_type": "stream",
          "text": [
            "✅ Great job! Exercise completed successfully.\n"
          ]
        }
      ],
      "source": [
        "# Write a function `group_count_numpy` that takes a NumPy array of strings `str_arr`. Use NumPy to group by length, calculate the occurrence count of each length, and return a dictionary with lengths as keys and counts as values.\n",
        "@check_numpy_117\n",
        "def numpy_117():\n",
        "    # This line is mandatory and should not be removed.\n",
        "    ex_stat_init = True\n",
        "\n",
        "    # BELOW GOES YOUR CODE\n",
        "    def group_count_numpy(str_arr):\n",
        "        lengths = np.vectorize(len)(str_arr)\n",
        "        unique_lengths, counts = np.unique(lengths, return_counts=True)\n",
        "        return dict(zip(unique_lengths, counts))\n",
        "    # ABOVE GOES YOUR CODE\n",
        "    return {\"group_count_numpy\": group_count_numpy}\n",
        "\n",
        "numpy_117()"
      ]
    },
    {
      "cell_type": "code",
      "execution_count": null,
      "metadata": {
        "id": "HFxYZlUG9ZK5",
        "outputId": "0206d35e-cefa-43f4-9466-7d8e40e636a7"
      },
      "outputs": [
        {
          "name": "stdout",
          "output_type": "stream",
          "text": [
            "✅ Great job! Exercise completed successfully.\n"
          ]
        }
      ],
      "source": [
        "# Create a function `remove_false_combine_numpy` that processes two NumPy boolean arrays `bool_arr1` and `bool_arr2`. Remove `False` entries using NumPy, concatenate them, and return the combined array.\n",
        "@check_numpy_118\n",
        "def numpy_118():\n",
        "    # This line is mandatory and should not be removed.\n",
        "    ex_stat_init = True\n",
        "\n",
        "    # BELOW GOES YOUR CODE\n",
        "    def remove_false_combine_numpy(bool_arr1, bool_arr2):\n",
        "        combined_array = np.concatenate((bool_arr1[bool_arr1], bool_arr2[bool_arr2]))\n",
        "        return combined_array\n",
        "    # ABOVE GOES YOUR CODE\n",
        "    return {\"remove_false_combine_numpy\": remove_false_combine_numpy}\n",
        "\n",
        "numpy_118()"
      ]
    },
    {
      "cell_type": "code",
      "execution_count": null,
      "metadata": {
        "id": "LL5c2tdj9ZK5",
        "outputId": "801c45ef-5e5c-4d3d-a97a-a58fdb5e860f"
      },
      "outputs": [
        {
          "name": "stdout",
          "output_type": "stream",
          "text": [
            "✅ Great job! Exercise completed successfully.\n"
          ]
        }
      ],
      "source": [
        "# Develop a function `check_palindrome_reverse_numpy` that takes a NumPy array of strings `strs`, uses NumPy to filter out non-alphabetic, checks for palindromes, and returns the strings in reverse order.\n",
        "@check_numpy_119\n",
        "def numpy_119():\n",
        "    # This line is mandatory and should not be removed.\n",
        "    ex_stat_init = True\n",
        "\n",
        "    # BELOW GOES YOUR CODE\n",
        "    def check_palindrome_reverse_numpy(strs):\n",
        "        def is_palindrome(s):\n",
        "            s = s.lower()\n",
        "            return s == s[::-1]\n",
        "\n",
        "        palindromes = [s for s in strs if s.isalpha() and is_palindrome(s)]\n",
        "        return np.array(palindromes[::-1])\n",
        "    # ABOVE GOES YOUR CODE\n",
        "    return {\"check_palindrome_reverse_numpy\": check_palindrome_reverse_numpy}\n",
        "\n",
        "numpy_119()"
      ]
    },
    {
      "cell_type": "code",
      "execution_count": null,
      "metadata": {
        "id": "CDQxUufQ9ZK5",
        "outputId": "ab4c2320-518b-4b3e-bbfc-17f64787e3bf"
      },
      "outputs": [
        {
          "name": "stdout",
          "output_type": "stream",
          "text": [
            "✅ Great job! Exercise completed successfully.\n"
          ]
        }
      ],
      "source": [
        "# Implement a function `find_duplicates_unique_numpy` that accepts a NumPy array `elements`, identifies duplicates using NumPy, separates from unique elements, and returns a tuple of duplicate and unique arrays.\n",
        "@check_numpy_120\n",
        "def numpy_120():\n",
        "    # This line is mandatory and should not be removed.\n",
        "    ex_stat_init = True\n",
        "\n",
        "    # BELOW GOES YOUR CODE\n",
        "    def find_duplicates_unique_numpy(elements):\n",
        "        unique_elements, counts = np.unique(elements, return_counts=True)\n",
        "        duplicates = unique_elements[counts > 1]\n",
        "        unique = unique_elements[counts == 1]\n",
        "        return duplicates, unique\n",
        "    # ABOVE GOES YOUR CODE\n",
        "    return {\"find_duplicates_unique_numpy\": find_duplicates_unique_numpy}\n",
        "\n",
        "numpy_120()"
      ]
    },
    {
      "cell_type": "code",
      "execution_count": null,
      "metadata": {
        "id": "IKiRiT9a9ZK5",
        "outputId": "745f4bd7-16bc-42c8-9e4c-41ed8845439d"
      },
      "outputs": [
        {
          "name": "stdout",
          "output_type": "stream",
          "text": [
            "✅ Great job! Exercise completed successfully.\n"
          ]
        }
      ],
      "source": [
        "# Write a function `scale_match_numpy` that takes two NumPy arrays `arr_a` and `arr_b`, scales each by their respective maximum with NumPy, and returns `True` if they are identical, otherwise `False`.\n",
        "@check_numpy_121\n",
        "def numpy_121():\n",
        "    # This line is mandatory and should not be removed.\n",
        "    ex_stat_init = True\n",
        "\n",
        "    # BELOW GOES YOUR CODE\n",
        "    def scale_match_numpy(arr_a, arr_b):\n",
        "        scaled_a = arr_a / np.max(arr_a)\n",
        "        scaled_b = arr_b / np.max(arr_b)\n",
        "        return np.array_equal(scaled_a, scaled_b)\n",
        "    # ABOVE GOES YOUR CODE\n",
        "    return {\"scale_match_numpy\": scale_match_numpy}\n",
        "\n",
        "numpy_121()"
      ]
    },
    {
      "cell_type": "code",
      "execution_count": null,
      "metadata": {
        "id": "cQCFm_rN9ZK5",
        "outputId": "e73ed635-aa9d-4b6f-99d4-5f41d016b9b2"
      },
      "outputs": [
        {
          "name": "stdout",
          "output_type": "stream",
          "text": [
            "✅ Great job! Exercise completed successfully.\n"
          ]
        }
      ],
      "source": [
        "# Create a function `calculate_ratios_sort_numpy` that takes two NumPy arrays `numers` and `denoms`. Calculate ratios using NumPy, sort them, and return a new array of sorted ratios.\n",
        "@check_numpy_122\n",
        "def numpy_122():\n",
        "    # This line is mandatory and should not be removed.\n",
        "    ex_stat_init = True\n",
        "\n",
        "    # BELOW GOES YOUR CODE\n",
        "    def calculate_ratios_sort_numpy(numers, denoms):\n",
        "        ratios = numers / denoms\n",
        "        sorted_ratios = np.sort(ratios)\n",
        "        return sorted_ratios\n",
        "    # ABOVE GOES YOUR CODE\n",
        "    return {\"calculate_ratios_sort_numpy\": calculate_ratios_sort_numpy}\n",
        "\n",
        "numpy_122()"
      ]
    },
    {
      "cell_type": "code",
      "execution_count": null,
      "metadata": {
        "id": "Lrb8Ogrb9ZK5",
        "outputId": "357d120a-a1d7-4c40-eea8-4d79c4cfd639"
      },
      "outputs": [
        {
          "name": "stdout",
          "output_type": "stream",
          "text": [
            "❗ The implementation is incorrect or the exercise was not implemented.\n"
          ]
        }
      ],
      "source": [
        "# Develop a function `decode_filter_numpy` that processes a NumPy array `codes`, decodes using NumPy string operations, filters messages containing digits, and returns the cleaned array.\n",
        "@check_numpy_123\n",
        "def numpy_123():\n",
        "    # This line is mandatory and should not be removed.\n",
        "    ex_stat_init = True\n",
        "\n",
        "    # BELOW GOES YOUR CODE\n",
        "    def decode_filter_numpy(codes, encoding='utf-8'):\n",
        "        decoded = np.char.decode(codes, encoding=encoding)\n",
        "        mask = np.char.isdigit(decoded) == False\n",
        "        filtered = decoded[mask]\n",
        "        return filtered\n",
        "    # ABOVE GOES YOUR CODE\n",
        "    return {\"decode_filter_numpy\": decode_filter_numpy}\n",
        "\n",
        "numpy_123()"
      ]
    },
    {
      "cell_type": "code",
      "execution_count": null,
      "metadata": {
        "id": "3kAW2uy29ZK6",
        "outputId": "3b7986c3-2a4f-4049-c8a7-71def7620969"
      },
      "outputs": [
        {
          "name": "stdout",
          "output_type": "stream",
          "text": [
            "✅ Great job! Exercise completed successfully.\n"
          ]
        }
      ],
      "source": [
        "# Implement a function `sync_sum_json_numpy` that takes two JSON-like dictionaries `data1` and `data2`, synchronizes with NumPy by common keys, sums values, and returns the resulting dictionary.\n",
        "@check_numpy_124\n",
        "def numpy_124():\n",
        "    # This line is mandatory and should not be removed.\n",
        "    ex_stat_init = True\n",
        "\n",
        "    # BELOW GOES YOUR CODE\n",
        "    def sync_sum_json_numpy(data1, data2):\n",
        "        keys = set(data1.keys()).union(set(data2.keys()))\n",
        "        result = {}\n",
        "        for key in keys:\n",
        "            value1 = data1.get(key, 0)\n",
        "            value2 = data2.get(key, 0)\n",
        "            result[key] = np.sum([value1, value2])\n",
        "        return result\n",
        "    # ABOVE GOES YOUR CODE\n",
        "    return {\"sync_sum_json_numpy\": sync_sum_json_numpy}\n",
        "\n",
        "numpy_124()"
      ]
    },
    {
      "cell_type": "code",
      "execution_count": null,
      "metadata": {
        "id": "hWTGuo7s9ZK6",
        "outputId": "27d76522-fc52-4383-fa2e-50b13fa1c497"
      },
      "outputs": [
        {
          "name": "stdout",
          "output_type": "stream",
          "text": [
            "✅ Great job! Exercise completed successfully.\n"
          ]
        }
      ],
      "source": [
        "# Write a function `tokenize_compare_numpy` that takes two NumPy string arrays `para1` and `para2`, tokenizes using NumPy, calculates the set difference with NumPy, and returns a list of unique words in one array.\n",
        "@check_numpy_125\n",
        "def numpy_125():\n",
        "    # This line is mandatory and should not be removed.\n",
        "    ex_stat_init = True\n",
        "\n",
        "    # BELOW GOES YOUR CODE\n",
        "    def tokenize_compare_numpy(para1, para2):\n",
        "        tokens1 = np.char.split(para1)\n",
        "        tokens2 = np.char.split(para2)\n",
        "\n",
        "        unique_words = set()\n",
        "\n",
        "        for token_list in tokens1:\n",
        "            unique_words.update(token_list)\n",
        "\n",
        "        for token_list in tokens2:\n",
        "            unique_words.difference_update(token_list)\n",
        "\n",
        "        return list(unique_words)\n",
        "    # ABOVE GOES YOUR CODE\n",
        "    return {\"tokenize_compare_numpy\": tokenize_compare_numpy}\n",
        "\n",
        "numpy_125()"
      ]
    }
  ],
  "metadata": {
    "colab": {
      "provenance": []
    },
    "kernelspec": {
      "display_name": "Python 3",
      "language": "python",
      "name": "python3"
    },
    "language_info": {
      "codemirror_mode": {
        "name": "ipython",
        "version": 3
      },
      "file_extension": ".py",
      "mimetype": "text/x-python",
      "name": "python",
      "nbconvert_exporter": "python",
      "pygments_lexer": "ipython3",
      "version": "3.12.6"
    }
  },
  "nbformat": 4,
  "nbformat_minor": 0
}